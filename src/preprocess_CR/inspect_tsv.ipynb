{
 "cells": [
  {
   "cell_type": "code",
   "execution_count": 2,
   "metadata": {},
   "outputs": [],
   "source": [
    "import csv"
   ]
  },
  {
   "cell_type": "code",
   "execution_count": 10,
   "metadata": {},
   "outputs": [],
   "source": [
    "with open('../../data/interim/bill_mentions/mentions_111.tsv') as file:\n",
    "    reader = csv.DictReader(file, dialect=csv.excel_tab)\n",
    "    data = [r for r in reader]"
   ]
  },
  {
   "cell_type": "code",
   "execution_count": 11,
   "metadata": {},
   "outputs": [
    {
     "data": {
      "text/plain": [
       "{'Aamodt Litigation Settlement Act',\n",
       " 'Access to Justice Act',\n",
       " 'American Conservation and Clean Energy Independence Act',\n",
       " 'American Energy Innovation Act',\n",
       " 'Americans Want to Work Act',\n",
       " 'Amtrak Secure Transportation of Firearms Act',\n",
       " 'Appalachian Veterans Outreach Improvement Act',\n",
       " 'Assuring Quality Care for Veterans Act',\n",
       " 'Auto Stock for Every Taxpayer Act',\n",
       " 'Carbon Monoxide Poisoning Prevention Act',\n",
       " 'Caregiver Assistance and Resource Enhancement Act',\n",
       " 'Chesapeake Clean Water and Ecosystem Restoration Act',\n",
       " 'Clean Energy Promotion Act',\n",
       " 'Clean Water Restoration Act',\n",
       " 'Collinsville Renewable Energy Promotion Act',\n",
       " 'Combating Online Infringement and Counterfeits Act',\n",
       " 'Common Sense Health Care Reform and Affordability Act',\n",
       " 'Community Revitalization Energy Conservation Act',\n",
       " 'Consumer Assistance to Recycle and Save Act',\n",
       " 'Corporal Dustin Lee Memorial Act',\n",
       " 'Corporate Liability and Emergency Accident Notification Act',\n",
       " 'Creating American Jobs and Ending Offshoring Act',\n",
       " 'Criminal Investigative Training Restoration Act',\n",
       " 'Currency Reform for Fair Trade Act',\n",
       " 'DISCLOSE Act',\n",
       " 'DTV Delay Act',\n",
       " 'Defense Level Playing Field Act',\n",
       " 'Defense STRONG Act',\n",
       " 'Defund ACORN Act',\n",
       " 'EARLY Act',\n",
       " 'Emergency Aid to American Survivors of the Haiti Earthquake Act',\n",
       " 'Emergency Unemployment Compensation Continuation Act',\n",
       " 'Empowering States to Innovate Act',\n",
       " 'Energy and Water Research Integration Act',\n",
       " 'Engineering Education for Innovation Act',\n",
       " 'Enhanced Oversight of State and Local Economic Recovery Act',\n",
       " 'Enhanced S.E.C. Enforcement Authority Act',\n",
       " 'Equity and Access for Podiatric Physicians Under Medicaid Act',\n",
       " 'Eunice Kennedy Shriver Act',\n",
       " 'Families of Veterans Financial Security Act',\n",
       " 'Federal Reserve Sunshine Act',\n",
       " 'Federal Reserve Transparency Act',\n",
       " 'Food Safety Rapid Response Act',\n",
       " 'Formaldehyde Standards for Composite Wood Products Act',\n",
       " 'Fort Hood Families Benefits Protection Act',\n",
       " 'Fostering Success in Education Act',\n",
       " 'Freedom to Travel to Cuba Act',\n",
       " 'GROWTH Act',\n",
       " 'Government Information Transparency Act',\n",
       " 'Great Lakes Icebreaker Replacement Act',\n",
       " 'Grid Reliability and Infrastructure Defense Act',\n",
       " 'HOPE Act',\n",
       " 'Health Insurance Industry Fair Competition Act',\n",
       " 'Hedge Fund Transparency Act',\n",
       " 'Help Find the Missing Act',\n",
       " 'Hospice Protection Act',\n",
       " 'IMPROVE Act',\n",
       " 'IRE Act',\n",
       " 'Idaho Wilderness Water Facilities Act',\n",
       " 'Improved Financial and Commodity Markets Oversight and Accountability Act',\n",
       " 'Improving Health Care for All Americans Act',\n",
       " 'Independent Living Centers Technical Adjustment Act',\n",
       " 'Indian Pueblo Cultural Center Clarification Act',\n",
       " 'International Adoption Simplification Act',\n",
       " 'Iran Human Rights Sanctions Act',\n",
       " 'Iran Refined Petroleum Sanctions Act',\n",
       " 'Job Preservation for Parents in Poverty Act',\n",
       " 'Justice Against Sponsors of Terrorism Act',\n",
       " 'Keep Americans Working Act',\n",
       " 'Keeping All Students Safe Act',\n",
       " 'Korean War Veterans Recognition Act',\n",
       " 'Lawful Interrogation and Detention Act',\n",
       " 'Lobbying Disclosure Enhancement Act',\n",
       " 'Local Jobs for America Act',\n",
       " 'Main Street Recovery Act',\n",
       " 'Maritime Workforce Development Act',\n",
       " 'Matthew Shepard Hate Crimes Prevention Act',\n",
       " 'Medicare Premium Fairness Act',\n",
       " 'Middle Class Tax Relief Act',\n",
       " 'Military Families Act',\n",
       " 'Military and Overseas Voter Empowerment Act',\n",
       " 'Molalla River Wild and Scenic Rivers Act',\n",
       " 'NEWBORN Act',\n",
       " 'National Land Remote Sensing Outreach Act',\n",
       " 'New Frontier Congressional Gold Medal Act',\n",
       " 'OPERA',\n",
       " 'Overseas Contractor Reform Act',\n",
       " 'Prevent Deceptive Census Look Alike Mailings Act',\n",
       " 'Preventing Harmful Restraint and Seclusion in Schools Act',\n",
       " 'Protecting Older Workers Against Discrimination Act',\n",
       " 'Protecting Students from Sexual and Violent Predators Act',\n",
       " 'REMEDIES Act',\n",
       " 'Radioactive Import Deterrence Act',\n",
       " 'Reduction of Lead in Drinking Water Act',\n",
       " 'Redundancy Elimination and Enhanced Performance for Preparedness Grants Act',\n",
       " 'Restore Our American Mustangs Act',\n",
       " 'Ronald Reagan Centennial Commission Act',\n",
       " 'Rural Energy Savings Program Act',\n",
       " 'SPEECH Act',\n",
       " 'Safer Oil and Natural Gas Drilling Technology Research and Development Act',\n",
       " 'Scleroderma Research and Awareness Act',\n",
       " 'Securing Protections for the Injured from Limitations on Liability Act',\n",
       " 'Selected Reserve Continuum of Care Act',\n",
       " 'Sloan Hills Withdrawal Act',\n",
       " 'Small Business Health Information Technology Financing Act',\n",
       " 'Small Business Paperwork Mandate Elimination Act',\n",
       " 'Smithsonian Conservation Biology Institute Enhancement Act',\n",
       " 'Solar Technology Roadmap Act',\n",
       " 'Special Agent Samuel Hicks Families of Fallen Heroes Act',\n",
       " 'Stop the Congressional Pay Raise Act',\n",
       " 'Sugar Loaf Fire Protection District Land Exchange Act',\n",
       " 'Transportation Efficiency Act',\n",
       " 'Transportation Security Administration Authorization Act',\n",
       " 'Turn on the Pumps Act',\n",
       " 'Veterans Dog Training Therapy Act',\n",
       " 'Veterans Small Business Verification Act',\n",
       " 'Veterinarian Services Investment Act',\n",
       " 'Wall Street Bonus Tax Act',\n",
       " 'Weekends Without Hunger Act',\n",
       " 'Wounded Warrior Caregiver Assistance Act',\n",
       " 'Youth Prevention and Tobacco Harm Reduction Act'}"
      ]
     },
     "execution_count": 11,
     "metadata": {},
     "output_type": "execute_result"
    }
   ],
   "source": [
    "set(d['title'] for d in data)"
   ]
  },
  {
   "cell_type": "code",
   "execution_count": 13,
   "metadata": {},
   "outputs": [],
   "source": [
    "import pickle\n",
    "from search_bill_mentions import Bill, Speaker, Speech\n",
    "\n",
    "with open('../../data/interim/bill_mentions/cache_111.pickle', 'rb') as file:\n",
    "    speeches, num_mentions = pickle.load(file)"
   ]
  },
  {
   "cell_type": "code",
   "execution_count": 14,
   "metadata": {},
   "outputs": [
    {
     "data": {
      "text/plain": [
       "111019"
      ]
     },
     "execution_count": 14,
     "metadata": {},
     "output_type": "execute_result"
    }
   ],
   "source": [
    "len(speeches)"
   ]
  },
  {
   "cell_type": "code",
   "execution_count": 16,
   "metadata": {},
   "outputs": [
    {
     "data": {
      "text/plain": [
       "985"
      ]
     },
     "execution_count": 16,
     "metadata": {},
     "output_type": "execute_result"
    }
   ],
   "source": [
    "len([s for s in speeches if s.deno is not None)"
   ]
  },
  {
   "cell_type": "code",
   "execution_count": 17,
   "metadata": {},
   "outputs": [],
   "source": [
    "speeches[0].stuff = 'a'"
   ]
  }
 ],
 "metadata": {
  "kernelspec": {
   "display_name": "Python 3",
   "language": "python",
   "name": "python3"
  },
  "language_info": {
   "codemirror_mode": {
    "name": "ipython",
    "version": 3
   },
   "file_extension": ".py",
   "mimetype": "text/x-python",
   "name": "python",
   "nbconvert_exporter": "python",
   "pygments_lexer": "ipython3",
   "version": "3.7.5"
  }
 },
 "nbformat": 4,
 "nbformat_minor": 2
}
