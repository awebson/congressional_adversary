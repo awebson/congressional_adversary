{
 "cells": [
  {
   "cell_type": "code",
   "execution_count": 1,
   "metadata": {},
   "outputs": [],
   "source": [
    "import pickle\n",
    "import csv\n",
    "import os\n",
    "from pathlib import Path\n",
    "from typing import Set, Tuple, NamedTuple, List, Dict, Counter, Optional\n",
    "\n",
    "import torch\n",
    "import numpy as np\n",
    "from scipy.spatial import distance\n",
    "from scipy.stats import spearmanr\n",
    "\n",
    "from evaluations.euphemism import Embedding, PhrasePair  \n",
    "from recomposer import Recomposer, RecomposerConfig\n",
    "from decomposer import Decomposer, DecomposerConfig\n",
    "\n",
    "torch.manual_seed(42)\n",
    "np.random.seed(42)"
   ]
  },
  {
   "cell_type": "markdown",
   "metadata": {},
   "source": [
    "### Load Pretrained Embedding"
   ]
  },
  {
   "cell_type": "code",
   "execution_count": 2,
   "metadata": {},
   "outputs": [
    {
     "name": "stdout",
     "output_type": "stream",
     "text": [
      "vocab_size = 113,790, num_dimensions = 300\n",
      "Loading embeddings from ../../data/pretrained_word2vec/no min freq/CR_ctx3_HS.txt\n",
      "Done\n"
     ]
    }
   ],
   "source": [
    "# CR bill/topic paper submission\n",
    "pretrained = Embedding('../../data/pretrained_word2vec/no min freq/CR_ctx3_HS.txt', 'plain_text')\n",
    "# pretrained = Embedding('../../data/pretrained_word2vec/maybe ctx5/bill_mentions_HS.txt', 'plain_text')\n",
    "# pretrained = Embedding('../../data/pretrained_word2vec/CR_ctx3_HS.txt', 'plain_text')\n",
    "# pretrained = Embedding('../../data/pretrained_word2vec/CR_ctx3_SGNS.txt', 'plain_text')\n",
    "\n",
    "# CR Skip, eval on HS, train on SGNS\n",
    "# pretrained = Embedding('../../data/pretrained_word2vec/for_real.txt', 'plain_text') # HS\n",
    "\n",
    "# PN skip\n",
    "# pretrained = Embedding('../../data/pretrained_word2vec/partisan_news_HS.txt', 'plain_text')"
   ]
  },
  {
   "cell_type": "code",
   "execution_count": 85,
   "metadata": {},
   "outputs": [
    {
     "name": "stdout",
     "output_type": "stream",
     "text": [
      "vocab_size = 24,005, num_dimensions = 300\n",
      "Loading embeddings from ../../data/pretrained_word2vec/CR_ctx5_HS_replica.txt\n",
      "Done\n"
     ]
    }
   ],
   "source": [
    "PE = Embedding('../../data/pretrained_word2vec/CR_ctx5_HS_replica.txt', 'plain_text')\n",
    "# PE = Embedding('../../data/pretrained_word2vec/maybe ctx5/bill_mentions_HS.txt', 'plain_text')\n",
    "# PE = Embedding('../../data/pretrained_word2vec/no min freq/CR_ctx3_HS.txt', 'plain_text')\n",
    "PE_cs = PE.cosine_similarity"
   ]
  },
  {
   "cell_type": "code",
   "execution_count": 84,
   "metadata": {},
   "outputs": [
    {
     "name": "stdout",
     "output_type": "stream",
     "text": [
      "0.6996991923862983 0.055522398154501676\n"
     ]
    }
   ],
   "source": [
    "vs = len(PE.word_to_id)\n",
    "avgs = []\n",
    "for i in range(vs):\n",
    "    v1 = PE.embedding[i]\n",
    "    v2 = PE_r.embedding[i]\n",
    "    cs = torch.nn.functional.cosine_similarity(v1, v2, dim=0).item()\n",
    "    avgs.append(cs)\n",
    "print(np.mean(avgs), np.std(avgs))"
   ]
  },
  {
   "cell_type": "code",
   "execution_count": 86,
   "metadata": {},
   "outputs": [
    {
     "name": "stdout",
     "output_type": "stream",
     "text": [
      "0.7568801045417786\n",
      "0.8945048451423645\n",
      "0.6935302019119263\n",
      "0.7467148900032043\n",
      "0.554466724395752\n",
      "-0.02232639491558075\n",
      "0.6717826128005981\n"
     ]
    }
   ],
   "source": [
    "print(PE_cs('undocumented', 'illegal_aliens'))\n",
    "print(PE_cs('estate_tax', 'death_tax'))\n",
    "print(PE_cs('capitalism', 'free_market'))\n",
    "print(PE_cs('foreign_trade', 'international_trade'))\n",
    "print(PE_cs('public_option', 'governmentrun'))\n",
    "print(PE_cs('federal_government', 'washington'))\n",
    "print(PE_cs('death_taxes', 'death_tax'))"
   ]
  },
  {
   "cell_type": "code",
   "execution_count": 53,
   "metadata": {},
   "outputs": [
    {
     "name": "stdout",
     "output_type": "stream",
     "text": [
      "0.8886\testate_tax\n",
      "0.8805\ttaxed\n",
      "0.8694\ttax_burden\n",
      "0.8672\twealthiest\n",
      "0.8531\tincome_taxes\n",
      "0.8518\ttaxes\n",
      "0.8497\ttax_code\n",
      "0.8479\tbrackets\n",
      "0.8477\tbreaks\n",
      "0.8473\tmarriage_penalty\n",
      "\n",
      "\n"
     ]
    }
   ],
   "source": [
    "PE.nearest_neighbor('death_tax')"
   ]
  },
  {
   "cell_type": "code",
   "execution_count": 25,
   "metadata": {},
   "outputs": [
    {
     "name": "stdout",
     "output_type": "stream",
     "text": [
      "0.8068656921386719\n",
      "0.8990585207939148\n",
      "0.791033148765564\n",
      "0.8984659910202026\n",
      "0.671758770942688\n",
      "0.7146835327148438\n"
     ]
    }
   ],
   "source": [
    "print(PE_cs('undocumented', 'illegal_aliens'))\n",
    "print(PE_cs('estate_tax', 'death_tax'))\n",
    "print(PE_cs('capitalism', 'free_market'))\n",
    "print(PE_cs('foreign_trade', 'international_trade'))\n",
    "print(PE_cs('public_option', 'governmentrun'))\n",
    "print(PE_cs('death_taxes', 'death_tax'))"
   ]
  },
  {
   "cell_type": "code",
   "execution_count": 3,
   "metadata": {},
   "outputs": [
    {
     "name": "stderr",
     "output_type": "stream",
     "text": [
      "/home/webson/Research/congressional_adversary/congressional_env/lib/python3.7/site-packages/torch/serialization.py:649: SourceChangeWarning: source code of class 'torch.nn.modules.container.Sequential' has changed. you can retrieve the original source code by accessing the object's source attribute or set `torch.nn.Module.dump_patches = True` and use the patch tool to revert the changes.\n",
      "  warnings.warn(msg, SourceChangeWarning)\n",
      "/home/webson/Research/congressional_adversary/congressional_env/lib/python3.7/site-packages/torch/serialization.py:649: SourceChangeWarning: source code of class 'torch.nn.modules.linear.Linear' has changed. you can retrieve the original source code by accessing the object's source attribute or set `torch.nn.Module.dump_patches = True` and use the patch tool to revert the changes.\n",
      "  warnings.warn(msg, SourceChangeWarning)\n",
      "/home/webson/Research/congressional_adversary/congressional_env/lib/python3.7/site-packages/torch/serialization.py:649: SourceChangeWarning: source code of class 'torch.nn.modules.activation.SELU' has changed. you can retrieve the original source code by accessing the object's source attribute or set `torch.nn.Module.dump_patches = True` and use the patch tool to revert the changes.\n",
      "  warnings.warn(msg, SourceChangeWarning)\n",
      "/home/webson/Research/congressional_adversary/congressional_env/lib/python3.7/site-packages/torch/serialization.py:649: SourceChangeWarning: source code of class 'torch.nn.modules.sparse.Embedding' has changed. you can retrieve the original source code by accessing the object's source attribute or set `torch.nn.Module.dump_patches = True` and use the patch tool to revert the changes.\n",
      "  warnings.warn(msg, SourceChangeWarning)\n"
     ]
    }
   ],
   "source": [
    "# Spreadsheet Submission\n",
    "# stuff = Path('../../results/submission/CR_topic/L4R B512 LR1e-03/epoch100.pt') #ctx3 HS\n",
    "# stuff = Path('../../results/submission/CR_bill/L4RL B512 LR1e-03/epoch100.pt') # submission??\n",
    "\n",
    "# Spreadsheet & Paper\n",
    "# stuff = Path('../../results/submission/CR_skip/B8 NS10/epoch4.pt')\n",
    "# stuff = Path('../../results/submission/PN_skip/NS10/epoch45.pt')\n",
    "\n",
    "# stuff = Path('../../results/CR_bill/Ctx3 HS/L4R B128 LR1e-03/epoch100.pt') # B128??\n",
    "\n",
    "# Paper Submission\n",
    "# stuff = Path('../../results/CR_topic/M236_epoch25.pt')\n",
    "stuff = Path('../../results/CR_bill/Ctx3/L2 B2048 LR1e-03/epoch50.pt')\n",
    "\n",
    "deno_space = Embedding(\n",
    "    stuff, 'recomposer_deno', device=torch.device('cpu'))\n",
    "cono_space = Embedding(\n",
    "    stuff, 'recomposer_cono', device=torch.device('cpu'))"
   ]
  },
  {
   "cell_type": "code",
   "execution_count": 4,
   "metadata": {},
   "outputs": [],
   "source": [
    "# cucumber = torch.load(stuff, map_location='cpu')\n",
    "# md = cucumber['model']\n",
    "# cucumber['config']\n",
    "# md"
   ]
  },
  {
   "cell_type": "code",
   "execution_count": 5,
   "metadata": {},
   "outputs": [],
   "source": [
    "def tabulate(q1, q2):\n",
    "    PE_cs = pretrained.cosine_similarity(q1, q2)\n",
    "    DS_cs = deno_space.cosine_similarity(q1, q2)\n",
    "    CS_cs = cono_space.cosine_similarity(q1, q2)\n",
    "#     print(round(PE_cs, 4), f'{DS_cs:.4f}', f'{CS_cs:.4f}', \n",
    "#           q1, q2, sep='\\t')\n",
    "    print(round(PE_cs, 4), f'{DS_cs - PE_cs:+.4f}', f'{CS_cs - PE_cs:+.4f}', \n",
    "          q1, q2, sep='\\t')\n",
    "\n",
    "def tabulate_rank(q1, q2):\n",
    "    print(\n",
    "        pretrained.neighbor_rank(q1, q2),\n",
    "        pretrained.neighbor_rank(q2, q1),\n",
    "        deno_space.neighbor_rank(q1, q2),\n",
    "        deno_space.neighbor_rank(q2, q1),\n",
    "        cono_space.neighbor_rank(q1, q2),\n",
    "        cono_space.neighbor_rank(q2, q1),\n",
    "        q1, q2, sep='\\t')\n",
    "\n",
    "    \n",
    "# def cf(q1, q2)\n",
    "#     pretrained.nearest_neighbor(q1)\n",
    "#     model.nearest_neighbor(q1)\n",
    "#     print('\\n')\n",
    "#     pretrained.nearest_neighbor(q2)\n",
    "#     model.nearest_neighbor(q2)"
   ]
  },
  {
   "cell_type": "code",
   "execution_count": 6,
   "metadata": {},
   "outputs": [],
   "source": [
    "cherry_pairs = [\n",
    "#     # Luntz Report, all GOP euphemisms\n",
    "#     ('federal_government', 'washington'),\n",
    "#     ('private_account', 'personal_account'),\n",
    "#     ('tax_reform', 'tax_simplification'),\n",
    "#     ('undocumented', 'illegal_aliens'),  # OOV undocumented_workers\n",
    "#     ('estate_tax', 'death_tax'),\n",
    "#     ('capitalism', 'free_market'),  # global economy, globalization\n",
    "#     ('outsourcing', 'innovation'),  # \"root cause\" of outsourcing, regulation\n",
    "#     ('foreign_trade', 'international_trade'),  # foreign, global all bad\n",
    "#     ('drilling_for_oil', 'exploring_for_energy'),\n",
    "#     ('drilling', 'energy_exploration'),\n",
    "#     ('tort_reform', 'lawsuit_abuse_reform'),\n",
    "#     ('trial_lawyer', 'personal_injury_lawyer'),  # aka ambulance chasers\n",
    "#     ('corporate_transparency', 'corporate_accountability'),\n",
    "#     ('school_choice', 'parental_choice'),  # equal_opportunity_in_education\n",
    "#     ('healthcare_choice', 'right_to_choose')\n",
    "\n",
    "    # CR\n",
    "    ('undocumented', 'illegal_aliens'),  \n",
    "    ('estate_tax', 'death_tax'),\n",
    "    ('capitalism', 'free_market'),  \n",
    "    ('foreign_trade', 'international_trade'),  \n",
    "    ('public_option', 'governmentrun'),\n",
    "    \n",
    "#     ('undocumented_workers', 'illegal_aliens'), \n",
    "#     ('trickledown', 'cut_taxes'),\n",
    "#     ('socialized_medicine', 'singlepayer'),\n",
    "#     ('voodoo', 'supplyside'), \n",
    "#     ('tax_expenditures', 'spending_programs'),\n",
    "#     ('waterboarding', 'interrogation'),\n",
    "#     ('political_speech', 'campaign_spending'),\n",
    "#     ('star_wars', 'strategic_defense_initiative'),\n",
    "#     ('nuclear_option', 'constitutional_option'),\n",
    "    \n",
    "    # PN\n",
    "#     ('undocumented_workers', 'illegal_aliens'),  # OOV undocumented_workers\n",
    "#     ('estate_tax', 'death_tax'),\n",
    "#     ('capitalism', 'free_market'),  # global economy, globalization\n",
    "#     ('foreign_trade', 'international_trade'),  # foreign, global all bad\n",
    "#     ('public_option', 'government_run'),\n",
    "#     ('voodoo', 'supply_side'), \n",
    "#     ('supply_side', 'cut_taxes'),\n",
    "#     ('socialized_medicine', 'single_payer'),\n",
    "#     ('tax_expenditures', 'spending_programs'),\n",
    "#     ('waterboarding', 'interrogation'),\n",
    "#     ('political_speech', 'campaign_spending'),\n",
    "]\n",
    "\n"
   ]
  },
  {
   "cell_type": "code",
   "execution_count": 7,
   "metadata": {},
   "outputs": [
    {
     "name": "stdout",
     "output_type": "stream",
     "text": [
      "0.8069\t+0.0255\t-0.0062\tundocumented\tillegal_aliens\n",
      "0.8991\t+0.0497\t-0.7557\testate_tax\tdeath_tax\n",
      "0.791\t+0.1060\t+0.0336\tcapitalism\tfree_market\n",
      "0.8985\t-0.0471\t+0.0237\tforeign_trade\tinternational_trade\n",
      "0.6718\t+0.0635\t-0.5721\tpublic_option\tgovernmentrun\n"
     ]
    }
   ],
   "source": [
    "for q1, q2 in cherry_pairs:  # bill\n",
    "    tabulate(q1, q2)"
   ]
  },
  {
   "cell_type": "code",
   "execution_count": 8,
   "metadata": {
    "scrolled": true
   },
   "outputs": [
    {
     "name": "stdout",
     "output_type": "stream",
     "text": [
      "14374\t633\t187\t5736\t1890\t15918\tundocumented\tillegal_aliens\n",
      "2\t1\t5\t1\t19423\t18829\testate_tax\tdeath_tax\n",
      "49415\t16256\t3\t6850\t6765\t15908\tcapitalism\tfree_market\n",
      "122\t27\t155\t8800\t800\t6300\tforeign_trade\tinternational_trade\n",
      "35313\t86391\t743\t15395\t19468\t19030\tpublic_option\tgovernmentrun\n"
     ]
    }
   ],
   "source": [
    "for q1, q2 in cherry_pairs:\n",
    "    tabulate_rank(q1, q2)"
   ]
  }
 ],
 "metadata": {
  "kernelspec": {
   "display_name": "Python 3",
   "language": "python",
   "name": "python3"
  },
  "language_info": {
   "codemirror_mode": {
    "name": "ipython",
    "version": 3
   },
   "file_extension": ".py",
   "mimetype": "text/x-python",
   "name": "python",
   "nbconvert_exporter": "python",
   "pygments_lexer": "ipython3",
   "version": "3.7.5"
  }
 },
 "nbformat": 4,
 "nbformat_minor": 2
}
