{
 "cells": [
  {
   "cell_type": "code",
   "execution_count": 1,
   "metadata": {},
   "outputs": [],
   "source": [
    "import pickle\n",
    "import csv\n",
    "import os\n",
    "from pathlib import Path\n",
    "from typing import Set, Tuple, NamedTuple, List, Dict, Counter, Optional\n",
    "\n",
    "import torch\n",
    "import numpy as np\n",
    "from scipy.spatial import distance\n",
    "from scipy.stats import spearmanr\n",
    "\n",
    "from evaluations.euphemism import Embedding, PhrasePair  \n",
    "from recomposer import Recomposer, RecomposerConfig\n",
    "from decomposer import Decomposer, DecomposerConfig\n",
    "\n",
    "\n",
    "torch.manual_seed(42)\n",
    "np.random.seed(42)"
   ]
  },
  {
   "cell_type": "markdown",
   "metadata": {},
   "source": [
    "### Load Pretrained Embedding"
   ]
  },
  {
   "cell_type": "code",
   "execution_count": 2,
   "metadata": {},
   "outputs": [
    {
     "name": "stdout",
     "output_type": "stream",
     "text": [
      "vocab_size = 138,394, num_dimensions = 300\n",
      "Loading embeddings from ../../data/pretrained_word2vec/partisan_news.txt\n",
      "Done\n"
     ]
    }
   ],
   "source": [
    "pretrained = Embedding('../../data/pretrained_word2vec/partisan_news.txt', 'plain_text')"
   ]
  },
  {
   "cell_type": "code",
   "execution_count": 7,
   "metadata": {},
   "outputs": [],
   "source": [
    "stuff = Path('../../results/PN/GM2/NS10/epoch45.pt')\n",
    "# stuff = Path('../../results/PN/GM2/NS5/epoch15.pt')\n",
    "deno_space = Embedding(\n",
    "    stuff, 'recomposer_deno', device=torch.device('cuda:0'))\n",
    "cono_space = Embedding(\n",
    "    stuff, 'recomposer_cono', device=torch.device('cuda:0'))"
   ]
  },
  {
   "cell_type": "code",
   "execution_count": 8,
   "metadata": {},
   "outputs": [],
   "source": [
    "def tabulate(q1, q2):\n",
    "    PE_cs = pretrained.cosine_similarity(q1, q2)\n",
    "    DS_cs = deno_space.cosine_similarity(q1, q2)\n",
    "    CS_cs = cono_space.cosine_similarity(q1, q2)\n",
    "    # also get neighbor ranking?\n",
    "    print(round(PE_cs, 4), round(DS_cs, 4), round(CS_cs, 4), q1, q2, sep='\\t')\n",
    "\n",
    "def tabulate_rank(q1, q2):\n",
    "    print(\n",
    "        pretrained.neighbor_rank(q1, q2),\n",
    "        pretrained.neighbor_rank(q2, q1),\n",
    "        deno_space.neighbor_rank(q1, q2),\n",
    "        deno_space.neighbor_rank(q2, q1),\n",
    "        cono_space.neighbor_rank(q1, q2),\n",
    "        cono_space.neighbor_rank(q2, q1),\n",
    "        q1, q2, sep='\\t')\n",
    "    \n",
    "# def cf(q1, q2)\n",
    "#     pretrained.nearest_neighbor(q1)\n",
    "#     model.nearest_neighbor(q1)\n",
    "#     print('\\n')\n",
    "#     pretrained.nearest_neighbor(q2)\n",
    "#     model.nearest_neighbor(q2)"
   ]
  },
  {
   "cell_type": "code",
   "execution_count": 9,
   "metadata": {},
   "outputs": [],
   "source": [
    "cherry_pairs = [\n",
    "    # Luntz Report, all GOP euphemisms\n",
    "    ('government', 'washington'),\n",
    "    # ('private_account', 'personal_account'),\n",
    "    # ('tax_reform', 'tax_simplification'),\n",
    "    ('estate_tax', 'death_tax'),\n",
    "    ('capitalism', 'free_market'),  # global economy, globalization\n",
    "    # ('outsourcing', 'innovation'),  # \"root cause\" of outsourcing, regulation\n",
    "    ('undocumented_workers', 'illegal_aliens'),  # OOV undocumented_workers\n",
    "    ('foreign_trade', 'international_trade'),  # foreign, global all bad\n",
    "    # ('drilling_for_oil', 'exploring_for_energy'),\n",
    "    # ('drilling', 'energy_exploration'),\n",
    "    # ('tort_reform', 'lawsuit_abuse_reform'),\n",
    "    # ('trial_lawyer', 'personal_injury_lawyer'),  # aka ambulance chasers\n",
    "    # ('corporate_transparency', 'corporate_accountability'),\n",
    "    # ('school_choice', 'parental_choice'),  # equal_opportunity_in_education\n",
    "    # ('healthcare_choice', 'right_to_choose')\n",
    "\n",
    "    # Own Cherries\n",
    "    ('public_option', 'government_run'),\n",
    "    ('political_speech', 'campaign_spending'),  # hard example\n",
    "    ('cut_taxes', 'supply_side'),  # OOV supplyside\n",
    "    \n",
    "    # Own Cherries\n",
    "    ('public_option', 'government_run'),\n",
    "    ('political_speech', 'campaign_spending'),  # hard example\n",
    "    ('cut_taxes', 'supply_side'),  \n",
    "    ('voodoo', 'supply_side'),\n",
    "    \n",
    "    # large vocabulary\n",
    "#     ('star_wars', 'strategic_defense_initiative'),\n",
    "    ('socialized_medicine', 'single_payer'),\n",
    "#     ('cap_and_trade', 'national_energy_tax'),\n",
    "    ('waterboarding', 'interrogation'),\n",
    "    ('tax_expenditures', 'spending_programs'),\n",
    "#     ('nuclear_option', 'constitutional_option'),\n",
    "]\n",
    "\n"
   ]
  },
  {
   "cell_type": "code",
   "execution_count": 10,
   "metadata": {},
   "outputs": [
    {
     "name": "stdout",
     "output_type": "stream",
     "text": [
      "18641\t37128\t44\t1209\t4304\t7229\tgovernment\twashington\n",
      "1\t8\t229\t231\t3807\t2063\testate_tax\tdeath_tax\n",
      "109\t13\t19284\t11132\t20\t6\tcapitalism\tfree_market\n",
      "71\t14\t121388\t755\t42778\t11727\tundocumented_workers\tillegal_aliens\n",
      "11095\t15\t91253\t2677\t119\t3\tforeign_trade\tinternational_trade\n",
      "39\t30\t22\t10\t243\t7\tpublic_option\tgovernment_run\n",
      "1523\t410\t93\t65457\t30122\t65192\tpolitical_speech\tcampaign_spending\n",
      "17692\t14059\t32468\t64603\t21505\t32959\tcut_taxes\tsupply_side\n",
      "39\t30\t22\t10\t243\t7\tpublic_option\tgovernment_run\n",
      "1523\t410\t93\t65457\t30122\t65192\tpolitical_speech\tcampaign_spending\n",
      "17692\t14059\t32468\t64603\t21505\t32959\tcut_taxes\tsupply_side\n",
      "38137\t6000\t4612\t30617\t77372\t94567\tvoodoo\tsupply_side\n",
      "1192\t6\t105002\t363\t610\t181\tsocialized_medicine\tsingle_payer\n",
      "11\t15\t123\t159\t17\t7\twaterboarding\tinterrogation\n",
      "23\t557\t95\t8076\t32448\t45994\ttax_expenditures\tspending_programs\n"
     ]
    }
   ],
   "source": [
    "for q1, q2 in cherry_pairs:\n",
    "    tabulate_rank(q1, q2)"
   ]
  },
  {
   "cell_type": "code",
   "execution_count": null,
   "metadata": {},
   "outputs": [],
   "source": [
    "for q1, q2 in cherry_pairs:\n",
    "    tabulate(q1, q2)"
   ]
  },
  {
   "cell_type": "code",
   "execution_count": null,
   "metadata": {},
   "outputs": [],
   "source": [
    "cf('undocumented_workers', 'illegal_aliens')"
   ]
  },
  {
   "cell_type": "code",
   "execution_count": null,
   "metadata": {},
   "outputs": [],
   "source": [
    "cf('estate_tax', 'death_tax')"
   ]
  },
  {
   "cell_type": "code",
   "execution_count": null,
   "metadata": {
    "scrolled": true
   },
   "outputs": [],
   "source": [
    "# Denotation Space: Want to see stuff from other party\n",
    "# model.embedding = model.deno_embed\n",
    "# q1 = 'universal_health_care'  # OOV\n",
    "# q2 = 'socialized_medicine'\n",
    "model = deno_space\n",
    "q1 = 'singlepayer'\n",
    "q2 = 'governmentrun'\n",
    "print(pretrained.cosine_similarity(q1, q2))\n",
    "print(model.cosine_similarity(q1, q2))\n",
    "pretrained.nearest_neighbor(q1)\n",
    "model.nearest_neighbor(q1)\n",
    "print('\\n')\n",
    "pretrained.nearest_neighbor(q2)\n",
    "model.nearest_neighbor(q2)"
   ]
  },
  {
   "cell_type": "code",
   "execution_count": null,
   "metadata": {},
   "outputs": [],
   "source": [
    "model = deno_space\n",
    "q1 = 'public_option'\n",
    "q2 = 'governmentrun'\n",
    "print(pretrained.cosine_similarity(q1, q2))\n",
    "print(model.cosine_similarity(q1, q2))\n",
    "pretrained.nearest_neighbor(q1)\n",
    "model.nearest_neighbor(q1)\n",
    "print('\\n')\n",
    "pretrained.nearest_neighbor(q2)\n",
    "model.nearest_neighbor(q2)"
   ]
  },
  {
   "cell_type": "code",
   "execution_count": null,
   "metadata": {
    "scrolled": false
   },
   "outputs": [],
   "source": [
    "model = deno_space\n",
    "q1 = 'independent_expenditures'\n",
    "q2 = 'political_speech'\n",
    "print(pretrained.cosine_similarity(q1, q2))\n",
    "print(model.cosine_similarity(q1, q2))\n",
    "pretrained.nearest_neighbor(q1)\n",
    "model.nearest_neighbor(q1)\n",
    "print('\\n')\n",
    "pretrained.nearest_neighbor(q2)\n",
    "model.nearest_neighbor(q2)"
   ]
  },
  {
   "cell_type": "code",
   "execution_count": null,
   "metadata": {},
   "outputs": [],
   "source": [
    "model = deno_space\n",
    "q1 = 'tax_breaks'\n",
    "q2 = 'tax_relief'\n",
    "print(pretrained.cosine_similarity(q1, q2))\n",
    "print(model.cosine_similarity(q1, q2))\n",
    "pretrained.nearest_neighbor(q1)\n",
    "model.nearest_neighbor(q1)\n",
    "print('\\n')\n",
    "pretrained.nearest_neighbor(q2)\n",
    "model.nearest_neighbor(q2)"
   ]
  },
  {
   "cell_type": "code",
   "execution_count": null,
   "metadata": {},
   "outputs": [],
   "source": [
    "model = deno_space\n",
    "q1 = 'socialized_medicine' # 'obamacare'\n",
    "q2 = 'health_care_reform'\n",
    "print(pretrained.cosine_similarity(q1, q2))\n",
    "print(model.cosine_similarity(q1, q2))\n",
    "pretrained.nearest_neighbor(q1)\n",
    "model.nearest_neighbor(q1)\n",
    "print('\\n')\n",
    "pretrained.nearest_neighbor(q2)\n",
    "model.nearest_neighbor(q2)"
   ]
  },
  {
   "cell_type": "markdown",
   "metadata": {},
   "source": [
    "### Connotation Space: Want to see unrelated random entities of the same party"
   ]
  },
  {
   "cell_type": "code",
   "execution_count": null,
   "metadata": {},
   "outputs": [],
   "source": [
    "model = cono_space\n",
    "q1 = 'gun_control'\n",
    "q2 = 'illegal_aliens'\n",
    "print(pretrained.cosine_similarity(q1, q2))\n",
    "print(model.cosine_similarity(q1, q2))\n",
    "pretrained.nearest_neighbor(q1)\n",
    "model.nearest_neighbor(q1)\n",
    "print('\\n')\n",
    "pretrained.nearest_neighbor(q2)\n",
    "model.nearest_neighbor(q2)"
   ]
  },
  {
   "cell_type": "code",
   "execution_count": null,
   "metadata": {},
   "outputs": [],
   "source": [
    "model = cono_space\n",
    "q1 = 'wall_street_reform'\n",
    "q2 = 'civil_rights'\n",
    "print(pretrained.cosine_similarity(q1, q2))\n",
    "print(model.cosine_similarity(q1, q2))\n",
    "pretrained.nearest_neighbor(q1)\n",
    "model.nearest_neighbor(q1)\n",
    "print('\\n')\n",
    "pretrained.nearest_neighbor(q2)\n",
    "model.nearest_neighbor(q2)"
   ]
  },
  {
   "cell_type": "code",
   "execution_count": null,
   "metadata": {},
   "outputs": [],
   "source": [
    "model = cono_space\n",
    "q1 = 'nuclear_arms_race'\n",
    "q2 = 'credit_card'\n",
    "print(pretrained.cosine_similarity(q1, q2))\n",
    "print(model.cosine_similarity(q1, q2))\n",
    "pretrained.nearest_neighbor(q1)\n",
    "model.nearest_neighbor(q1)\n",
    "print('\\n')\n",
    "pretrained.nearest_neighbor(q2)\n",
    "model.nearest_neighbor(q2)"
   ]
  },
  {
   "cell_type": "code",
   "execution_count": null,
   "metadata": {},
   "outputs": [],
   "source": [
    "model = cono_space\n",
    "q = 'national_energy_tax'\n",
    "pretrained.nearest_neighbor(q)\n",
    "model.nearest_neighbor(q)"
   ]
  },
  {
   "cell_type": "code",
   "execution_count": null,
   "metadata": {},
   "outputs": [],
   "source": [
    "pretrained.cosine_similarity('tariff', 'employers')"
   ]
  }
 ],
 "metadata": {
  "kernelspec": {
   "display_name": "Python 3",
   "language": "python",
   "name": "python3"
  },
  "language_info": {
   "codemirror_mode": {
    "name": "ipython",
    "version": 3
   },
   "file_extension": ".py",
   "mimetype": "text/x-python",
   "name": "python",
   "nbconvert_exporter": "python",
   "pygments_lexer": "ipython3",
   "version": "3.7.5"
  }
 },
 "nbformat": 4,
 "nbformat_minor": 2
}
