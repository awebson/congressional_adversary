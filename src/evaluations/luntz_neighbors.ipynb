{
 "cells": [
  {
   "cell_type": "code",
   "execution_count": 1,
   "metadata": {},
   "outputs": [],
   "source": [
    "import pickle\n",
    "import csv\n",
    "import os\n",
    "from pathlib import Path\n",
    "from typing import Set, Tuple, NamedTuple, List, Dict, Counter, Optional\n",
    "\n",
    "import torch\n",
    "import numpy as np\n",
    "from scipy.spatial import distance\n",
    "from scipy.stats import spearmanr\n",
    "\n",
    "from evaluations.euphemism import Embedding, PhrasePair  \n",
    "from recomposer import Recomposer, RecomposerConfig\n",
    "from decomposer import Decomposer, DecomposerConfig\n",
    "\n",
    "\n",
    "torch.manual_seed(42)\n",
    "np.random.seed(42)"
   ]
  },
  {
   "cell_type": "markdown",
   "metadata": {},
   "source": [
    "### Load Pretrained Embedding"
   ]
  },
  {
   "cell_type": "code",
   "execution_count": 20,
   "metadata": {},
   "outputs": [
    {
     "name": "stdout",
     "output_type": "stream",
     "text": [
      "vocab_size = 113,790, num_dimensions = 300\n",
      "Loading embeddings from ../../data/pretrained_word2vec/CR_ctx3_HS.txt\n",
      "Done\n"
     ]
    }
   ],
   "source": [
    "# pretrained = Embedding('../../data/pretrained_word2vec/bill_mentions_HS.txt', 'plain_text')\n",
    "pretrained = Embedding('../../data/pretrained_word2vec/CR_ctx3_HS.txt', 'plain_text')\n",
    "# pretrained = Embedding('../../data/pretrained_word2vec/CR_ctx3_SGNS.txt', 'plain_text')"
   ]
  },
  {
   "cell_type": "code",
   "execution_count": 24,
   "metadata": {},
   "outputs": [],
   "source": [
    "# stuff = Path('../../results/CR_topic/Ctx3 HS/L4R B512 LR1e-03/epoch100.pt')\n",
    "# stuff = Path('../../results/CR_bill/Ctx3 HS/L4R B128 LR1e-03/epoch100.pt')\n",
    "\n",
    "stuff = Path('../../results/CR_topic/M236_epoch25.pt')\n",
    "# stuff = Path('../../results/CR_bill/Ctx3/L2 B2048 LR1e-03/epoch50.pt')\n",
    "\n",
    "deno_space = Embedding(\n",
    "    stuff, 'recomposer_deno', device=torch.device('cuda:0'))\n",
    "cono_space = Embedding(\n",
    "    stuff, 'recomposer_cono', device=torch.device('cuda:0'))"
   ]
  },
  {
   "cell_type": "code",
   "execution_count": 25,
   "metadata": {},
   "outputs": [],
   "source": [
    "def tabulate(q1, q2):\n",
    "    PE_cs = pretrained.cosine_similarity(q1, q2)\n",
    "    DS_cs = deno_space.cosine_similarity(q1, q2)\n",
    "    CS_cs = cono_space.cosine_similarity(q1, q2)\n",
    "#     print(round(PE_cs, 4), f'{DS_cs:.4f}', f'{CS_cs:.4f}', \n",
    "#           q1, q2, sep='\\t')\n",
    "    print(round(PE_cs, 4), f'{DS_cs - PE_cs:+.4f}', f'{CS_cs - PE_cs:+.4f}', \n",
    "          q1, q2, sep='\\t')\n",
    "\n",
    "def tabulate_rank(q1, q2):\n",
    "    print(\n",
    "        pretrained.neighbor_rank(q1, q2),\n",
    "        pretrained.neighbor_rank(q2, q1),\n",
    "        deno_space.neighbor_rank(q1, q2),\n",
    "        deno_space.neighbor_rank(q2, q1),\n",
    "        cono_space.neighbor_rank(q1, q2),\n",
    "        cono_space.neighbor_rank(q2, q1),\n",
    "        q1, q2, sep='\\t')\n",
    "\n",
    "    \n",
    "# def cf(q1, q2)\n",
    "#     pretrained.nearest_neighbor(q1)\n",
    "#     model.nearest_neighbor(q1)\n",
    "#     print('\\n')\n",
    "#     pretrained.nearest_neighbor(q2)\n",
    "#     model.nearest_neighbor(q2)"
   ]
  },
  {
   "cell_type": "code",
   "execution_count": 11,
   "metadata": {},
   "outputs": [],
   "source": [
    "cherry_pairs = [\n",
    "    # Luntz Report, all GOP euphemisms\n",
    "#     ('government', 'washington'),\n",
    "    # ('private_account', 'personal_account'),\n",
    "    # ('tax_reform', 'tax_simplification'),\n",
    "    ('estate_tax', 'death_tax'),\n",
    "    ('capitalism', 'free_market'),  # global economy, globalization\n",
    "    # ('outsourcing', 'innovation'),  # \"root cause\" of outsourcing, regulation\n",
    "    ('undocumented', 'illegal_aliens'),  # OOV undocumented_workers\n",
    "    ('foreign_trade', 'international_trade'),  # foreign, global all bad\n",
    "    # ('drilling_for_oil', 'exploring_for_energy'),\n",
    "    # ('drilling', 'energy_exploration'),\n",
    "    # ('tort_reform', 'lawsuit_abuse_reform'),\n",
    "    # ('trial_lawyer', 'personal_injury_lawyer'),  # aka ambulance chasers\n",
    "    # ('corporate_transparency', 'corporate_accountability'),\n",
    "    # ('school_choice', 'parental_choice'),  # equal_opportunity_in_education\n",
    "    # ('healthcare_choice', 'right_to_choose')\n",
    "\n",
    "    # Own Cherries\n",
    "    ('public_option', 'governmentrun'),\n",
    "#     ('political_speech', 'campaign_spending'),  # hard example\n",
    "#     ('cut_taxes', 'supplyside'),  # OOV supplyside\n",
    "]\n",
    "\n"
   ]
  },
  {
   "cell_type": "code",
   "execution_count": 23,
   "metadata": {},
   "outputs": [
    {
     "name": "stdout",
     "output_type": "stream",
     "text": [
      "0.8991\t+0.0497\t-0.7557\testate_tax\tdeath_tax\n",
      "0.791\t+0.1060\t+0.0336\tcapitalism\tfree_market\n",
      "0.8069\t+0.0255\t-0.0062\tundocumented\tillegal_aliens\n",
      "0.8985\t-0.0471\t+0.0237\tforeign_trade\tinternational_trade\n",
      "0.6718\t+0.0635\t-0.5721\tpublic_option\tgovernmentrun\n"
     ]
    }
   ],
   "source": [
    "for q1, q2 in cherry_pairs:  # bill\n",
    "    tabulate(q1, q2)"
   ]
  },
  {
   "cell_type": "code",
   "execution_count": 27,
   "metadata": {},
   "outputs": [
    {
     "name": "stdout",
     "output_type": "stream",
     "text": [
      "0.8991\t+0.0741\t-0.8487\testate_tax\tdeath_tax\n",
      "0.791\t+0.1355\t+0.1599\tcapitalism\tfree_market\n",
      "0.8069\t-0.0965\t+0.1427\tundocumented\tillegal_aliens\n",
      "0.8985\t+0.0183\t-0.0088\tforeign_trade\tinternational_trade\n",
      "0.6718\t+0.2401\t-0.8447\tpublic_option\tgovernmentrun\n"
     ]
    }
   ],
   "source": [
    "for q1, q2 in cherry_pairs:  # topic\n",
    "    tabulate(q1, q2)"
   ]
  },
  {
   "cell_type": "code",
   "execution_count": 81,
   "metadata": {
    "scrolled": true
   },
   "outputs": [
    {
     "name": "stdout",
     "output_type": "stream",
     "text": [
      "2\t1\t19\t4\t23862\t20891\testate_tax\tdeath_tax\n",
      "49415\t16256\t2691\t3660\t7514\t4721\tcapitalism\tfree_market\n"
     ]
    },
    {
     "ename": "KeyError",
     "evalue": "'undocumented_workers'",
     "output_type": "error",
     "traceback": [
      "\u001b[0;31m---------------------------------------------------------------------------\u001b[0m",
      "\u001b[0;31mKeyError\u001b[0m                                  Traceback (most recent call last)",
      "\u001b[0;32m<ipython-input-81-a9c6f569512f>\u001b[0m in \u001b[0;36m<module>\u001b[0;34m\u001b[0m\n\u001b[1;32m      1\u001b[0m \u001b[0;32mfor\u001b[0m \u001b[0mq1\u001b[0m\u001b[0;34m,\u001b[0m \u001b[0mq2\u001b[0m \u001b[0;32min\u001b[0m \u001b[0mcherry_pairs\u001b[0m\u001b[0;34m:\u001b[0m\u001b[0;34m\u001b[0m\u001b[0;34m\u001b[0m\u001b[0m\n\u001b[0;32m----> 2\u001b[0;31m     \u001b[0mtabulate_rank\u001b[0m\u001b[0;34m(\u001b[0m\u001b[0mq1\u001b[0m\u001b[0;34m,\u001b[0m \u001b[0mq2\u001b[0m\u001b[0;34m)\u001b[0m\u001b[0;34m\u001b[0m\u001b[0;34m\u001b[0m\u001b[0m\n\u001b[0m",
      "\u001b[0;32m<ipython-input-72-a80470d10c5e>\u001b[0m in \u001b[0;36mtabulate_rank\u001b[0;34m(q1, q2)\u001b[0m\n\u001b[1;32m     12\u001b[0m         \u001b[0mpretrained\u001b[0m\u001b[0;34m.\u001b[0m\u001b[0mneighbor_rank\u001b[0m\u001b[0;34m(\u001b[0m\u001b[0mq1\u001b[0m\u001b[0;34m,\u001b[0m \u001b[0mq2\u001b[0m\u001b[0;34m)\u001b[0m\u001b[0;34m,\u001b[0m\u001b[0;34m\u001b[0m\u001b[0;34m\u001b[0m\u001b[0m\n\u001b[1;32m     13\u001b[0m         \u001b[0mpretrained\u001b[0m\u001b[0;34m.\u001b[0m\u001b[0mneighbor_rank\u001b[0m\u001b[0;34m(\u001b[0m\u001b[0mq2\u001b[0m\u001b[0;34m,\u001b[0m \u001b[0mq1\u001b[0m\u001b[0;34m)\u001b[0m\u001b[0;34m,\u001b[0m\u001b[0;34m\u001b[0m\u001b[0;34m\u001b[0m\u001b[0m\n\u001b[0;32m---> 14\u001b[0;31m         \u001b[0mdeno_space\u001b[0m\u001b[0;34m.\u001b[0m\u001b[0mneighbor_rank\u001b[0m\u001b[0;34m(\u001b[0m\u001b[0mq1\u001b[0m\u001b[0;34m,\u001b[0m \u001b[0mq2\u001b[0m\u001b[0;34m)\u001b[0m\u001b[0;34m,\u001b[0m\u001b[0;34m\u001b[0m\u001b[0;34m\u001b[0m\u001b[0m\n\u001b[0m\u001b[1;32m     15\u001b[0m         \u001b[0mdeno_space\u001b[0m\u001b[0;34m.\u001b[0m\u001b[0mneighbor_rank\u001b[0m\u001b[0;34m(\u001b[0m\u001b[0mq2\u001b[0m\u001b[0;34m,\u001b[0m \u001b[0mq1\u001b[0m\u001b[0;34m)\u001b[0m\u001b[0;34m,\u001b[0m\u001b[0;34m\u001b[0m\u001b[0;34m\u001b[0m\u001b[0m\n\u001b[1;32m     16\u001b[0m         \u001b[0mcono_space\u001b[0m\u001b[0;34m.\u001b[0m\u001b[0mneighbor_rank\u001b[0m\u001b[0;34m(\u001b[0m\u001b[0mq1\u001b[0m\u001b[0;34m,\u001b[0m \u001b[0mq2\u001b[0m\u001b[0;34m)\u001b[0m\u001b[0;34m,\u001b[0m\u001b[0;34m\u001b[0m\u001b[0;34m\u001b[0m\u001b[0m\n",
      "\u001b[0;32m~/Research/congressional_adversary/src/evaluations/euphemism.py\u001b[0m in \u001b[0;36mneighbor_rank\u001b[0;34m(self, query, neighbor)\u001b[0m\n\u001b[1;32m    107\u001b[0m \u001b[0;34m\u001b[0m\u001b[0m\n\u001b[1;32m    108\u001b[0m     \u001b[0;32mdef\u001b[0m \u001b[0mneighbor_rank\u001b[0m\u001b[0;34m(\u001b[0m\u001b[0mself\u001b[0m\u001b[0;34m,\u001b[0m \u001b[0mquery\u001b[0m\u001b[0;34m:\u001b[0m \u001b[0mstr\u001b[0m\u001b[0;34m,\u001b[0m \u001b[0mneighbor\u001b[0m\u001b[0;34m:\u001b[0m \u001b[0mstr\u001b[0m\u001b[0;34m)\u001b[0m \u001b[0;34m->\u001b[0m \u001b[0mint\u001b[0m\u001b[0;34m:\u001b[0m\u001b[0;34m\u001b[0m\u001b[0;34m\u001b[0m\u001b[0m\n\u001b[0;32m--> 109\u001b[0;31m         \u001b[0mquery_id\u001b[0m \u001b[0;34m=\u001b[0m \u001b[0mself\u001b[0m\u001b[0;34m.\u001b[0m\u001b[0mword_to_id\u001b[0m\u001b[0;34m[\u001b[0m\u001b[0mquery\u001b[0m\u001b[0;34m]\u001b[0m\u001b[0;34m\u001b[0m\u001b[0;34m\u001b[0m\u001b[0m\n\u001b[0m\u001b[1;32m    110\u001b[0m         \u001b[0mquery_vec\u001b[0m \u001b[0;34m=\u001b[0m \u001b[0mself\u001b[0m\u001b[0;34m.\u001b[0m\u001b[0membedding\u001b[0m\u001b[0;34m[\u001b[0m\u001b[0mquery_id\u001b[0m\u001b[0;34m]\u001b[0m\u001b[0;34m\u001b[0m\u001b[0;34m\u001b[0m\u001b[0m\n\u001b[1;32m    111\u001b[0m \u001b[0;34m\u001b[0m\u001b[0m\n",
      "\u001b[0;31mKeyError\u001b[0m: 'undocumented_workers'"
     ]
    }
   ],
   "source": [
    "for q1, q2 in cherry_pairs:\n",
    "    tabulate_rank(q1, q2)"
   ]
  },
  {
   "cell_type": "code",
   "execution_count": null,
   "metadata": {},
   "outputs": [],
   "source": [
    "cf('undocumented_workers', 'illegal_aliens')"
   ]
  },
  {
   "cell_type": "code",
   "execution_count": null,
   "metadata": {},
   "outputs": [],
   "source": [
    "cf('estate_tax', 'death_tax')"
   ]
  },
  {
   "cell_type": "code",
   "execution_count": null,
   "metadata": {
    "scrolled": true
   },
   "outputs": [],
   "source": [
    "# Denotation Space: Want to see stuff from other party\n",
    "# model.embedding = model.deno_embed\n",
    "# q1 = 'universal_health_care'  # OOV\n",
    "# q2 = 'socialized_medicine'\n",
    "model = deno_space\n",
    "q1 = 'singlepayer'\n",
    "q2 = 'governmentrun'\n",
    "print(pretrained.cosine_similarity(q1, q2))\n",
    "print(model.cosine_similarity(q1, q2))\n",
    "pretrained.nearest_neighbor(q1)\n",
    "model.nearest_neighbor(q1)\n",
    "print('\\n')\n",
    "pretrained.nearest_neighbor(q2)\n",
    "model.nearest_neighbor(q2)"
   ]
  },
  {
   "cell_type": "code",
   "execution_count": null,
   "metadata": {},
   "outputs": [],
   "source": [
    "model = deno_space\n",
    "q1 = 'public_option'\n",
    "q2 = 'governmentrun'\n",
    "print(pretrained.cosine_similarity(q1, q2))\n",
    "print(model.cosine_similarity(q1, q2))\n",
    "pretrained.nearest_neighbor(q1)\n",
    "model.nearest_neighbor(q1)\n",
    "print('\\n')\n",
    "pretrained.nearest_neighbor(q2)\n",
    "model.nearest_neighbor(q2)"
   ]
  },
  {
   "cell_type": "code",
   "execution_count": null,
   "metadata": {
    "scrolled": false
   },
   "outputs": [],
   "source": [
    "model = deno_space\n",
    "q1 = 'independent_expenditures'\n",
    "q2 = 'political_speech'\n",
    "print(pretrained.cosine_similarity(q1, q2))\n",
    "print(model.cosine_similarity(q1, q2))\n",
    "pretrained.nearest_neighbor(q1)\n",
    "model.nearest_neighbor(q1)\n",
    "print('\\n')\n",
    "pretrained.nearest_neighbor(q2)\n",
    "model.nearest_neighbor(q2)"
   ]
  },
  {
   "cell_type": "code",
   "execution_count": null,
   "metadata": {},
   "outputs": [],
   "source": [
    "model = deno_space\n",
    "q1 = 'tax_breaks'\n",
    "q2 = 'tax_relief'\n",
    "print(pretrained.cosine_similarity(q1, q2))\n",
    "print(model.cosine_similarity(q1, q2))\n",
    "pretrained.nearest_neighbor(q1)\n",
    "model.nearest_neighbor(q1)\n",
    "print('\\n')\n",
    "pretrained.nearest_neighbor(q2)\n",
    "model.nearest_neighbor(q2)"
   ]
  },
  {
   "cell_type": "code",
   "execution_count": null,
   "metadata": {},
   "outputs": [],
   "source": [
    "model = deno_space\n",
    "q1 = 'socialized_medicine' # 'obamacare'\n",
    "q2 = 'health_care_reform'\n",
    "print(pretrained.cosine_similarity(q1, q2))\n",
    "print(model.cosine_similarity(q1, q2))\n",
    "pretrained.nearest_neighbor(q1)\n",
    "model.nearest_neighbor(q1)\n",
    "print('\\n')\n",
    "pretrained.nearest_neighbor(q2)\n",
    "model.nearest_neighbor(q2)"
   ]
  },
  {
   "cell_type": "markdown",
   "metadata": {},
   "source": [
    "### Connotation Space: Want to see unrelated random entities of the same party"
   ]
  },
  {
   "cell_type": "code",
   "execution_count": null,
   "metadata": {},
   "outputs": [],
   "source": [
    "model = cono_space\n",
    "q1 = 'gun_control'\n",
    "q2 = 'illegal_aliens'\n",
    "print(pretrained.cosine_similarity(q1, q2))\n",
    "print(model.cosine_similarity(q1, q2))\n",
    "pretrained.nearest_neighbor(q1)\n",
    "model.nearest_neighbor(q1)\n",
    "print('\\n')\n",
    "pretrained.nearest_neighbor(q2)\n",
    "model.nearest_neighbor(q2)"
   ]
  },
  {
   "cell_type": "code",
   "execution_count": null,
   "metadata": {},
   "outputs": [],
   "source": [
    "model = cono_space\n",
    "q1 = 'wall_street_reform'\n",
    "q2 = 'civil_rights'\n",
    "print(pretrained.cosine_similarity(q1, q2))\n",
    "print(model.cosine_similarity(q1, q2))\n",
    "pretrained.nearest_neighbor(q1)\n",
    "model.nearest_neighbor(q1)\n",
    "print('\\n')\n",
    "pretrained.nearest_neighbor(q2)\n",
    "model.nearest_neighbor(q2)"
   ]
  },
  {
   "cell_type": "code",
   "execution_count": null,
   "metadata": {},
   "outputs": [],
   "source": [
    "model = cono_space\n",
    "q1 = 'nuclear_arms_race'\n",
    "q2 = 'credit_card'\n",
    "print(pretrained.cosine_similarity(q1, q2))\n",
    "print(model.cosine_similarity(q1, q2))\n",
    "pretrained.nearest_neighbor(q1)\n",
    "model.nearest_neighbor(q1)\n",
    "print('\\n')\n",
    "pretrained.nearest_neighbor(q2)\n",
    "model.nearest_neighbor(q2)"
   ]
  },
  {
   "cell_type": "code",
   "execution_count": null,
   "metadata": {},
   "outputs": [],
   "source": [
    "model = cono_space\n",
    "q = 'national_energy_tax'\n",
    "pretrained.nearest_neighbor(q)\n",
    "model.nearest_neighbor(q)"
   ]
  },
  {
   "cell_type": "code",
   "execution_count": null,
   "metadata": {},
   "outputs": [],
   "source": [
    "pretrained.cosine_similarity('tariff', 'employers')"
   ]
  }
 ],
 "metadata": {
  "kernelspec": {
   "display_name": "Python 3",
   "language": "python",
   "name": "python3"
  },
  "language_info": {
   "codemirror_mode": {
    "name": "ipython",
    "version": 3
   },
   "file_extension": ".py",
   "mimetype": "text/x-python",
   "name": "python",
   "nbconvert_exporter": "python",
   "pygments_lexer": "ipython3",
   "version": "3.7.5"
  }
 },
 "nbformat": 4,
 "nbformat_minor": 2
}
