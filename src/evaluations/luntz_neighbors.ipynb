{
 "cells": [
  {
   "cell_type": "code",
   "execution_count": 1,
   "metadata": {},
   "outputs": [],
   "source": [
    "import pickle\n",
    "import csv\n",
    "import os\n",
    "from pathlib import Path\n",
    "from typing import Set, Tuple, NamedTuple, List, Dict, Counter, Optional\n",
    "\n",
    "import torch\n",
    "import numpy as np\n",
    "from scipy.spatial import distance\n",
    "from scipy.stats import spearmanr\n",
    "\n",
    "from evaluations.euphemism import Embedding, PhrasePair  \n",
    "from recomposer import Recomposer, RecomposerConfig\n",
    "from decomposer import Decomposer, DecomposerConfig\n",
    "\n",
    "\n",
    "torch.manual_seed(42)\n",
    "np.random.seed(42)"
   ]
  },
  {
   "cell_type": "markdown",
   "metadata": {},
   "source": [
    "### Load Pretrained Embedding"
   ]
  },
  {
   "cell_type": "code",
   "execution_count": 2,
   "metadata": {},
   "outputs": [
    {
     "name": "stdout",
     "output_type": "stream",
     "text": [
      "vocab_size = 24,005, num_dimensions = 300\n",
      "Loading embeddings from ../../data/pretrained_word2vec/bill_mentions_HS.txt\n",
      "Done\n"
     ]
    }
   ],
   "source": [
    "pretrained = Embedding('../../data/pretrained_word2vec/bill_mentions_HS.txt', 'plain_text')"
   ]
  },
  {
   "cell_type": "code",
   "execution_count": 29,
   "metadata": {},
   "outputs": [],
   "source": [
    "stuff = Path('../../results/CR_topic/search greek/Dd0.42 Dg-0.31 Cd-0.80 Cg0.88 R0.11/epoch25.pt')\n",
    "# stuff = Path('../../results/CR_bill/Ctx3/L2 B2048 LR1e-03/epoch50.pt')\n",
    "deno_space = Embedding(\n",
    "    stuff, 'recomposer_deno', device=torch.device('cuda:0'))\n",
    "cono_space = Embedding(\n",
    "    stuff, 'recomposer_cono', device=torch.device('cuda:0'))"
   ]
  },
  {
   "cell_type": "code",
   "execution_count": 30,
   "metadata": {},
   "outputs": [],
   "source": [
    "def tabulate(q1, q2):\n",
    "    PE_cs = pretrained.cosine_similarity(q1, q2)\n",
    "    DS_cs = deno_space.cosine_similarity(q1, q2)\n",
    "    CS_cs = cono_space.cosine_similarity(q1, q2)\n",
    "    # also get neighbor ranking?\n",
    "    print(round(PE_cs, 4), round(DS_cs, 4), round(CS_cs, 4), q1, q2, sep='\\t')\n",
    "\n",
    "def tabulate_rank(q1, q2):\n",
    "    print(\n",
    "        pretrained.neighbor_rank(q1, q2),\n",
    "        pretrained.neighbor_rank(q2, q1),\n",
    "        deno_space.neighbor_rank(q1, q2),\n",
    "        deno_space.neighbor_rank(q2, q1),\n",
    "        cono_space.neighbor_rank(q1, q2),\n",
    "        cono_space.neighbor_rank(q2, q1),\n",
    "        q1, q2, sep='\\t')\n",
    "\n",
    "    \n",
    "# def cf(q1, q2)\n",
    "#     pretrained.nearest_neighbor(q1)\n",
    "#     model.nearest_neighbor(q1)\n",
    "#     print('\\n')\n",
    "#     pretrained.nearest_neighbor(q2)\n",
    "#     model.nearest_neighbor(q2)"
   ]
  },
  {
   "cell_type": "code",
   "execution_count": 31,
   "metadata": {},
   "outputs": [],
   "source": [
    "cherry_pairs = [\n",
    "    # Luntz Report, all GOP euphemisms\n",
    "    ('government', 'washington'),\n",
    "    # ('private_account', 'personal_account'),\n",
    "    # ('tax_reform', 'tax_simplification'),\n",
    "    ('estate_tax', 'death_tax'),\n",
    "    ('capitalism', 'free_market'),  # global economy, globalization\n",
    "    # ('outsourcing', 'innovation'),  # \"root cause\" of outsourcing, regulation\n",
    "    ('undocumented', 'illegal_aliens'),  # OOV undocumented_workers\n",
    "    ('foreign_trade', 'international_trade'),  # foreign, global all bad\n",
    "    # ('drilling_for_oil', 'exploring_for_energy'),\n",
    "    # ('drilling', 'energy_exploration'),\n",
    "    # ('tort_reform', 'lawsuit_abuse_reform'),\n",
    "    # ('trial_lawyer', 'personal_injury_lawyer'),  # aka ambulance chasers\n",
    "    # ('corporate_transparency', 'corporate_accountability'),\n",
    "    # ('school_choice', 'parental_choice'),  # equal_opportunity_in_education\n",
    "    # ('healthcare_choice', 'right_to_choose')\n",
    "\n",
    "    # Own Cherries\n",
    "    ('public_option', 'governmentrun'),\n",
    "#     ('political_speech', 'campaign_spending'),  # hard example\n",
    "    ('cut_taxes', 'trickledown'),  # OOV supplyside\n",
    "]\n",
    "\n"
   ]
  },
  {
   "cell_type": "code",
   "execution_count": 32,
   "metadata": {},
   "outputs": [
    {
     "name": "stdout",
     "output_type": "stream",
     "text": [
      "22515\t19518\t1068\t2052\t2290\t14324\tgovernment\twashington\n",
      "2\t1\t19\t4\t23862\t20891\testate_tax\tdeath_tax\n",
      "10313\t1530\t2691\t3660\t7514\t4721\tcapitalism\tfree_market\n",
      "44\t53\t13822\t20036\t725\t2462\tundocumented\tillegal_aliens\n",
      "1707\t270\t158\t549\t10710\t6548\tforeign_trade\tinternational_trade\n",
      "5948\t16000\t942\t3151\t23771\t23251\tpublic_option\tgovernmentrun\n",
      "1632\t12387\t2390\t4497\t23508\t18593\tcut_taxes\ttrickledown\n"
     ]
    }
   ],
   "source": [
    "for q1, q2 in cherry_pairs:\n",
    "    tabulate_rank(q1, q2)"
   ]
  },
  {
   "cell_type": "code",
   "execution_count": null,
   "metadata": {},
   "outputs": [],
   "source": [
    "for q1, q2 in cherry_pairs:\n",
    "    tabulate(q1, q2)"
   ]
  },
  {
   "cell_type": "code",
   "execution_count": null,
   "metadata": {},
   "outputs": [],
   "source": [
    "cf('undocumented_workers', 'illegal_aliens')"
   ]
  },
  {
   "cell_type": "code",
   "execution_count": null,
   "metadata": {},
   "outputs": [],
   "source": [
    "cf('estate_tax', 'death_tax')"
   ]
  },
  {
   "cell_type": "code",
   "execution_count": null,
   "metadata": {
    "scrolled": true
   },
   "outputs": [],
   "source": [
    "# Denotation Space: Want to see stuff from other party\n",
    "# model.embedding = model.deno_embed\n",
    "# q1 = 'universal_health_care'  # OOV\n",
    "# q2 = 'socialized_medicine'\n",
    "model = deno_space\n",
    "q1 = 'singlepayer'\n",
    "q2 = 'governmentrun'\n",
    "print(pretrained.cosine_similarity(q1, q2))\n",
    "print(model.cosine_similarity(q1, q2))\n",
    "pretrained.nearest_neighbor(q1)\n",
    "model.nearest_neighbor(q1)\n",
    "print('\\n')\n",
    "pretrained.nearest_neighbor(q2)\n",
    "model.nearest_neighbor(q2)"
   ]
  },
  {
   "cell_type": "code",
   "execution_count": null,
   "metadata": {},
   "outputs": [],
   "source": [
    "model = deno_space\n",
    "q1 = 'public_option'\n",
    "q2 = 'governmentrun'\n",
    "print(pretrained.cosine_similarity(q1, q2))\n",
    "print(model.cosine_similarity(q1, q2))\n",
    "pretrained.nearest_neighbor(q1)\n",
    "model.nearest_neighbor(q1)\n",
    "print('\\n')\n",
    "pretrained.nearest_neighbor(q2)\n",
    "model.nearest_neighbor(q2)"
   ]
  },
  {
   "cell_type": "code",
   "execution_count": null,
   "metadata": {
    "scrolled": false
   },
   "outputs": [],
   "source": [
    "model = deno_space\n",
    "q1 = 'independent_expenditures'\n",
    "q2 = 'political_speech'\n",
    "print(pretrained.cosine_similarity(q1, q2))\n",
    "print(model.cosine_similarity(q1, q2))\n",
    "pretrained.nearest_neighbor(q1)\n",
    "model.nearest_neighbor(q1)\n",
    "print('\\n')\n",
    "pretrained.nearest_neighbor(q2)\n",
    "model.nearest_neighbor(q2)"
   ]
  },
  {
   "cell_type": "code",
   "execution_count": null,
   "metadata": {},
   "outputs": [],
   "source": [
    "model = deno_space\n",
    "q1 = 'tax_breaks'\n",
    "q2 = 'tax_relief'\n",
    "print(pretrained.cosine_similarity(q1, q2))\n",
    "print(model.cosine_similarity(q1, q2))\n",
    "pretrained.nearest_neighbor(q1)\n",
    "model.nearest_neighbor(q1)\n",
    "print('\\n')\n",
    "pretrained.nearest_neighbor(q2)\n",
    "model.nearest_neighbor(q2)"
   ]
  },
  {
   "cell_type": "code",
   "execution_count": null,
   "metadata": {},
   "outputs": [],
   "source": [
    "model = deno_space\n",
    "q1 = 'socialized_medicine' # 'obamacare'\n",
    "q2 = 'health_care_reform'\n",
    "print(pretrained.cosine_similarity(q1, q2))\n",
    "print(model.cosine_similarity(q1, q2))\n",
    "pretrained.nearest_neighbor(q1)\n",
    "model.nearest_neighbor(q1)\n",
    "print('\\n')\n",
    "pretrained.nearest_neighbor(q2)\n",
    "model.nearest_neighbor(q2)"
   ]
  },
  {
   "cell_type": "markdown",
   "metadata": {},
   "source": [
    "### Connotation Space: Want to see unrelated random entities of the same party"
   ]
  },
  {
   "cell_type": "code",
   "execution_count": null,
   "metadata": {},
   "outputs": [],
   "source": [
    "model = cono_space\n",
    "q1 = 'gun_control'\n",
    "q2 = 'illegal_aliens'\n",
    "print(pretrained.cosine_similarity(q1, q2))\n",
    "print(model.cosine_similarity(q1, q2))\n",
    "pretrained.nearest_neighbor(q1)\n",
    "model.nearest_neighbor(q1)\n",
    "print('\\n')\n",
    "pretrained.nearest_neighbor(q2)\n",
    "model.nearest_neighbor(q2)"
   ]
  },
  {
   "cell_type": "code",
   "execution_count": null,
   "metadata": {},
   "outputs": [],
   "source": [
    "model = cono_space\n",
    "q1 = 'wall_street_reform'\n",
    "q2 = 'civil_rights'\n",
    "print(pretrained.cosine_similarity(q1, q2))\n",
    "print(model.cosine_similarity(q1, q2))\n",
    "pretrained.nearest_neighbor(q1)\n",
    "model.nearest_neighbor(q1)\n",
    "print('\\n')\n",
    "pretrained.nearest_neighbor(q2)\n",
    "model.nearest_neighbor(q2)"
   ]
  },
  {
   "cell_type": "code",
   "execution_count": null,
   "metadata": {},
   "outputs": [],
   "source": [
    "model = cono_space\n",
    "q1 = 'nuclear_arms_race'\n",
    "q2 = 'credit_card'\n",
    "print(pretrained.cosine_similarity(q1, q2))\n",
    "print(model.cosine_similarity(q1, q2))\n",
    "pretrained.nearest_neighbor(q1)\n",
    "model.nearest_neighbor(q1)\n",
    "print('\\n')\n",
    "pretrained.nearest_neighbor(q2)\n",
    "model.nearest_neighbor(q2)"
   ]
  },
  {
   "cell_type": "code",
   "execution_count": null,
   "metadata": {},
   "outputs": [],
   "source": [
    "model = cono_space\n",
    "q = 'national_energy_tax'\n",
    "pretrained.nearest_neighbor(q)\n",
    "model.nearest_neighbor(q)"
   ]
  },
  {
   "cell_type": "code",
   "execution_count": null,
   "metadata": {},
   "outputs": [],
   "source": [
    "pretrained.cosine_similarity('tariff', 'employers')"
   ]
  }
 ],
 "metadata": {
  "kernelspec": {
   "display_name": "Python 3",
   "language": "python",
   "name": "python3"
  },
  "language_info": {
   "codemirror_mode": {
    "name": "ipython",
    "version": 3
   },
   "file_extension": ".py",
   "mimetype": "text/x-python",
   "name": "python",
   "nbconvert_exporter": "python",
   "pygments_lexer": "ipython3",
   "version": "3.7.5"
  }
 },
 "nbformat": 4,
 "nbformat_minor": 2
}
