{
 "cells": [
  {
   "cell_type": "code",
   "execution_count": 1,
   "metadata": {},
   "outputs": [],
   "source": [
    "import pickle\n",
    "import csv\n",
    "import os\n",
    "from pathlib import Path\n",
    "from typing import Set, Tuple, NamedTuple, List, Dict, Counter, Optional\n",
    "\n",
    "import torch\n",
    "import numpy as np\n",
    "from scipy.spatial import distance\n",
    "from scipy.stats import spearmanr\n",
    "\n",
    "from evaluations.euphemism import Embedding, PhrasePair  \n",
    "from recomposer import Recomposer, RecomposerConfig\n",
    "from decomposer import Decomposer, DecomposerConfig\n",
    "\n",
    "\n",
    "torch.manual_seed(42)\n",
    "np.random.seed(42)"
   ]
  },
  {
   "cell_type": "markdown",
   "metadata": {},
   "source": [
    "### Load Pretrained Embedding"
   ]
  },
  {
   "cell_type": "code",
   "execution_count": 2,
   "metadata": {
    "scrolled": true
   },
   "outputs": [
    {
     "name": "stdout",
     "output_type": "stream",
     "text": [
      "vocab_size = 111,387, num_dimensions = 300\n",
      "Loading embeddings from ../../data/pretrained_word2vec/for_real_SGNS.txt\n",
      "Done\n"
     ]
    }
   ],
   "source": [
    "pretrained = Embedding('../../data/pretrained_word2vec/for_real_SGNS.txt', 'plain_text')"
   ]
  },
  {
   "cell_type": "code",
   "execution_count": null,
   "metadata": {},
   "outputs": [],
   "source": [
    "pretrained = Embedding('../../data/pretrained_word2vec/bill_mentions_HS.txt', 'plain_text')"
   ]
  },
  {
   "cell_type": "markdown",
   "metadata": {},
   "source": [
    "### Denotation Space: Want to see stuff from other party"
   ]
  },
  {
   "cell_type": "code",
   "execution_count": 3,
   "metadata": {},
   "outputs": [
    {
     "name": "stderr",
     "output_type": "stream",
     "text": [
      "/home/webson/Research/congressional_adversary/torch1.5/lib/python3.7/site-packages/torch/serialization.py:657: SourceChangeWarning: source code of class 'recomposer.Recomposer' has changed. you can retrieve the original source code by accessing the object's source attribute or set `torch.nn.Module.dump_patches = True` and use the patch tool to revert the changes.\n",
      "  warnings.warn(msg, SourceChangeWarning)\n",
      "/home/webson/Research/congressional_adversary/torch1.5/lib/python3.7/site-packages/torch/serialization.py:657: SourceChangeWarning: source code of class 'decomposer.Decomposer' has changed. you can retrieve the original source code by accessing the object's source attribute or set `torch.nn.Module.dump_patches = True` and use the patch tool to revert the changes.\n",
      "  warnings.warn(msg, SourceChangeWarning)\n"
     ]
    }
   ],
   "source": [
    "base_dir = Path('../../results/CR_skip/GM2')\n",
    "deno_space = Embedding(\n",
    "    base_dir / 'epoch5.pt', 'recomposer', device=torch.device('cuda:0'))\n",
    "# cono_space = Embedding(\n",
    "#     base_dir + 'affine/L4 0c -10b/epoch100.pt', 'decomposer', device=torch.device('cuda:0'))"
   ]
  },
  {
   "cell_type": "code",
   "execution_count": 4,
   "metadata": {},
   "outputs": [],
   "source": [
    "def cf(q1, q2):\n",
    "    model = deno_space\n",
    "    print(pretrained.cosine_similarity(q1, q2))\n",
    "    print(model.cosine_similarity(q1, q2))\n",
    "    pretrained.nearest_neighbor(q1)\n",
    "    model.nearest_neighbor(q1)\n",
    "    print('\\n')\n",
    "    pretrained.nearest_neighbor(q2)\n",
    "    model.nearest_neighbor(q2)"
   ]
  },
  {
   "cell_type": "code",
   "execution_count": 8,
   "metadata": {},
   "outputs": [
    {
     "name": "stdout",
     "output_type": "stream",
     "text": [
      "0.7523736357688904\n",
      "0.7111165523529053\n",
      "0.9278\tundocumented_aliens\n",
      "0.8685\tguest_workers\n",
      "0.8656\tundocumented_immigrants\n",
      "0.8520\tguest_worker\n",
      "0.8518\ttemporary_workers\n",
      "0.8417\ttemporary_worker\n",
      "0.8384\ttemporary_worker_program\n",
      "0.8332\tcountry_illegally\n",
      "0.8313\tguest_worker_program\n",
      "0.8289\tundocumented\n",
      "\n",
      "\n",
      "0.9182\tundocumented_aliens\n",
      "0.8687\tguest_workers\n",
      "0.8640\tundocumented_immigrants\n",
      "0.8047\tthe_simpsonmazzoli_bill\n",
      "0.8007\tundocumented\n",
      "0.8003\tguest_worker_program\n",
      "0.7941\tsimpsonmazzoli\n",
      "0.7859\tthe_agjobs_bill\n",
      "0.7735\tguestworker\n",
      "0.7725\tforeign_workers\n",
      "\n",
      "\n",
      "\n",
      "\n",
      "0.9042\tillegal_immigrants\n",
      "0.8584\tillegals\n",
      "0.8538\tundocumented\n",
      "0.8434\taliens\n",
      "0.7708\tcountry_illegally\n",
      "0.7595\tillegal_immigration\n",
      "0.7564\tundocumented_aliens\n",
      "0.7524\tundocumented_workers\n",
      "0.7519\tnoncitizens\n",
      "0.7465\tundocumented_immigrants\n",
      "\n",
      "\n",
      "0.9118\tillegal_immigrants\n",
      "0.8748\tillegals\n",
      "0.8584\taliens\n",
      "0.8157\tundocumented\n",
      "0.7819\tnoncitizens\n",
      "0.7735\tcountry_illegally\n",
      "0.7728\tillegal_immigration\n",
      "0.7570\tcriminal_aliens\n",
      "0.7483\talien\n",
      "0.7429\tundocumented_aliens\n",
      "\n",
      "\n"
     ]
    }
   ],
   "source": [
    "cf('undocumented_workers', 'illegal_aliens')"
   ]
  },
  {
   "cell_type": "code",
   "execution_count": 10,
   "metadata": {},
   "outputs": [
    {
     "name": "stdout",
     "output_type": "stream",
     "text": [
      "0.8849294781684875\n",
      "0.860477864742279\n",
      "0.8877\testate_taxes\n",
      "0.8849\tdeath_tax\n",
      "0.8187\testates\n",
      "0.8101\tdeath_taxes\n",
      "0.7886\testate_tax_relief\n",
      "0.7375\testates_would\n",
      "0.7299\tinheritance\n",
      "0.7283\tcapital_gains_taxes\n",
      "0.7268\tmarriage_penalty\n",
      "0.7076\tmarriage_penalty_relief\n",
      "\n",
      "\n",
      "0.8605\tdeath_tax\n",
      "0.8271\testate_taxes\n",
      "0.7898\testates\n",
      "0.7202\testate_tax_relief\n",
      "0.7095\tdeath_taxes\n",
      "0.6749\testate\n",
      "0.6522\tfamilyowned\n",
      "0.6421\tfamily_farms\n",
      "0.6414\tinheritance\n",
      "0.6392\testates_would\n",
      "\n",
      "\n",
      "\n",
      "\n",
      "0.8849\testate_tax\n",
      "0.8553\tdeath_taxes\n",
      "0.8346\testate_taxes\n",
      "0.7322\tmarriage_penalty\n",
      "0.7317\testate_tax_relief\n",
      "0.7292\trepeal_the_death\n",
      "0.7219\tcapital_gains_taxes\n",
      "0.7182\tmarriage_penalty_tax\n",
      "0.7157\ttaxable_event\n",
      "0.7093\tinheritance\n",
      "\n",
      "\n",
      "0.8605\testate_tax\n",
      "0.8387\tdeath_taxes\n",
      "0.8206\testate_taxes\n",
      "0.7190\testate_tax_relief\n",
      "0.7008\tcapital_gains_taxes\n",
      "0.6881\tconfiscatory\n",
      "0.6854\trepeal_the_death\n",
      "0.6838\tfamilyowned\n",
      "0.6836\testate\n",
      "0.6821\tfamily_farms\n",
      "\n",
      "\n"
     ]
    }
   ],
   "source": [
    "cf('estate_tax', 'death_tax')"
   ]
  },
  {
   "cell_type": "code",
   "execution_count": 9,
   "metadata": {
    "scrolled": true
   },
   "outputs": [
    {
     "name": "stdout",
     "output_type": "stream",
     "text": [
      "0.8191059827804565\n",
      "0.7416767477989197\n",
      "0.8690\tcanadianstyle\n",
      "0.8631\tgovernmentrun_health_care\n",
      "0.8543\tsinglepayer_system\n",
      "0.8402\tpublic_plan\n",
      "0.8228\tnational_health_insurance\n",
      "0.8196\tgovernmentrun_system\n",
      "0.8191\tgovernmentrun\n",
      "0.8179\tgovernment_plan\n",
      "0.8168\tnational_health_care\n",
      "0.8143\tsocialized_medicine\n",
      "\n",
      "\n",
      "0.8080\tpublic_plan\n",
      "0.8020\tnational_health_insurance\n",
      "0.8002\tgovernmentrun_health_care\n",
      "0.7982\tnational_health_care\n",
      "0.7733\tuniversal_health_care\n",
      "0.7708\tuniversal_coverage\n",
      "0.7675\tamerican_health_care\n",
      "0.7620\tcurrent_health_care\n",
      "0.7453\tsocialized_medicine\n",
      "0.7434\tpublic_health_insurance\n",
      "\n",
      "\n",
      "\n",
      "\n",
      "0.8626\tgovernmentrun_health_care\n",
      "0.8471\tgovernment_plan\n",
      "0.8423\tgovernmentrun_plan\n",
      "0.8311\tpublic_plan\n",
      "0.8260\tgovernment_option\n",
      "0.8239\tgovernment_health_care\n",
      "0.8216\tsocialized\n",
      "0.8197\tgovernmentrun_health\n",
      "0.8191\tsinglepayer\n",
      "0.8150\tsinglepayer_system\n",
      "\n",
      "\n",
      "0.8718\tgovernmentrun_health_care\n",
      "0.8582\tgovernment_plan\n",
      "0.8371\tgovernmentrun_plan\n",
      "0.8359\tgovernmentcontrolled\n",
      "0.8241\tsocialized\n",
      "0.8169\tpublic_plan\n",
      "0.8167\tgovernment_option\n",
      "0.8162\tgovernmentrun_health\n",
      "0.8123\tgovernment_health_care\n",
      "0.8101\tprivate_health\n",
      "\n",
      "\n"
     ]
    }
   ],
   "source": [
    "# Denotation Space: Want to see stuff from other party\n",
    "# model.embedding = model.deno_embed\n",
    "# q1 = 'universal_health_care'  # OOV\n",
    "# q2 = 'socialized_medicine'\n",
    "model = deno_space\n",
    "q1 = 'singlepayer'\n",
    "q2 = 'governmentrun'\n",
    "print(pretrained.cosine_similarity(q1, q2))\n",
    "print(model.cosine_similarity(q1, q2))\n",
    "pretrained.nearest_neighbor(q1)\n",
    "model.nearest_neighbor(q1)\n",
    "print('\\n')\n",
    "pretrained.nearest_neighbor(q2)\n",
    "model.nearest_neighbor(q2)"
   ]
  },
  {
   "cell_type": "code",
   "execution_count": 11,
   "metadata": {},
   "outputs": [
    {
     "name": "stdout",
     "output_type": "stream",
     "text": [
      "0.7376804947853088\n",
      "0.6248732209205627\n",
      "0.8982\tpublic_plan\n",
      "0.8337\tgovernment_plan\n",
      "0.8298\tgovernment_option\n",
      "0.8200\tgovernmentrun_plan\n",
      "0.8125\tpublic_health_insurance\n",
      "0.8042\tinsurance_plan\n",
      "0.7996\tprivate_health_insurance\n",
      "0.7835\tlower_costs\n",
      "0.7831\tsinglepayer_system\n",
      "0.7789\tgovernmentrun_health\n",
      "\n",
      "\n",
      "0.8371\tpublic_plan\n",
      "0.7358\tpublic_health_insurance\n",
      "0.7183\tprivate_health_insurance\n",
      "0.6986\tsinglepayer\n",
      "0.6883\tprivate_plans\n",
      "0.6883\tprivate_insurance_companies\n",
      "0.6882\thealth_reform\n",
      "0.6874\tprivate_insurers\n",
      "0.6818\tinsurance_plan\n",
      "0.6817\tgovernment_plan\n",
      "\n",
      "\n",
      "\n",
      "\n",
      "0.8626\tgovernmentrun_health_care\n",
      "0.8471\tgovernment_plan\n",
      "0.8423\tgovernmentrun_plan\n",
      "0.8311\tpublic_plan\n",
      "0.8260\tgovernment_option\n",
      "0.8239\tgovernment_health_care\n",
      "0.8216\tsocialized\n",
      "0.8197\tgovernmentrun_health\n",
      "0.8191\tsinglepayer\n",
      "0.8150\tsinglepayer_system\n",
      "\n",
      "\n",
      "0.8718\tgovernmentrun_health_care\n",
      "0.8582\tgovernment_plan\n",
      "0.8371\tgovernmentrun_plan\n",
      "0.8359\tgovernmentcontrolled\n",
      "0.8241\tsocialized\n",
      "0.8169\tpublic_plan\n",
      "0.8167\tgovernment_option\n",
      "0.8162\tgovernmentrun_health\n",
      "0.8123\tgovernment_health_care\n",
      "0.8101\tprivate_health\n",
      "\n",
      "\n"
     ]
    }
   ],
   "source": [
    "model = deno_space\n",
    "q1 = 'public_option'\n",
    "q2 = 'governmentrun'\n",
    "print(pretrained.cosine_similarity(q1, q2))\n",
    "print(model.cosine_similarity(q1, q2))\n",
    "pretrained.nearest_neighbor(q1)\n",
    "model.nearest_neighbor(q1)\n",
    "print('\\n')\n",
    "pretrained.nearest_neighbor(q2)\n",
    "model.nearest_neighbor(q2)"
   ]
  },
  {
   "cell_type": "code",
   "execution_count": 12,
   "metadata": {
    "scrolled": false
   },
   "outputs": [
    {
     "name": "stdout",
     "output_type": "stream",
     "text": [
      "0.7746047973632812\n",
      "0.7723322510719299\n",
      "0.9004\tissue_ads\n",
      "0.8925\tnational_parties\n",
      "0.8922\toutside_groups\n",
      "0.8913\tissue_advocacy\n",
      "0.8907\thard_money\n",
      "0.8849\tstate_parties\n",
      "0.8737\tsoftmoney\n",
      "0.8703\tsoft_money_contributions\n",
      "0.8642\tpac_contributions\n",
      "0.8605\tban_soft_money\n",
      "\n",
      "\n",
      "0.8794\tstate_parties\n",
      "0.8773\thard_money\n",
      "0.8740\tissue_advocacy\n",
      "0.8737\tnational_parties\n",
      "0.8628\tban_soft_money\n",
      "0.8592\tissue_ads\n",
      "0.8556\tsoft_money_contributions\n",
      "0.8433\tpac_contributions\n",
      "0.8363\tsoftmoney\n",
      "0.8280\tcampaign_spending\n",
      "\n",
      "\n",
      "\n",
      "\n",
      "0.8611\tfirst_amendment_rights\n",
      "0.8571\tissue_advocacy\n",
      "0.8404\tbuckley_v_valeo\n",
      "0.8315\texpress_advocacy\n",
      "0.8270\tbuckley_versus_valeo\n",
      "0.8265\tthe_first_amendments\n",
      "0.8233\tfree_speech\n",
      "0.8208\tthe_snowejeffords_amendment\n",
      "0.8189\telectioneering\n",
      "0.8114\tfreespeech\n",
      "\n",
      "\n",
      "0.9003\tfirst_amendment_rights\n",
      "0.8869\texpress_advocacy\n",
      "0.8813\tissue_advocacy\n",
      "0.8786\toutside_groups\n",
      "0.8771\tabridging\n",
      "0.8763\tthe_first_amendments\n",
      "0.8761\telectioneering\n",
      "0.8760\tfreespeech\n",
      "0.8721\tnonparty\n",
      "0.8668\tcampaign_finances\n",
      "\n",
      "\n"
     ]
    }
   ],
   "source": [
    "model = deno_space\n",
    "q1 = 'independent_expenditures'\n",
    "q2 = 'political_speech'\n",
    "print(pretrained.cosine_similarity(q1, q2))\n",
    "print(model.cosine_similarity(q1, q2))\n",
    "pretrained.nearest_neighbor(q1)\n",
    "model.nearest_neighbor(q1)\n",
    "print('\\n')\n",
    "pretrained.nearest_neighbor(q2)\n",
    "model.nearest_neighbor(q2)"
   ]
  },
  {
   "cell_type": "code",
   "execution_count": 13,
   "metadata": {},
   "outputs": [
    {
     "name": "stdout",
     "output_type": "stream",
     "text": [
      "0.6967632174491882\n",
      "0.633709728717804\n",
      "0.8928\ttax_break\n",
      "0.8508\twealthiest_americans\n",
      "0.8161\tbillion_in_tax\n",
      "0.8126\ttax_cuts\n",
      "0.8098\twealthiest_people\n",
      "0.7975\twealthy_americans\n",
      "0.7931\tgiveaways\n",
      "0.7890\thuge_tax\n",
      "0.7887\twealthiest_among_us\n",
      "0.7876\tbillion_tax_cut\n",
      "\n",
      "\n",
      "0.8182\ttax_break\n",
      "0.6783\ttax_cuts\n",
      "0.6610\tbillion_in_tax\n",
      "0.6587\twealthiest_americans\n",
      "0.6504\ttax_incentives\n",
      "0.6500\ttax_credits\n",
      "0.6358\ttax_credit\n",
      "0.6337\ttax_relief\n",
      "0.6317\ttax_provisions\n",
      "0.6306\tluxury_taxes\n",
      "\n",
      "\n",
      "\n",
      "\n",
      "0.8370\tmarriage_penalty_relief\n",
      "0.8306\ttax_relief_package\n",
      "0.8262\ttax_reduction\n",
      "0.8096\ttax_cut\n",
      "0.8049\tmiddleincome_tax\n",
      "0.8035\tperchild_tax_credit\n",
      "0.8033\testate_tax_relief\n",
      "0.8019\ttargeted_tax\n",
      "0.7995\ttax_cuts\n",
      "0.7932\tbipartisan_tax_relief\n",
      "\n",
      "\n",
      "0.8297\ttax_reduction\n",
      "0.8015\ttax_relief_package\n",
      "0.8001\tmarriage_penalty_relief\n",
      "0.7947\ttax_reductions\n",
      "0.7891\tperchild_tax_credit\n",
      "0.7843\tthe_taxpayer_relief_act\n",
      "0.7836\ttax_fairness\n",
      "0.7818\tthe_taxpayer_refund_act\n",
      "0.7806\ttax_increases\n",
      "0.7734\tperchild\n",
      "\n",
      "\n"
     ]
    }
   ],
   "source": [
    "model = deno_space\n",
    "q1 = 'tax_breaks'\n",
    "q2 = 'tax_relief'\n",
    "print(pretrained.cosine_similarity(q1, q2))\n",
    "print(model.cosine_similarity(q1, q2))\n",
    "pretrained.nearest_neighbor(q1)\n",
    "model.nearest_neighbor(q1)\n",
    "print('\\n')\n",
    "pretrained.nearest_neighbor(q2)\n",
    "model.nearest_neighbor(q2)"
   ]
  },
  {
   "cell_type": "code",
   "execution_count": 14,
   "metadata": {},
   "outputs": [
    {
     "name": "stdout",
     "output_type": "stream",
     "text": [
      "0.6664696931838989\n",
      "0.2795944809913635\n",
      "0.8996\tgovernmentrun_health_care\n",
      "0.8941\tsinglepayer_system\n",
      "0.8757\tgovernmentrun_system\n",
      "0.8508\tgovernment_health_care\n",
      "0.8432\tgovernment_option\n",
      "0.8425\ttakeover_of_health\n",
      "0.8403\thillarycare\n",
      "0.8356\tobamacare\n",
      "0.8345\tsocialized\n",
      "0.8313\tgovernment_takeover\n",
      "\n",
      "\n",
      "0.8901\tsinglepayer_system\n",
      "0.8770\tgovernmentrun_health_care\n",
      "0.8580\tgovernmentrun_system\n",
      "0.8505\tbest_health_care\n",
      "0.8448\tgovernment_health_care\n",
      "0.8414\tcanadianstyle\n",
      "0.8405\ttakeover_of_health\n",
      "0.8405\tsocialized\n",
      "0.8398\thillarycare\n",
      "0.8356\tgovernmentrun_health\n",
      "\n",
      "\n",
      "\n",
      "\n",
      "0.9245\thealth_reform\n",
      "0.8748\tcomprehensive_health_care\n",
      "0.8673\tthe_health_care_reform\n",
      "0.8347\tcare_reform\n",
      "0.8337\thealth_care_debate\n",
      "0.8105\thealth_insurance_reform\n",
      "0.8093\thealth_care_legislation\n",
      "0.8053\tthe_health_reform\n",
      "0.8025\tnational_health_care\n",
      "0.7985\thealth_care_bill\n",
      "\n",
      "\n",
      "0.7112\thealth_care_system\n",
      "0.6481\thealth_insurance\n",
      "0.6031\thealth_care_costs\n",
      "0.5962\tmedicare_and_medicaid\n",
      "0.5848\tconsuming\n",
      "0.5812\thealth_care_services\n",
      "0.5798\tproviders\n",
      "0.5798\tyoure\n",
      "0.5731\trelieve\n",
      "0.5706\thealth_reform\n",
      "\n",
      "\n"
     ]
    }
   ],
   "source": [
    "model = deno_space\n",
    "q1 = 'socialized_medicine' # 'obamacare'\n",
    "q2 = 'health_care_reform'\n",
    "print(pretrained.cosine_similarity(q1, q2))\n",
    "print(model.cosine_similarity(q1, q2))\n",
    "pretrained.nearest_neighbor(q1)\n",
    "model.nearest_neighbor(q1)\n",
    "print('\\n')\n",
    "pretrained.nearest_neighbor(q2)\n",
    "model.nearest_neighbor(q2)"
   ]
  },
  {
   "cell_type": "markdown",
   "metadata": {},
   "source": [
    "### Connotation Space: Want to see unrelated random entities of the same party"
   ]
  },
  {
   "cell_type": "code",
   "execution_count": null,
   "metadata": {},
   "outputs": [],
   "source": [
    "model = cono_space\n",
    "q1 = 'gun_control'\n",
    "q2 = 'illegal_aliens'\n",
    "print(pretrained.cosine_similarity(q1, q2))\n",
    "print(model.cosine_similarity(q1, q2))\n",
    "pretrained.nearest_neighbor(q1)\n",
    "model.nearest_neighbor(q1)\n",
    "print('\\n')\n",
    "pretrained.nearest_neighbor(q2)\n",
    "model.nearest_neighbor(q2)"
   ]
  },
  {
   "cell_type": "code",
   "execution_count": null,
   "metadata": {},
   "outputs": [],
   "source": [
    "model = cono_space\n",
    "q1 = 'wall_street_reform'\n",
    "q2 = 'civil_rights'\n",
    "print(pretrained.cosine_similarity(q1, q2))\n",
    "print(model.cosine_similarity(q1, q2))\n",
    "pretrained.nearest_neighbor(q1)\n",
    "model.nearest_neighbor(q1)\n",
    "print('\\n')\n",
    "pretrained.nearest_neighbor(q2)\n",
    "model.nearest_neighbor(q2)"
   ]
  },
  {
   "cell_type": "code",
   "execution_count": null,
   "metadata": {},
   "outputs": [],
   "source": [
    "model = cono_space\n",
    "q1 = 'nuclear_arms_race'\n",
    "q2 = 'credit_card'\n",
    "print(pretrained.cosine_similarity(q1, q2))\n",
    "print(model.cosine_similarity(q1, q2))\n",
    "pretrained.nearest_neighbor(q1)\n",
    "model.nearest_neighbor(q1)\n",
    "print('\\n')\n",
    "pretrained.nearest_neighbor(q2)\n",
    "model.nearest_neighbor(q2)"
   ]
  },
  {
   "cell_type": "code",
   "execution_count": null,
   "metadata": {},
   "outputs": [],
   "source": [
    "model = cono_space\n",
    "q = 'national_energy_tax'\n",
    "pretrained.nearest_neighbor(q)\n",
    "model.nearest_neighbor(q)"
   ]
  },
  {
   "cell_type": "code",
   "execution_count": null,
   "metadata": {},
   "outputs": [],
   "source": [
    "pretrained.cosine_similarity('tariff', 'employers')"
   ]
  }
 ],
 "metadata": {
  "kernelspec": {
   "display_name": "Python 3",
   "language": "python",
   "name": "python3"
  },
  "language_info": {
   "codemirror_mode": {
    "name": "ipython",
    "version": 3
   },
   "file_extension": ".py",
   "mimetype": "text/x-python",
   "name": "python",
   "nbconvert_exporter": "python",
   "pygments_lexer": "ipython3",
   "version": "3.7.5"
  }
 },
 "nbformat": 4,
 "nbformat_minor": 2
}
