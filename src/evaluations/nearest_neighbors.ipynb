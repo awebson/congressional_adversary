{
 "cells": [
  {
   "cell_type": "code",
   "execution_count": 6,
   "metadata": {},
   "outputs": [],
   "source": [
    "import pickle\n",
    "import csv\n",
    "import os\n",
    "from typing import Set, Tuple, NamedTuple, List, Dict, Counter, Optional\n",
    "\n",
    "import torch\n",
    "import numpy as np\n",
    "from scipy.spatial import distance\n",
    "from scipy.stats import spearmanr\n",
    "\n",
    "from evaluations.intrinsic_eval import Embedding, PhrasePair\n",
    "# from recomposer import Decomposer, Recomposer, RecomposerConfig\n",
    "from decomposer import Decomposer, DecomposerConfig\n",
    "\n",
    "\n",
    "torch.manual_seed(42)\n",
    "np.random.seed(42)"
   ]
  },
  {
   "cell_type": "markdown",
   "metadata": {},
   "source": [
    "### Load Pretrained Embedding"
   ]
  },
  {
   "cell_type": "code",
   "execution_count": 4,
   "metadata": {
    "scrolled": true
   },
   "outputs": [
    {
     "name": "stdout",
     "output_type": "stream",
     "text": [
      "vocab_size = 111,387, num_dimensions = 300\n",
      "Loading embeddings from ../../data/pretrained_word2vec/for_real.txt\n",
      "Done\n"
     ]
    }
   ],
   "source": [
    "pretrained = Embedding('../../data/pretrained_word2vec/for_real.txt', 'plain_text')"
   ]
  },
  {
   "cell_type": "code",
   "execution_count": 18,
   "metadata": {},
   "outputs": [
    {
     "name": "stdout",
     "output_type": "stream",
     "text": [
      "vocab_size = 24,005, num_dimensions = 300\n",
      "Loading embeddings from ../../data/pretrained_word2vec/bill_mentions_HS.txt\n",
      "Done\n"
     ]
    }
   ],
   "source": [
    "pretrained = Embedding('../../data/pretrained_word2vec/bill_mentions_HS.txt', 'plain_text')"
   ]
  },
  {
   "cell_type": "code",
   "execution_count": 23,
   "metadata": {},
   "outputs": [
    {
     "name": "stdout",
     "output_type": "stream",
     "text": [
      "0.9415\thealth_care_system\n",
      "0.9310\tseniors\n",
      "0.9150\tcoverage\n",
      "0.9148\tcare\n",
      "0.9078\tsenior_citizens\n",
      "0.9072\tmedicaid\n",
      "0.9066\taffordable\n",
      "0.9020\tmedicare\n",
      "0.8996\tmedicare_beneficiaries\n",
      "0.8989\taccess_to_health\n",
      "0.8980\tlowincome\n",
      "0.8974\tuninsured\n",
      "0.8937\thealth_care_coverage\n",
      "0.8936\thealth_coverage\n",
      "0.8928\telderly\n",
      "0.8916\tmedical_care\n",
      "0.8906\thealth_care_costs\n",
      "0.8800\thealth_insurance\n",
      "0.8783\tbeneficiaries\n",
      "0.8755\tmedicare_and_medicaid\n",
      "\n",
      "\n"
     ]
    }
   ],
   "source": [
    "pretrained.nearest_neighbor('health_care', top_k=20)"
   ]
  },
  {
   "cell_type": "markdown",
   "metadata": {},
   "source": [
    "### Denotation Space: Want to see stuff from other party"
   ]
  },
  {
   "cell_type": "code",
   "execution_count": 3,
   "metadata": {},
   "outputs": [],
   "source": [
    "base_dir = '../../results/'\n",
    "# deno_space = Embedding(\n",
    "#     base_dir + 'L1/epoch50.pt', 'decomposer', device=torch.device('cuda:0'))\n",
    "cono_space = Embedding(\n",
    "    base_dir + 'affine/L4 0c -10b/epoch100.pt', 'decomposer', device=torch.device('cuda:0'))"
   ]
  },
  {
   "cell_type": "code",
   "execution_count": null,
   "metadata": {
    "scrolled": false
   },
   "outputs": [],
   "source": [
    "# Denotation Space: Want to see stuff from other party\n",
    "# model.embedding = model.deno_embed\n",
    "# q1 = 'universal_health_care'  # OOV\n",
    "# q2 = 'socialized_medicine'\n",
    "model = deno_space\n",
    "q1 = 'singlepayer'\n",
    "q2 = 'governmentrun'\n",
    "print(pretrained.cosine_similarity(q1, q2))\n",
    "print(model.cosine_similarity(q1, q2))\n",
    "pretrained.nearest_neighbor(q1)\n",
    "model.nearest_neighbor(q1)\n",
    "print('\\n')\n",
    "pretrained.nearest_neighbor(q2)\n",
    "model.nearest_neighbor(q2)"
   ]
  },
  {
   "cell_type": "code",
   "execution_count": null,
   "metadata": {},
   "outputs": [],
   "source": [
    "model = deno_space\n",
    "q1 = 'public_option'\n",
    "q2 = 'governmentrun'\n",
    "print(pretrained.cosine_similarity(q1, q2))\n",
    "print(model.cosine_similarity(q1, q2))\n",
    "pretrained.nearest_neighbor(q1)\n",
    "model.nearest_neighbor(q1)\n",
    "print('\\n')\n",
    "pretrained.nearest_neighbor(q2)\n",
    "model.nearest_neighbor(q2)"
   ]
  },
  {
   "cell_type": "code",
   "execution_count": null,
   "metadata": {
    "scrolled": true
   },
   "outputs": [],
   "source": [
    "model = deno_space\n",
    "q1 = 'independent_expenditures'\n",
    "q2 = 'political_speech'\n",
    "print(pretrained.cosine_similarity(q1, q2))\n",
    "print(model.cosine_similarity(q1, q2))\n",
    "pretrained.nearest_neighbor(q1)\n",
    "model.nearest_neighbor(q1)\n",
    "print('\\n')\n",
    "pretrained.nearest_neighbor(q2)\n",
    "model.nearest_neighbor(q2)"
   ]
  },
  {
   "cell_type": "code",
   "execution_count": null,
   "metadata": {},
   "outputs": [],
   "source": [
    "model = deno_space\n",
    "q1 = 'tax_breaks'\n",
    "q2 = 'tax_relief'\n",
    "print(pretrained.cosine_similarity(q1, q2))\n",
    "print(model.cosine_similarity(q1, q2))\n",
    "pretrained.nearest_neighbor(q1)\n",
    "model.nearest_neighbor(q1)\n",
    "print('\\n')\n",
    "pretrained.nearest_neighbor(q2)\n",
    "model.nearest_neighbor(q2)"
   ]
  },
  {
   "cell_type": "code",
   "execution_count": null,
   "metadata": {},
   "outputs": [],
   "source": [
    "model = deno_space\n",
    "q1 = 'socialized_medicine' # 'obamacare'\n",
    "q2 = 'health_care_reform'\n",
    "print(pretrained.cosine_similarity(q1, q2))\n",
    "print(model.cosine_similarity(q1, q2))\n",
    "pretrained.nearest_neighbor(q1)\n",
    "model.nearest_neighbor(q1)\n",
    "print('\\n')\n",
    "pretrained.nearest_neighbor(q2)\n",
    "model.nearest_neighbor(q2)"
   ]
  },
  {
   "cell_type": "markdown",
   "metadata": {},
   "source": [
    "### Connotation Space: Want to see unrelated random entities of the same party"
   ]
  },
  {
   "cell_type": "code",
   "execution_count": 8,
   "metadata": {},
   "outputs": [
    {
     "name": "stdout",
     "output_type": "stream",
     "text": [
      "0.16207344830036163\n",
      "0.09589895606040955\n",
      "0.8222\tthe_brady_bill\n",
      "0.7669\tgun_safety\n",
      "0.7631\tgun_laws\n",
      "0.7600\tlawabiding_citizens\n",
      "0.7559\tguncontrol\n",
      "0.7442\tnra\n",
      "0.7407\tantigun\n",
      "0.7371\tbrady_bill\n",
      "0.7358\thandguns\n",
      "0.7319\tassault_weapons\n",
      "\n",
      "\n",
      "0.6633\tgun_laws\n",
      "0.6419\tthe_brady_bill\n",
      "0.6297\twaiting_period\n",
      "0.5598\tgun_safety\n",
      "0.5489\tnational_rifle_association\n",
      "0.5309\tnra\n",
      "0.4741\tatf\n",
      "0.4714\tanticrime\n",
      "0.4701\tthe_juvenile_justice_bill\n",
      "0.4699\thandgun\n",
      "\n",
      "\n",
      "\n",
      "\n",
      "0.9159\tillegal_immigrants\n",
      "0.8867\tundocumented\n",
      "0.8659\taliens\n",
      "0.8648\tillegals\n",
      "0.7993\tundocumented_immigrants\n",
      "0.7877\tcountry_illegally\n",
      "0.7815\tundocumented_workers\n",
      "0.7726\tillegal_immigration\n",
      "0.7683\tundocumented_aliens\n",
      "0.7680\talien\n",
      "\n",
      "\n",
      "0.7277\tundocumented\n",
      "0.7122\tillegal_immigrants\n",
      "0.6583\tillegals\n",
      "0.6511\taliens\n",
      "0.6367\tnoncitizens\n",
      "0.5642\tdeportable\n",
      "0.5461\tillegal_immigration\n",
      "0.5415\tillegally\n",
      "0.5338\tdeport\n",
      "0.4908\tamnesty\n",
      "\n",
      "\n"
     ]
    }
   ],
   "source": [
    "model = cono_space\n",
    "q1 = 'gun_control'\n",
    "q2 = 'illegal_aliens'\n",
    "print(pretrained.cosine_similarity(q1, q2))\n",
    "print(model.cosine_similarity(q1, q2))\n",
    "pretrained.nearest_neighbor(q1)\n",
    "model.nearest_neighbor(q1)\n",
    "print('\\n')\n",
    "pretrained.nearest_neighbor(q2)\n",
    "model.nearest_neighbor(q2)"
   ]
  },
  {
   "cell_type": "code",
   "execution_count": 7,
   "metadata": {},
   "outputs": [
    {
     "name": "stdout",
     "output_type": "stream",
     "text": [
      "0.1166476458311081\n",
      "0.1566346436738968\n",
      "0.8053\tfinancial_reform\n",
      "0.7396\tthe_wall_street_reform_bill\n",
      "0.7279\tfinancial_regulatory_reform\n",
      "0.7221\tdoddfrank\n",
      "0.7080\tfinancial_sector\n",
      "0.7078\tbig_banks\n",
      "0.7066\tthe_wall_street_reform\n",
      "0.7063\tfinancial_industry\n",
      "0.6924\tconsumer_protection_act\n",
      "0.6854\twall_street\n",
      "\n",
      "\n",
      "0.6086\tfinancial_reform\n",
      "0.5065\tbig_banks\n",
      "0.4638\tmain_street\n",
      "0.4132\tbailouts\n",
      "0.4081\tfinancial_system\n",
      "0.3950\twall_street\n",
      "0.3798\tbig_to_fail\n",
      "0.3715\tbackroom\n",
      "0.3694\tprotect_the_american\n",
      "0.3686\tenergy_bill\n",
      "\n",
      "\n",
      "\n",
      "\n",
      "0.7461\tcivil_rights_act\n",
      "0.7283\tthe_civil_rights_acts\n",
      "0.7187\tthe_civil_rights_act\n",
      "0.7152\tcivil_rights_laws\n",
      "0.7144\tvoting_rights\n",
      "0.7037\tcivil_rights_acts\n",
      "0.7025\tcivilrights\n",
      "0.6876\tequality\n",
      "0.6810\tvoting_rights_acts\n",
      "0.6805\tthe_voting_rights_act\n",
      "\n",
      "\n",
      "0.4645\tus_economy\n",
      "0.4478\tmanufacturing_sector\n",
      "0.4206\teconomic_growth\n",
      "0.4151\tnation\n",
      "0.4064\tamerican_businesses\n",
      "0.3997\tincrease\n",
      "0.3972\toffshoring\n",
      "0.3968\teconomic_policy\n",
      "0.3962\taerospace\n",
      "0.3931\texploration\n",
      "\n",
      "\n"
     ]
    }
   ],
   "source": [
    "model = cono_space\n",
    "q1 = 'wall_street_reform'\n",
    "q2 = 'civil_rights'\n",
    "print(pretrained.cosine_similarity(q1, q2))\n",
    "print(model.cosine_similarity(q1, q2))\n",
    "pretrained.nearest_neighbor(q1)\n",
    "model.nearest_neighbor(q1)\n",
    "print('\\n')\n",
    "pretrained.nearest_neighbor(q2)\n",
    "model.nearest_neighbor(q2)"
   ]
  },
  {
   "cell_type": "code",
   "execution_count": 6,
   "metadata": {},
   "outputs": [
    {
     "name": "stdout",
     "output_type": "stream",
     "text": [
      "0.028139857575297356\n",
      "0.037893738597631454\n",
      "0.9371\tarms_race\n",
      "0.8938\tnuclear_arms\n",
      "0.8280\tsuperpowers\n",
      "0.8207\tnuclear_holocaust\n",
      "0.8139\tthreat_of_nuclear\n",
      "0.8111\tnuclear_arsenals\n",
      "0.8082\tnuclear_war\n",
      "0.8060\tnuclear_arms_control\n",
      "0.7886\tnuclear_freeze\n",
      "0.7539\ttwo_superpowers\n",
      "\n",
      "\n",
      "0.7375\tarms_race\n",
      "0.7291\tnuclear_freeze\n",
      "0.7149\tsuperpowers\n",
      "0.7010\tnuclear_war\n",
      "0.5918\tarsenals\n",
      "0.5467\tmadness\n",
      "0.5420\tverifiable\n",
      "0.5302\tarmaments\n",
      "0.5049\tnuclear_warheads\n",
      "0.4871\tbuilddown\n",
      "\n",
      "\n",
      "\n",
      "\n",
      "0.9299\tcredit_cards\n",
      "0.8303\tcredit_card_companies\n",
      "0.8052\tcardholders\n",
      "0.7782\tcardholder\n",
      "0.7708\tcredit_card_debt\n",
      "0.7680\tcard_companies\n",
      "0.7297\tcredit_cardholders\n",
      "0.7262\tmaxed\n",
      "0.7238\tissuers\n",
      "0.7110\tsurcharging\n",
      "\n",
      "\n",
      "0.5208\tcredit_cards\n",
      "0.3821\tadulthood\n",
      "0.3523\teightyeight\n",
      "0.3509\tfour_trillion\n",
      "0.3488\tjune\n",
      "0.3482\tthirteen\n",
      "0.3404\tretrained\n",
      "0.3378\tseven_hundred\n",
      "0.3358\tptsd\n",
      "0.3345\tboys\n",
      "\n",
      "\n"
     ]
    }
   ],
   "source": [
    "model = cono_space\n",
    "q1 = 'nuclear_arms_race'\n",
    "q2 = 'credit_card'\n",
    "print(pretrained.cosine_similarity(q1, q2))\n",
    "print(model.cosine_similarity(q1, q2))\n",
    "pretrained.nearest_neighbor(q1)\n",
    "model.nearest_neighbor(q1)\n",
    "print('\\n')\n",
    "pretrained.nearest_neighbor(q2)\n",
    "model.nearest_neighbor(q2)"
   ]
  },
  {
   "cell_type": "code",
   "execution_count": 21,
   "metadata": {},
   "outputs": [
    {
     "name": "stdout",
     "output_type": "stream",
     "text": [
      "0.8599\tcapandtax\n",
      "0.8132\tcapandtrade\n",
      "0.7852\tcapandtrade_bill\n",
      "0.7820\tcapandtrade_legislation\n",
      "0.7721\tjobkilling\n",
      "0.7607\tkill_jobs\n",
      "0.7592\tcapandtax_bill\n",
      "0.7557\tevery_american_family\n",
      "0.7337\ttaxandtrade\n",
      "0.7295\tmassive_new\n",
      "\n",
      "\n",
      "0.6900\tcapandtrade\n",
      "0.6735\tjobkilling\n",
      "0.5908\tmillions_of_jobs\n",
      "0.5868\thealth_care_bill\n",
      "0.5806\tenergy_tax\n",
      "0.5620\ttax_hikes\n",
      "0.5475\tcap_and_trade\n",
      "0.5455\tenergy_costs\n",
      "0.5119\tjob_creators\n",
      "0.5027\tstimulus_bill\n",
      "\n",
      "\n"
     ]
    }
   ],
   "source": [
    "model = cono_space\n",
    "q = 'national_energy_tax'\n",
    "pretrained.nearest_neighbor(q)\n",
    "model.nearest_neighbor(q)"
   ]
  },
  {
   "cell_type": "code",
   "execution_count": 15,
   "metadata": {},
   "outputs": [
    {
     "data": {
      "text/plain": [
       "0.06573085486888885"
      ]
     },
     "execution_count": 15,
     "metadata": {},
     "output_type": "execute_result"
    }
   ],
   "source": [
    "pretrained.cosine_similarity('tariff', 'employers')"
   ]
  }
 ],
 "metadata": {
  "kernelspec": {
   "display_name": "Python 3",
   "language": "python",
   "name": "python3"
  },
  "language_info": {
   "codemirror_mode": {
    "name": "ipython",
    "version": 3
   },
   "file_extension": ".py",
   "mimetype": "text/x-python",
   "name": "python",
   "nbconvert_exporter": "python",
   "pygments_lexer": "ipython3",
   "version": "3.7.5"
  }
 },
 "nbformat": 4,
 "nbformat_minor": 2
}
