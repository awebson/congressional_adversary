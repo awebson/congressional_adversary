{
 "cells": [
  {
   "cell_type": "code",
   "execution_count": 12,
   "metadata": {},
   "outputs": [],
   "source": [
    "import pickle\n",
    "import csv\n",
    "import os\n",
    "from pathlib import Path\n",
    "from typing import Set, Tuple, NamedTuple, List, Dict, Counter, Optional\n",
    "\n",
    "import torch\n",
    "import numpy as np\n",
    "from scipy.spatial import distance\n",
    "from scipy.stats import spearmanr\n",
    "\n",
    "from evaluations.euphemism import Embedding, PhrasePair  \n",
    "from old_congress import Decomposer, Recomposer, RecomposerConfig\n",
    "\n",
    "\n",
    "torch.manual_seed(42)\n",
    "np.random.seed(42)"
   ]
  },
  {
   "cell_type": "markdown",
   "metadata": {},
   "source": [
    "### Load Pretrained Embedding"
   ]
  },
  {
   "cell_type": "code",
   "execution_count": 22,
   "metadata": {},
   "outputs": [
    {
     "name": "stdout",
     "output_type": "stream",
     "text": [
      "vocab_size = 111,387, num_dimensions = 300\n",
      "Loading embeddings from ../../data/pretrained_word2vec/for_real.txt\n",
      "Done\n"
     ]
    }
   ],
   "source": [
    "pretrained = Embedding('../../data/pretrained_word2vec/for_real.txt', 'plain_text')"
   ]
  },
  {
   "cell_type": "code",
   "execution_count": 14,
   "metadata": {},
   "outputs": [
    {
     "name": "stderr",
     "output_type": "stream",
     "text": [
      "/home/webson/Research/congressional_adversary/torch1.5/lib/python3.7/site-packages/torch/serialization.py:657: SourceChangeWarning: source code of class 'old_congress.Decomposer' has changed. you can retrieve the original source code by accessing the object's source attribute or set `torch.nn.Module.dump_patches = True` and use the patch tool to revert the changes.\n",
      "  warnings.warn(msg, SourceChangeWarning)\n"
     ]
    }
   ],
   "source": [
    "stuff = Path('../../results/CR_skip/GM2/B8 NS10/epoch4.pt')\n",
    "\n",
    "deno_space = Embedding(\n",
    "    stuff, 'recomposer_deno', device=torch.device('cuda:0'))\n",
    "cono_space = Embedding(\n",
    "    stuff, 'recomposer_cono', device=torch.device('cuda:0'))"
   ]
  },
  {
   "cell_type": "code",
   "execution_count": 23,
   "metadata": {},
   "outputs": [],
   "source": [
    "def tabulate(q1, q2):\n",
    "    PE_cs = pretrained.cosine_similarity(q1, q2)\n",
    "    DS_cs = deno_space.cosine_similarity(q1, q2)\n",
    "    CS_cs = cono_space.cosine_similarity(q1, q2)\n",
    "#     print(round(PE_cs, 4), f'{DS_cs:.4f}', f'{CS_cs:.4f}', \n",
    "#           q1, q2, sep='\\t')\n",
    "    print(round(PE_cs, 4), f'{DS_cs - PE_cs:+.4f}', f'{CS_cs - PE_cs:+.4f}', \n",
    "          q1, q2, sep='\\t')\n",
    "    \n",
    "def tabulate_rank(q1, q2):\n",
    "    print(\n",
    "        pretrained.neighbor_rank(q1, q2),\n",
    "        pretrained.neighbor_rank(q2, q1),\n",
    "        deno_space.neighbor_rank(q1, q2),\n",
    "        deno_space.neighbor_rank(q2, q1),\n",
    "        cono_space.neighbor_rank(q1, q2),\n",
    "        cono_space.neighbor_rank(q2, q1),\n",
    "        q1, q2, sep='\\t')\n",
    "\n",
    "def cf(q1, q2):\n",
    "    pretrained.nearest_neighbor(q1)\n",
    "    model.nearest_neighbor(q1)\n",
    "    print('\\n')\n",
    "    pretrained.nearest_neighbor(q2)\n",
    "    model.nearest_neighbor(q2)"
   ]
  },
  {
   "cell_type": "code",
   "execution_count": 16,
   "metadata": {},
   "outputs": [],
   "source": [
    "cherry_pairs = [\n",
    "    # Luntz Report, all GOP euphemisms\n",
    "    ('government', 'washington'),\n",
    "    # ('private_account', 'personal_account'),\n",
    "    # ('tax_reform', 'tax_simplification'),\n",
    "    ('estate_tax', 'death_tax'),\n",
    "    ('capitalism', 'free_market'),  # global economy, globalization\n",
    "    # ('outsourcing', 'innovation'),  # \"root cause\" of outsourcing, regulation\n",
    "    ('undocumented_workers', 'illegal_aliens'),  # OOV undocumented_workers\n",
    "    ('foreign_trade', 'international_trade'),  # foreign, global all bad\n",
    "    # ('drilling_for_oil', 'exploring_for_energy'),\n",
    "    # ('drilling', 'energy_exploration'),\n",
    "    # ('tort_reform', 'lawsuit_abuse_reform'),\n",
    "    # ('trial_lawyer', 'personal_injury_lawyer'),  # aka ambulance chasers\n",
    "    # ('corporate_transparency', 'corporate_accountability'),\n",
    "    # ('school_choice', 'parental_choice'),  # equal_opportunity_in_education\n",
    "    # ('healthcare_choice', 'right_to_choose')\n",
    "\n",
    "    # Own Cherries\n",
    "    ('public_option', 'governmentrun'),\n",
    "    ('political_speech', 'campaign_spending'),  # hard example\n",
    "    ('cut_taxes', 'supply_side'),  \n",
    "    ('cut_taxes', 'trickledown'),  \n",
    "    ('voodoo', 'supply_side'),\n",
    "    \n",
    "    # large vocabulary\n",
    "    ('star_wars', 'strategic_defense_initiative'),\n",
    "    ('socialized_medicine', 'singlepayer'),\n",
    "    ('cap_and_trade', 'national_energy_tax'),\n",
    "    ('waterboarding', 'interrogation'),\n",
    "    ('tax_expenditures', 'spending_programs'),\n",
    "    ('nuclear_option', 'constitutional_option'),\n",
    "]"
   ]
  },
  {
   "cell_type": "code",
   "execution_count": 20,
   "metadata": {},
   "outputs": [
    {
     "name": "stdout",
     "output_type": "stream",
     "text": [
      "0.4729\t+0.2342\t+0.2668\tgovernment\twashington\n",
      "0.8849\t-0.0299\t-0.3192\testate_tax\tdeath_tax\n",
      "0.7127\t-0.0354\t+0.0690\tcapitalism\tfree_market\n",
      "0.7524\t-0.0697\t-0.7449\tundocumented_workers\tillegal_aliens\n",
      "0.7617\t-0.0480\t-0.0022\tforeign_trade\tinternational_trade\n",
      "0.7377\t-0.1361\t-0.3948\tpublic_option\tgovernmentrun\n",
      "0.7671\t-0.1206\t-0.5883\tpolitical_speech\tcampaign_spending\n",
      "0.6801\t-0.2318\t-0.1474\tcut_taxes\tsupply_side\n",
      "0.6838\t-0.2633\t-0.1515\tcut_taxes\ttrickledown\n",
      "0.7633\t-0.0564\t+0.0713\tvoodoo\tsupply_side\n",
      "0.8032\t-0.0608\t-0.2067\tstar_wars\tstrategic_defense_initiative\n",
      "0.8143\t-0.0823\t-0.2158\tsocialized_medicine\tsinglepayer\n",
      "0.8562\t+0.0181\t+0.0153\tcap_and_trade\tnational_energy_tax\n",
      "0.8242\t-0.0412\t-0.1247\twaterboarding\tinterrogation\n",
      "0.7562\t-0.1235\t-0.5205\ttax_expenditures\tspending_programs\n",
      "0.8959\t-0.1864\t-0.8598\tnuclear_option\tconstitutional_option\n"
     ]
    }
   ],
   "source": [
    "for q1, q2 in cherry_pairs:\n",
    "    tabulate(q1, q2)"
   ]
  },
  {
   "cell_type": "code",
   "execution_count": 24,
   "metadata": {},
   "outputs": [
    {
     "name": "stdout",
     "output_type": "stream",
     "text": [
      "0.2075\t+0.4996\t+0.5322\tgovernment\twashington\n",
      "0.8923\t-0.0373\t-0.3266\testate_tax\tdeath_tax\n",
      "0.7375\t-0.0601\t+0.0443\tcapitalism\tfree_market\n",
      "0.7815\t-0.0988\t-0.7740\tundocumented_workers\tillegal_aliens\n",
      "0.7424\t-0.0287\t+0.0172\tforeign_trade\tinternational_trade\n",
      "0.7268\t-0.1252\t-0.3839\tpublic_option\tgovernmentrun\n",
      "0.682\t-0.0354\t-0.5031\tpolitical_speech\tcampaign_spending\n",
      "0.5212\t-0.0728\t+0.0116\tcut_taxes\tsupply_side\n",
      "0.5431\t-0.1227\t-0.0108\tcut_taxes\ttrickledown\n",
      "0.6417\t+0.0652\t+0.1929\tvoodoo\tsupply_side\n",
      "0.8469\t-0.1044\t-0.2503\tstar_wars\tstrategic_defense_initiative\n",
      "0.6995\t+0.0325\t-0.1010\tsocialized_medicine\tsinglepayer\n",
      "0.7152\t+0.1591\t+0.1563\tcap_and_trade\tnational_energy_tax\n",
      "0.773\t+0.0100\t-0.0735\twaterboarding\tinterrogation\n",
      "0.6084\t+0.0243\t-0.3727\ttax_expenditures\tspending_programs\n",
      "0.8094\t-0.1000\t-0.7734\tnuclear_option\tconstitutional_option\n"
     ]
    }
   ],
   "source": [
    "for q1, q2 in cherry_pairs:\n",
    "    tabulate(q1, q2)"
   ]
  },
  {
   "cell_type": "code",
   "execution_count": null,
   "metadata": {},
   "outputs": [],
   "source": [
    "cf('undocumented_workers', 'illegal_aliens')"
   ]
  },
  {
   "cell_type": "code",
   "execution_count": null,
   "metadata": {},
   "outputs": [],
   "source": [
    "cf('estate_tax', 'death_tax')"
   ]
  },
  {
   "cell_type": "code",
   "execution_count": null,
   "metadata": {
    "scrolled": true
   },
   "outputs": [],
   "source": [
    "# Denotation Space: Want to see stuff from other party\n",
    "# model.embedding = model.deno_embed\n",
    "# q1 = 'universal_health_care'  # OOV\n",
    "# q2 = 'socialized_medicine'\n",
    "model = deno_space\n",
    "q1 = 'singlepayer'\n",
    "q2 = 'governmentrun'\n",
    "print(pretrained.cosine_similarity(q1, q2))\n",
    "print(model.cosine_similarity(q1, q2))\n",
    "pretrained.nearest_neighbor(q1)\n",
    "model.nearest_neighbor(q1)\n",
    "print('\\n')\n",
    "pretrained.nearest_neighbor(q2)\n",
    "model.nearest_neighbor(q2)"
   ]
  },
  {
   "cell_type": "code",
   "execution_count": null,
   "metadata": {},
   "outputs": [],
   "source": [
    "model = deno_space\n",
    "q1 = 'public_option'\n",
    "q2 = 'governmentrun'\n",
    "print(pretrained.cosine_similarity(q1, q2))\n",
    "print(model.cosine_similarity(q1, q2))\n",
    "pretrained.nearest_neighbor(q1)\n",
    "model.nearest_neighbor(q1)\n",
    "print('\\n')\n",
    "pretrained.nearest_neighbor(q2)\n",
    "model.nearest_neighbor(q2)"
   ]
  },
  {
   "cell_type": "code",
   "execution_count": null,
   "metadata": {
    "scrolled": false
   },
   "outputs": [],
   "source": [
    "model = deno_space\n",
    "q1 = 'independent_expenditures'\n",
    "q2 = 'political_speech'\n",
    "print(pretrained.cosine_similarity(q1, q2))\n",
    "print(model.cosine_similarity(q1, q2))\n",
    "pretrained.nearest_neighbor(q1)\n",
    "model.nearest_neighbor(q1)\n",
    "print('\\n')\n",
    "pretrained.nearest_neighbor(q2)\n",
    "model.nearest_neighbor(q2)"
   ]
  },
  {
   "cell_type": "code",
   "execution_count": null,
   "metadata": {},
   "outputs": [],
   "source": [
    "model = deno_space\n",
    "q1 = 'tax_breaks'\n",
    "q2 = 'tax_relief'\n",
    "print(pretrained.cosine_similarity(q1, q2))\n",
    "print(model.cosine_similarity(q1, q2))\n",
    "pretrained.nearest_neighbor(q1)\n",
    "model.nearest_neighbor(q1)\n",
    "print('\\n')\n",
    "pretrained.nearest_neighbor(q2)\n",
    "model.nearest_neighbor(q2)"
   ]
  },
  {
   "cell_type": "code",
   "execution_count": null,
   "metadata": {},
   "outputs": [],
   "source": [
    "model = deno_space\n",
    "q1 = 'socialized_medicine' # 'obamacare'\n",
    "q2 = 'health_care_reform'\n",
    "print(pretrained.cosine_similarity(q1, q2))\n",
    "print(model.cosine_similarity(q1, q2))\n",
    "pretrained.nearest_neighbor(q1)\n",
    "model.nearest_neighbor(q1)\n",
    "print('\\n')\n",
    "pretrained.nearest_neighbor(q2)\n",
    "model.nearest_neighbor(q2)"
   ]
  },
  {
   "cell_type": "markdown",
   "metadata": {},
   "source": [
    "### Connotation Space: Want to see unrelated random entities of the same party"
   ]
  },
  {
   "cell_type": "code",
   "execution_count": null,
   "metadata": {},
   "outputs": [],
   "source": [
    "model = cono_space\n",
    "q1 = 'gun_control'\n",
    "q2 = 'illegal_aliens'\n",
    "print(pretrained.cosine_similarity(q1, q2))\n",
    "print(model.cosine_similarity(q1, q2))\n",
    "pretrained.nearest_neighbor(q1)\n",
    "model.nearest_neighbor(q1)\n",
    "print('\\n')\n",
    "pretrained.nearest_neighbor(q2)\n",
    "model.nearest_neighbor(q2)"
   ]
  },
  {
   "cell_type": "code",
   "execution_count": null,
   "metadata": {},
   "outputs": [],
   "source": [
    "model = cono_space\n",
    "q1 = 'wall_street_reform'\n",
    "q2 = 'civil_rights'\n",
    "print(pretrained.cosine_similarity(q1, q2))\n",
    "print(model.cosine_similarity(q1, q2))\n",
    "pretrained.nearest_neighbor(q1)\n",
    "model.nearest_neighbor(q1)\n",
    "print('\\n')\n",
    "pretrained.nearest_neighbor(q2)\n",
    "model.nearest_neighbor(q2)"
   ]
  },
  {
   "cell_type": "code",
   "execution_count": null,
   "metadata": {},
   "outputs": [],
   "source": [
    "model = cono_space\n",
    "q1 = 'nuclear_arms_race'\n",
    "q2 = 'credit_card'\n",
    "print(pretrained.cosine_similarity(q1, q2))\n",
    "print(model.cosine_similarity(q1, q2))\n",
    "pretrained.nearest_neighbor(q1)\n",
    "model.nearest_neighbor(q1)\n",
    "print('\\n')\n",
    "pretrained.nearest_neighbor(q2)\n",
    "model.nearest_neighbor(q2)"
   ]
  },
  {
   "cell_type": "code",
   "execution_count": null,
   "metadata": {},
   "outputs": [],
   "source": [
    "model = cono_space\n",
    "q = 'national_energy_tax'\n",
    "pretrained.nearest_neighbor(q)\n",
    "model.nearest_neighbor(q)"
   ]
  },
  {
   "cell_type": "code",
   "execution_count": null,
   "metadata": {},
   "outputs": [],
   "source": [
    "pretrained.cosine_similarity('tariff', 'employers')"
   ]
  }
 ],
 "metadata": {
  "kernelspec": {
   "display_name": "Python 3",
   "language": "python",
   "name": "python3"
  },
  "language_info": {
   "codemirror_mode": {
    "name": "ipython",
    "version": 3
   },
   "file_extension": ".py",
   "mimetype": "text/x-python",
   "name": "python",
   "nbconvert_exporter": "python",
   "pygments_lexer": "ipython3",
   "version": "3.7.5"
  }
 },
 "nbformat": 4,
 "nbformat_minor": 2
}
