{
 "cells": [
  {
   "cell_type": "code",
   "execution_count": 11,
   "metadata": {},
   "outputs": [],
   "source": [
    "from pathlib import Path\n",
    "from decomposer import Decomposer, DecomposerConfig\n",
    "from recomposer import Recomposer, RecomposerConfig\n",
    "from evaluations.clustering import graph_en_masse\n",
    "from evaluations.helpers import load_recomposers_en_masse, GroundedWord, PE, polarized_words"
   ]
  },
  {
   "cell_type": "code",
   "execution_count": 2,
   "metadata": {
    "scrolled": true
   },
   "outputs": [
    {
     "data": {
      "application/vnd.jupyter.widget-view+json": {
       "model_id": "51079d46730349d290e303f649a0e43f",
       "version_major": 2,
       "version_minor": 0
      },
      "text/plain": [
       "HBox(children=(IntProgress(value=0, max=4), HTML(value='')))"
      ]
     },
     "metadata": {},
     "output_type": "display_data"
    },
    {
     "name": "stdout",
     "output_type": "stream",
     "text": [
      "Loading ../../results/congress bill topic/defense/Dd4.1 Dg-7.0 Cd-9.9 Cg5.1 R26.7 dp0.13/epoch10.pt\n",
      "Loading ../../results/congress bill topic/defense/Dd3.0 Dg-3.9 Cd-9.1 Cg2.0 R0.0 dp0.20/epoch10.pt\n",
      "Loading ../../results/congress bill topic/defense/Dd1.9 Dg-2.5 Cd-2.7 Cg6.0 R0.0 dp0.09/epoch10.pt\n",
      "Loading ../../results/congress bill topic/defense/Dd1.9 Dg-2.5 Cd-2.7 Cg6.0 R16.2 dp0.09/epoch10.pt\n",
      "\n"
     ]
    }
   ],
   "source": [
    "base_dir = Path('../../results/congress bill topic/defense')\n",
    "# base_dir = '../../results/recomposer/handpicked'\n",
    "deno_space, cono_space = load_recomposers_en_masse(\n",
    "    base_dir, patterns='*/epoch10.pt')"
   ]
  },
  {
   "cell_type": "code",
   "execution_count": 3,
   "metadata": {},
   "outputs": [],
   "source": [
    "import random\n",
    "random.seed(42)\n",
    "test_path = Path('../../data/ellie/partisan_sample.cr.txt')\n",
    "with open(test_path) as file:\n",
    "    test_words = [GroundedWord(word.strip()) for word in file]\n",
    "test_words = random.sample(test_words, 50)"
   ]
  },
  {
   "cell_type": "code",
   "execution_count": 8,
   "metadata": {},
   "outputs": [
    {
     "data": {
      "application/vnd.jupyter.widget-view+json": {
       "model_id": "408fa453fa624ebba176de36a6b0dbb1",
       "version_major": 2,
       "version_minor": 0
      },
      "text/plain": [
       "HBox(children=(IntProgress(value=0, max=5), HTML(value='')))"
      ]
     },
     "metadata": {},
     "output_type": "display_data"
    },
    {
     "name": "stdout",
     "output_type": "stream",
     "text": [
      "\n"
     ]
    },
    {
     "data": {
      "application/vnd.jupyter.widget-view+json": {
       "model_id": "ece86fd52e16420a990ae41886ed7237",
       "version_major": 2,
       "version_minor": 0
      },
      "text/plain": [
       "HBox(children=(IntProgress(value=0, max=5), HTML(value='')))"
      ]
     },
     "metadata": {},
     "output_type": "display_data"
    },
    {
     "name": "stdout",
     "output_type": "stream",
     "text": [
      "\n"
     ]
    },
    {
     "data": {
      "application/vnd.jupyter.widget-view+json": {
       "model_id": "6d5ae8d2d51f478fbe0c12de537c9509",
       "version_major": 2,
       "version_minor": 0
      },
      "text/plain": [
       "HBox(children=(IntProgress(value=0, max=5), HTML(value='')))"
      ]
     },
     "metadata": {},
     "output_type": "display_data"
    },
    {
     "name": "stdout",
     "output_type": "stream",
     "text": [
      "\n"
     ]
    }
   ],
   "source": [
    "models = deno_space\n",
    "grounded_words = test_words\n",
    "\n",
    "graph_en_masse(\n",
    "    models,\n",
    "    out_dir=base_dir / 'deno space/topic/t-SNE p2',\n",
    "    reduction='TSNE', perplexity=2, words=grounded_words,\n",
    "    categorical=True)\n",
    "\n",
    "graph_en_masse(\n",
    "    models,\n",
    "    out_dir=base_dir / 'deno space/topic/t-SNE p3',\n",
    "    reduction='TSNE', perplexity=3, words=grounded_words,\n",
    "    categorical=True)\n",
    "\n",
    "graph_en_masse(\n",
    "    models, out_dir=base_dir / 'deno space/topic/t-SNE p5',\n",
    "    reduction='TSNE', perplexity=5, words=grounded_words,\n",
    "    categorical=True)\n",
    "\n",
    "# graph_en_masse(\n",
    "#     models,\n",
    "#     out_dir=base_dir / 'deno space/topic/t-SNE p10',\n",
    "#     reduction='TSNE', perplexity=10, words=grounded_words,\n",
    "#     categorical=True)"
   ]
  },
  {
   "cell_type": "code",
   "execution_count": 7,
   "metadata": {},
   "outputs": [
    {
     "data": {
      "application/vnd.jupyter.widget-view+json": {
       "model_id": "2742b04541354a0e87239864bc89d864",
       "version_major": 2,
       "version_minor": 0
      },
      "text/plain": [
       "HBox(children=(IntProgress(value=0, max=5), HTML(value='')))"
      ]
     },
     "metadata": {},
     "output_type": "display_data"
    },
    {
     "name": "stdout",
     "output_type": "stream",
     "text": [
      "\n"
     ]
    }
   ],
   "source": [
    "models = cono_space\n",
    "grounded_words = test_words\n",
    "\n",
    "graph_en_masse(\n",
    "    models,\n",
    "    out_dir=base_dir / 'cono space/party/t-SNE p25',\n",
    "    reduction='TSNE', perplexity=25, words=grounded_words)\n",
    "\n",
    "# PCA?"
   ]
  },
  {
   "cell_type": "code",
   "execution_count": 6,
   "metadata": {},
   "outputs": [
    {
     "data": {
      "application/vnd.jupyter.widget-view+json": {
       "model_id": "19c74c71cbbc4fa99c2fae2c9b7b385e",
       "version_major": 2,
       "version_minor": 0
      },
      "text/plain": [
       "HBox(children=(IntProgress(value=0, max=5), HTML(value='')))"
      ]
     },
     "metadata": {},
     "output_type": "display_data"
    },
    {
     "name": "stdout",
     "output_type": "stream",
     "text": [
      "\n"
     ]
    }
   ],
   "source": [
    "models = deno_space\n",
    "grounded_words = test_words\n",
    "\n",
    "graph_en_masse(\n",
    "    models,\n",
    "    out_dir=base_dir / 'deno space/party/t-SNE p25',\n",
    "    reduction='TSNE', perplexity=25, words=grounded_words)"
   ]
  },
  {
   "cell_type": "code",
   "execution_count": 5,
   "metadata": {},
   "outputs": [
    {
     "data": {
      "application/vnd.jupyter.widget-view+json": {
       "model_id": "3168c1cbbeea435983918bca26325991",
       "version_major": 2,
       "version_minor": 0
      },
      "text/plain": [
       "HBox(children=(IntProgress(value=0, max=5), HTML(value='')))"
      ]
     },
     "metadata": {},
     "output_type": "display_data"
    },
    {
     "name": "stdout",
     "output_type": "stream",
     "text": [
      "\n"
     ]
    },
    {
     "data": {
      "application/vnd.jupyter.widget-view+json": {
       "model_id": "e28b708fed0d4e0ebe0d660a5378ab16",
       "version_major": 2,
       "version_minor": 0
      },
      "text/plain": [
       "HBox(children=(IntProgress(value=0, max=5), HTML(value='')))"
      ]
     },
     "metadata": {},
     "output_type": "display_data"
    },
    {
     "name": "stdout",
     "output_type": "stream",
     "text": [
      "\n"
     ]
    },
    {
     "data": {
      "application/vnd.jupyter.widget-view+json": {
       "model_id": "467a4d2fd4d64472bc5c15b90e77d3e8",
       "version_major": 2,
       "version_minor": 0
      },
      "text/plain": [
       "HBox(children=(IntProgress(value=0, max=5), HTML(value='')))"
      ]
     },
     "metadata": {},
     "output_type": "display_data"
    },
    {
     "name": "stdout",
     "output_type": "stream",
     "text": [
      "\n"
     ]
    }
   ],
   "source": [
    "models = cono_space\n",
    "grounded_words = test_words\n",
    "\n",
    "graph_en_masse(\n",
    "    models,\n",
    "    out_dir=base_dir / 'cono space/topic/t-SNE p2',\n",
    "    reduction='TSNE', perplexity=2, words=grounded_words,\n",
    "    categorical=True)\n",
    "\n",
    "graph_en_masse(\n",
    "    models,\n",
    "    out_dir=base_dir / 'cono space/topic/t-SNE p3',\n",
    "    reduction='TSNE', perplexity=3, words=grounded_words,\n",
    "    categorical=True)\n",
    "\n",
    "graph_en_masse(\n",
    "    models, out_dir=base_dir / 'cono space/topic/t-SNE p5',\n",
    "    reduction='TSNE', perplexity=5, words=grounded_words,\n",
    "    categorical=True)\n",
    "\n",
    "# graph_en_masse(\n",
    "#     models,\n",
    "#     out_dir=base_dir / 'cono space/topic/t-SNE p10',\n",
    "#     reduction='TSNE', perplexity=10, words=grounded_words,\n",
    "#     categorical=True)"
   ]
  }
 ],
 "metadata": {
  "kernelspec": {
   "display_name": "Python 3",
   "language": "python",
   "name": "python3"
  },
  "language_info": {
   "codemirror_mode": {
    "name": "ipython",
    "version": 3
   },
   "file_extension": ".py",
   "mimetype": "text/x-python",
   "name": "python",
   "nbconvert_exporter": "python",
   "pygments_lexer": "ipython3",
   "version": "3.7.5"
  }
 },
 "nbformat": 4,
 "nbformat_minor": 2
}
