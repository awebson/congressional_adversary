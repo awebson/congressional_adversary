{
 "cells": [
  {
   "cell_type": "code",
   "execution_count": 1,
   "metadata": {},
   "outputs": [
    {
     "name": "stderr",
     "output_type": "stream",
     "text": [
      "/home/webson/Research/congressional_adversary/torch1.5/lib/python3.7/site-packages/torch/serialization.py:657: SourceChangeWarning: source code of class 'recomposer.Recomposer' has changed. you can retrieve the original source code by accessing the object's source attribute or set `torch.nn.Module.dump_patches = True` and use the patch tool to revert the changes.\n",
      "  warnings.warn(msg, SourceChangeWarning)\n",
      "/home/webson/Research/congressional_adversary/torch1.5/lib/python3.7/site-packages/torch/serialization.py:657: SourceChangeWarning: source code of class 'decomposer.Decomposer' has changed. you can retrieve the original source code by accessing the object's source attribute or set `torch.nn.Module.dump_patches = True` and use the patch tool to revert the changes.\n",
      "  warnings.warn(msg, SourceChangeWarning)\n"
     ]
    }
   ],
   "source": [
    "from pathlib import Path\n",
    "from decomposer import Decomposer, DecomposerConfig\n",
    "from recomposer import Recomposer, RecomposerConfig\n",
    "from evaluations.clustering import graph_en_masse\n",
    "from evaluations.helpers import load_recomposers_en_masse, GroundedWord, PE#, polarized_words"
   ]
  },
  {
   "cell_type": "code",
   "execution_count": 2,
   "metadata": {
    "scrolled": true
   },
   "outputs": [
    {
     "name": "stderr",
     "output_type": "stream",
     "text": [
      "/home/webson/Research/congressional_adversary/torch1.5/lib/python3.7/site-packages/torch/serialization.py:657: SourceChangeWarning: source code of class 'torch.nn.modules.linear.Linear' has changed. you can retrieve the original source code by accessing the object's source attribute or set `torch.nn.Module.dump_patches = True` and use the patch tool to revert the changes.\n",
      "  warnings.warn(msg, SourceChangeWarning)\n"
     ]
    },
    {
     "ename": "AssertionError",
     "evalue": "",
     "output_type": "error",
     "traceback": [
      "\u001b[0;31m---------------------------------------------------------------------------\u001b[0m",
      "\u001b[0;31mAssertionError\u001b[0m                            Traceback (most recent call last)",
      "\u001b[0;32m<ipython-input-2-d5e4b1d33511>\u001b[0m in \u001b[0;36m<module>\u001b[0;34m\u001b[0m\n\u001b[1;32m      2\u001b[0m \u001b[0;31m# base_dir = '../../results/recomposer/handpicked'\u001b[0m\u001b[0;34m\u001b[0m\u001b[0;34m\u001b[0m\u001b[0;34m\u001b[0m\u001b[0m\n\u001b[1;32m      3\u001b[0m deno_space, cono_space = load_recomposers_en_masse(\n\u001b[0;32m----> 4\u001b[0;31m     base_dir, patterns=['epoch1.pt', 'epoch5.pt', 'epoch8.pt'])\n\u001b[0m",
      "\u001b[0;32m~/Research/congressional_adversary/src/evaluations/helpers.py\u001b[0m in \u001b[0;36mload_recomposers_en_masse\u001b[0;34m(in_dirs, patterns)\u001b[0m\n\u001b[1;32m    157\u001b[0m     D_models = {\n\u001b[1;32m    158\u001b[0m         \u001b[0;31m# 'pretrained superset': load(PROJECT_ROOT / 'results/congress bill topic/pretrained superset/init.pt'),\u001b[0m\u001b[0;34m\u001b[0m\u001b[0;34m\u001b[0m\u001b[0;34m\u001b[0m\u001b[0m\n\u001b[0;32m--> 159\u001b[0;31m         'pretrained subset': load(PROJECT_ROOT / 'results/CR_topic/pretrained subset/init.pt')}\n\u001b[0m\u001b[1;32m    160\u001b[0m     \u001b[0mC_models\u001b[0m \u001b[0;34m=\u001b[0m \u001b[0mcopy\u001b[0m\u001b[0;34m(\u001b[0m\u001b[0mD_models\u001b[0m\u001b[0;34m)\u001b[0m\u001b[0;34m\u001b[0m\u001b[0;34m\u001b[0m\u001b[0m\n\u001b[1;32m    161\u001b[0m     \u001b[0;32mfor\u001b[0m \u001b[0mpath\u001b[0m \u001b[0;32min\u001b[0m \u001b[0mtqdm\u001b[0m\u001b[0;34m(\u001b[0m\u001b[0mcheckpoints\u001b[0m\u001b[0;34m)\u001b[0m\u001b[0;34m:\u001b[0m\u001b[0;34m\u001b[0m\u001b[0;34m\u001b[0m\u001b[0m\n",
      "\u001b[0;32m~/Research/congressional_adversary/src/evaluations/helpers.py\u001b[0m in \u001b[0;36mload\u001b[0;34m(path, check_vocab, device)\u001b[0m\n\u001b[1;32m     38\u001b[0m     \u001b[0mmodel\u001b[0m \u001b[0;34m=\u001b[0m \u001b[0mtorch\u001b[0m\u001b[0;34m.\u001b[0m\u001b[0mload\u001b[0m\u001b[0;34m(\u001b[0m\u001b[0mpath\u001b[0m\u001b[0;34m,\u001b[0m \u001b[0mmap_location\u001b[0m\u001b[0;34m=\u001b[0m\u001b[0mdevice\u001b[0m\u001b[0;34m)\u001b[0m\u001b[0;34m[\u001b[0m\u001b[0;34m'model'\u001b[0m\u001b[0;34m]\u001b[0m\u001b[0;34m\u001b[0m\u001b[0;34m\u001b[0m\u001b[0m\n\u001b[1;32m     39\u001b[0m     \u001b[0;32mif\u001b[0m \u001b[0mcheck_vocab\u001b[0m\u001b[0;34m:\u001b[0m\u001b[0;34m\u001b[0m\u001b[0;34m\u001b[0m\u001b[0m\n\u001b[0;32m---> 40\u001b[0;31m         \u001b[0;32massert\u001b[0m \u001b[0mmodel\u001b[0m\u001b[0;34m.\u001b[0m\u001b[0mword_to_id\u001b[0m \u001b[0;34m==\u001b[0m \u001b[0mPE\u001b[0m\u001b[0;34m.\u001b[0m\u001b[0mword_to_id\u001b[0m\u001b[0;34m\u001b[0m\u001b[0;34m\u001b[0m\u001b[0m\n\u001b[0m\u001b[1;32m     41\u001b[0m     \u001b[0;32mreturn\u001b[0m \u001b[0mget_embed\u001b[0m\u001b[0;34m(\u001b[0m\u001b[0mmodel\u001b[0m\u001b[0;34m)\u001b[0m\u001b[0;34m\u001b[0m\u001b[0;34m\u001b[0m\u001b[0m\n\u001b[1;32m     42\u001b[0m \u001b[0;34m\u001b[0m\u001b[0m\n",
      "\u001b[0;31mAssertionError\u001b[0m: "
     ]
    }
   ],
   "source": [
    "base_dir = Path('../../results/CR_skip/GM2')\n",
    "# base_dir = '../../results/recomposer/handpicked'\n",
    "deno_space, cono_space = load_recomposers_en_masse(\n",
    "    base_dir, patterns=['epoch1.pt', 'epoch5.pt', 'epoch8.pt'])"
   ]
  },
  {
   "cell_type": "code",
   "execution_count": null,
   "metadata": {},
   "outputs": [],
   "source": [
    "import random\n",
    "random.seed(42)\n",
    "test_path = Path('../../data/ellie/partisan_sample.cr.txt')\n",
    "with open(test_path) as file:\n",
    "    test_words = [GroundedWord(word.strip()) for word in file]\n",
    "test_words = random.sample(test_words, 50)"
   ]
  },
  {
   "cell_type": "code",
   "execution_count": null,
   "metadata": {},
   "outputs": [],
   "source": [
    "models = deno_space\n",
    "grounded_words = test_words\n",
    "\n",
    "graph_en_masse(\n",
    "    models,\n",
    "    out_dir=base_dir / 'deno space/topic/t-SNE p2',\n",
    "    reduction='TSNE', perplexity=2, words=grounded_words,\n",
    "    categorical=True)\n",
    "\n",
    "graph_en_masse(\n",
    "    models,\n",
    "    out_dir=base_dir / 'deno space/topic/t-SNE p3',\n",
    "    reduction='TSNE', perplexity=3, words=grounded_words,\n",
    "    categorical=True)\n",
    "\n",
    "graph_en_masse(\n",
    "    models, out_dir=base_dir / 'deno space/topic/t-SNE p5',\n",
    "    reduction='TSNE', perplexity=5, words=grounded_words,\n",
    "    categorical=True)\n",
    "\n",
    "# graph_en_masse(\n",
    "#     models,\n",
    "#     out_dir=base_dir / 'deno space/topic/t-SNE p10',\n",
    "#     reduction='TSNE', perplexity=10, words=grounded_words,\n",
    "#     categorical=True)"
   ]
  },
  {
   "cell_type": "code",
   "execution_count": null,
   "metadata": {},
   "outputs": [],
   "source": [
    "models = cono_space\n",
    "grounded_words = test_words\n",
    "\n",
    "graph_en_masse(\n",
    "    models,\n",
    "    out_dir=base_dir / 'cono space/party/t-SNE p25',\n",
    "    reduction='TSNE', perplexity=25, words=grounded_words)\n",
    "\n",
    "# PCA?"
   ]
  },
  {
   "cell_type": "code",
   "execution_count": null,
   "metadata": {},
   "outputs": [],
   "source": [
    "models = deno_space\n",
    "grounded_words = test_words\n",
    "\n",
    "graph_en_masse(\n",
    "    models,\n",
    "    out_dir=base_dir / 'deno space/party/t-SNE p25',\n",
    "    reduction='TSNE', perplexity=25, words=grounded_words)"
   ]
  },
  {
   "cell_type": "code",
   "execution_count": null,
   "metadata": {},
   "outputs": [],
   "source": [
    "models = cono_space\n",
    "grounded_words = test_words\n",
    "\n",
    "graph_en_masse(\n",
    "    models,\n",
    "    out_dir=base_dir / 'cono space/topic/t-SNE p2',\n",
    "    reduction='TSNE', perplexity=2, words=grounded_words,\n",
    "    categorical=True)\n",
    "\n",
    "graph_en_masse(\n",
    "    models,\n",
    "    out_dir=base_dir / 'cono space/topic/t-SNE p3',\n",
    "    reduction='TSNE', perplexity=3, words=grounded_words,\n",
    "    categorical=True)\n",
    "\n",
    "graph_en_masse(\n",
    "    models, out_dir=base_dir / 'cono space/topic/t-SNE p5',\n",
    "    reduction='TSNE', perplexity=5, words=grounded_words,\n",
    "    categorical=True)\n",
    "\n",
    "# graph_en_masse(\n",
    "#     models,\n",
    "#     out_dir=base_dir / 'cono space/topic/t-SNE p10',\n",
    "#     reduction='TSNE', perplexity=10, words=grounded_words,\n",
    "#     categorical=True)"
   ]
  }
 ],
 "metadata": {
  "kernelspec": {
   "display_name": "Python 3",
   "language": "python",
   "name": "python3"
  },
  "language_info": {
   "codemirror_mode": {
    "name": "ipython",
    "version": 3
   },
   "file_extension": ".py",
   "mimetype": "text/x-python",
   "name": "python",
   "nbconvert_exporter": "python",
   "pygments_lexer": "ipython3",
   "version": "3.7.5"
  }
 },
 "nbformat": 4,
 "nbformat_minor": 2
}
