{
 "cells": [
  {
   "cell_type": "code",
   "execution_count": 1,
   "metadata": {},
   "outputs": [],
   "source": [
    "from decomposer import Decomposer, DecomposerConfig\n",
    "from recomposer import Recomposer, RecomposerConfig\n",
    "from evaluations.clustering import *  # I’m so sorry"
   ]
  },
  {
   "cell_type": "code",
   "execution_count": null,
   "metadata": {},
   "outputs": [],
   "source": [
    "GD['joliet']"
   ]
  },
  {
   "cell_type": "code",
   "execution_count": null,
   "metadata": {
    "scrolled": true
   },
   "outputs": [],
   "source": [
    "# base_dir = '../../results/only remove deno BS128'\n",
    "# base_dir = '../../results/cono space remove deno/subset pretrained'\n",
    "base_dir = '../../results/deno space remove cono/superset pretrained'\n",
    "models = load_en_masse(base_dir, endswith='epoch100.pt')\n",
    "models['pretrained superset'] = load('../../results/pretrained/init.pt')\n",
    "models['pretrained'] = load('../../results/pretrained bill mentions/init.pt')"
   ]
  },
  {
   "cell_type": "markdown",
   "metadata": {},
   "source": [
    "### Graph by Party Skew (for removing connotation)"
   ]
  },
  {
   "cell_type": "code",
   "execution_count": null,
   "metadata": {},
   "outputs": [],
   "source": [
    "graph_en_masse(\n",
    "    models,\n",
    "    out_dir=f'{base_dir}/PCA',\n",
    "    reduction='PCA',\n",
    "    word_ids=R_ids,\n",
    "    words=R_words,\n",
    "    hues=R_skew,\n",
    "    sizes=R_freq,\n",
    ")\n",
    "\n",
    "graph_en_masse(\n",
    "    models,\n",
    "    out_dir=f'{base_dir}/t-SNE p5',\n",
    "    reduction='TSNE',\n",
    "    perplexity=5,\n",
    "    word_ids=R_ids,\n",
    "    words=R_words,\n",
    "    hues=R_skew,\n",
    "    sizes=R_freq,\n",
    ")\n",
    "\n",
    "graph_en_masse(\n",
    "    models,\n",
    "    out_dir=f'{base_dir}/t-SNE p3',\n",
    "    reduction='TSNE',\n",
    "    perplexity=3,\n",
    "    word_ids=R_ids,\n",
    "    words=R_words,\n",
    "    hues=R_skew,\n",
    "    sizes=R_freq,\n",
    ")"
   ]
  },
  {
   "cell_type": "code",
   "execution_count": null,
   "metadata": {},
   "outputs": [],
   "source": [
    "# graph_en_masse(\n",
    "#     models,\n",
    "#     out_dir=f'{base_dir}/Joint/PCA',\n",
    "#     reduction='PCA',\n",
    "#     word_ids=J_ids,\n",
    "#     words=J_words,\n",
    "#     hues=J_skew,\n",
    "#     sizes=J_freq,\n",
    "# )\n",
    "\n",
    "# graph_en_masse(\n",
    "#     models,\n",
    "#     out_dir=f'{base_dir}/Joint/t-SNE p5',\n",
    "#     reduction='TSNE',\n",
    "#     perplexity=5,\n",
    "#     word_ids=J_ids,\n",
    "#     words=J_words,\n",
    "#     hues=J_skew,\n",
    "#     sizes=J_freq,\n",
    "# )\n",
    "\n",
    "# graph_en_masse(\n",
    "#     models,\n",
    "#     out_dir=f'{base_dir}/Joint/t-SNE p3',\n",
    "#     reduction='TSNE',\n",
    "#     perplexity=3,\n",
    "#     word_ids=J_ids,\n",
    "#     words=J_words,\n",
    "#     hues=J_skew,\n",
    "#     sizes=J_freq,\n",
    "# )\n",
    "\n",
    "graph_en_masse(\n",
    "    models,\n",
    "    out_dir=f'{base_dir}/Joint/t-SNE p25',\n",
    "    reduction='TSNE',\n",
    "    perplexity=25,\n",
    "    word_ids=J_ids,\n",
    "    words=J_words,\n",
    "    hues=J_skew,\n",
    "    sizes=J_freq,\n",
    ")\n",
    "\n",
    "graph_en_masse(\n",
    "    models,\n",
    "    out_dir=f'{base_dir}/Joint/t-SNE p50',\n",
    "    reduction='TSNE',\n",
    "    perplexity=50,\n",
    "    word_ids=J_ids,\n",
    "    words=J_words,\n",
    "    hues=J_skew,\n",
    "    sizes=J_freq,\n",
    ")"
   ]
  },
  {
   "cell_type": "markdown",
   "metadata": {},
   "source": [
    "### Graph by Topic Denotation (for removing denotation)"
   ]
  },
  {
   "cell_type": "code",
   "execution_count": null,
   "metadata": {
    "scrolled": true
   },
   "outputs": [],
   "source": [
    "graph_en_masse(\n",
    "    models,\n",
    "    out_dir=f'{base_dir}/Highly GOP/PCA',\n",
    "    reduction='PCA',\n",
    "    perplexity=5,\n",
    "    word_ids=GOP_ids,\n",
    "    words=GOP_words,\n",
    "    hues=GOP_deno,\n",
    "    sizes=GOP_freq,\n",
    "    categorical=True\n",
    ")\n",
    "\n",
    "graph_en_masse(\n",
    "    models,\n",
    "    out_dir=f'{base_dir}/Highly GOP/t-SNE p5',\n",
    "    reduction='TSNE',\n",
    "    perplexity=5,\n",
    "    word_ids=GOP_ids,\n",
    "    words=GOP_words,\n",
    "    hues=GOP_deno,\n",
    "    sizes=GOP_freq,\n",
    "    categorical=True\n",
    ")\n",
    "\n",
    "graph_en_masse(\n",
    "    models,\n",
    "    out_dir=f'{base_dir}/Highly GOP/t-SNE p3',\n",
    "    reduction='TSNE',\n",
    "    perplexity=3,\n",
    "    word_ids=GOP_ids,\n",
    "    words=GOP_words,\n",
    "    hues=GOP_deno,\n",
    "    sizes=GOP_freq,\n",
    "    categorical=True\n",
    ")"
   ]
  },
  {
   "cell_type": "code",
   "execution_count": null,
   "metadata": {},
   "outputs": [],
   "source": [
    "graph_en_masse(\n",
    "    models,\n",
    "    out_dir=f'{base_dir}/Highly Dem/PCA',\n",
    "    reduction='PCA',\n",
    "    perplexity=5,\n",
    "    word_ids=D_ids,\n",
    "    words=D_words,\n",
    "    hues=D_deno,\n",
    "    sizes=D_freq,\n",
    "    categorical=True\n",
    ")\n",
    "\n",
    "graph_en_masse(\n",
    "    models,\n",
    "    out_dir=f'{base_dir}/Highly Dem/t-SNE p5',\n",
    "    reduction='TSNE',\n",
    "    perplexity=5,\n",
    "    word_ids=D_ids,\n",
    "    words=D_words,\n",
    "    hues=D_deno,\n",
    "    sizes=D_freq,\n",
    "    categorical=True\n",
    ")\n",
    "\n",
    "graph_en_masse(\n",
    "    models,\n",
    "    out_dir=f'{base_dir}/Highly Dem/t-SNE p3',\n",
    "    reduction='TSNE',\n",
    "    perplexity=3,\n",
    "    word_ids=D_ids,\n",
    "    words=D_words,\n",
    "    hues=D_deno,\n",
    "    sizes=D_freq,\n",
    "    categorical=True\n",
    ")"
   ]
  },
  {
   "cell_type": "code",
   "execution_count": null,
   "metadata": {},
   "outputs": [],
   "source": [
    "# graph_en_masse(\n",
    "#     models,\n",
    "#     out_dir=f'{base_dir}/Joint/PCA',\n",
    "#     reduction='PCA',\n",
    "#     perplexity=5,\n",
    "#     word_ids=J_ids,\n",
    "#     words=J_words,\n",
    "#     hues=J_deno,\n",
    "#     sizes=J_freq,\n",
    "#     categorical=True\n",
    "# )\n",
    "\n",
    "graph_en_masse(\n",
    "    models,\n",
    "    out_dir=f'{base_dir}/Joint/t-SNE p5',\n",
    "    reduction='TSNE',\n",
    "    perplexity=5,\n",
    "    word_ids=J_ids,\n",
    "    words=J_words,\n",
    "    hues=J_deno,\n",
    "    sizes=J_freq,\n",
    "    categorical=True\n",
    ")\n",
    "\n",
    "graph_en_masse(\n",
    "    models,\n",
    "    out_dir=f'{base_dir}/Joint/t-SNE p3',\n",
    "    reduction='TSNE',\n",
    "    perplexity=3,\n",
    "    word_ids=J_ids,\n",
    "    words=J_words,\n",
    "    hues=J_deno,\n",
    "    sizes=J_freq,\n",
    "    categorical=True\n",
    ")"
   ]
  },
  {
   "cell_type": "markdown",
   "metadata": {},
   "source": [
    "## Graph Recomposers\n",
    "Want to show that...\n",
    "\n",
    "For deno vectors, topic cluster better than pretrained\n",
    "\n",
    "For cono vectors, skew cluster better than pretrained"
   ]
  },
  {
   "cell_type": "code",
   "execution_count": null,
   "metadata": {},
   "outputs": [],
   "source": [
    "base_dir = '../../results/recomposer/superset pretrained'\n",
    "D_sub, C_sub = load_recomposers_en_masse(base_dir, endswith='epoch30.pt')"
   ]
  },
  {
   "cell_type": "code",
   "execution_count": 5,
   "metadata": {},
   "outputs": [
    {
     "name": "stderr",
     "output_type": "stream",
     "text": [
      "/home/webson/Research/congressional_adversary/congressional_env/lib/python3.7/site-packages/torch/serialization.py:593: SourceChangeWarning: source code of class 'decomposer.Decomposer' has changed. you can retrieve the original source code by accessing the object's source attribute or set `torch.nn.Module.dump_patches = True` and use the patch tool to revert the changes.\n",
      "  warnings.warn(msg, SourceChangeWarning)\n",
      "/home/webson/Research/congressional_adversary/congressional_env/lib/python3.7/site-packages/torch/serialization.py:593: SourceChangeWarning: source code of class 'recomposer.Recomposer' has changed. you can retrieve the original source code by accessing the object's source attribute or set `torch.nn.Module.dump_patches = True` and use the patch tool to revert the changes.\n",
      "  warnings.warn(msg, SourceChangeWarning)\n"
     ]
    },
    {
     "name": "stdout",
     "output_type": "stream",
     "text": [
      "['Dd1.9', 'Dg-0.2', 'Cd-1.3', 'Cg3.0', 'R1', 'epoch30.pt']\n",
      "['Dd1.9', 'Dg-0.2', 'Cd-1.3', 'Cg3.0', 'R4.0', 'not', 'dumb', 'epoch30.pt']\n",
      "['Dd1.9', 'Dg-0.2', 'Cd-1.3', 'Cg3.0', 'R4.0', 'epoch30.pt']\n"
     ]
    }
   ],
   "source": [
    "base_dir = '../../results/recomposer/superset pretrained/dumb recomposer'\n",
    "D_sub, C_sub = load_recomposers_en_masse(base_dir, endswith='epoch30.pt')"
   ]
  },
  {
   "cell_type": "code",
   "execution_count": null,
   "metadata": {},
   "outputs": [],
   "source": [
    "base_dir = '../../results/recomposer/superset pretrained'\n",
    "D_super, C_super = load_recomposers_en_masse(base_dir, endswith='epoch30.pt')"
   ]
  },
  {
   "cell_type": "code",
   "execution_count": 6,
   "metadata": {},
   "outputs": [
    {
     "name": "stderr",
     "output_type": "stream",
     "text": [
      "100%|██████████| 5/5 [00:14<00:00,  3.00s/it]\n",
      "100%|██████████| 5/5 [00:15<00:00,  3.11s/it]\n",
      "100%|██████████| 5/5 [00:14<00:00,  2.80s/it]\n"
     ]
    }
   ],
   "source": [
    " # Evaluating Denotation\n",
    "models = D_sub\n",
    "\n",
    "# graph_en_masse(\n",
    "#     models,\n",
    "#     out_dir=f'{base_dir}/Joint/topic/PCA',\n",
    "#     reduction='PCA',\n",
    "#     word_ids=J_ids,\n",
    "#     words=J_words,\n",
    "#     hues=J_deno,\n",
    "#     sizes=J_freq,\n",
    "#     categorical=True\n",
    "# )\n",
    "\n",
    "graph_en_masse(\n",
    "    models, out_dir=f'{base_dir}/Joint/topic/t-SNE p5',\n",
    "    reduction='TSNE', perplexity=5,\n",
    "    word_ids=J_ids, words=J_words, hues=J_deno, sizes=J_freq,\n",
    "    categorical=True\n",
    ")\n",
    "\n",
    "graph_en_masse(\n",
    "    models,\n",
    "    out_dir=f'{base_dir}/Joint/topic/t-SNE p3',\n",
    "    reduction='TSNE', perplexity=3,\n",
    "    word_ids=J_ids, words=J_words, hues=J_deno, sizes=J_freq,\n",
    "    categorical=True\n",
    ")\n",
    "\n",
    "graph_en_masse(\n",
    "    models,\n",
    "    out_dir=f'{base_dir}/Joint/topic/t-SNE p10',\n",
    "    reduction='TSNE', perplexity=10,\n",
    "    word_ids=J_ids, words=J_words, hues=J_deno, sizes=J_freq,\n",
    "    categorical=True\n",
    ")"
   ]
  },
  {
   "cell_type": "code",
   "execution_count": 7,
   "metadata": {},
   "outputs": [
    {
     "name": "stderr",
     "output_type": "stream",
     "text": [
      "100%|██████████| 5/5 [00:10<00:00,  2.11s/it]\n",
      "100%|██████████| 5/5 [00:09<00:00,  1.97s/it]\n"
     ]
    }
   ],
   "source": [
    "# Evaluating Connotation\n",
    "models = C_sub\n",
    "\n",
    "# graph_en_masse(\n",
    "#     models,\n",
    "#     out_dir=f'{base_dir}/Joint/topic/PCA',\n",
    "#     reduction='PCA',\n",
    "#     word_ids=J_ids,\n",
    "#     words=J_words,\n",
    "#     hues=J_skew,\n",
    "#     sizes=J_freq,\n",
    "# )\n",
    "\n",
    "\n",
    "graph_en_masse(\n",
    "    models,\n",
    "    out_dir=f'{base_dir}/Joint/party/t-SNE p25',\n",
    "    reduction='TSNE', perplexity=25,\n",
    "    word_ids=J_ids, words=J_words, hues=J_skew, sizes=J_freq,\n",
    ")\n",
    "\n",
    "graph_en_masse(\n",
    "    models,\n",
    "    out_dir=f'{base_dir}/Joint/party/t-SNE p50',\n",
    "    reduction='TSNE', perplexity=50,\n",
    "    word_ids=J_ids, words=J_words, hues=J_skew, sizes=J_freq,\n",
    ")"
   ]
  },
  {
   "cell_type": "markdown",
   "metadata": {},
   "source": [
    "# Clustering + Homogeneity V-Measure"
   ]
  },
  {
   "cell_type": "code",
   "execution_count": null,
   "metadata": {},
   "outputs": [],
   "source": [
    "# Deno space, eval deno, higher is better\n",
    "for model_name, model in D_super.items():\n",
    "    cluster_labels, true_labels = NN_cluster_ids(\n",
    "        model, J_ids, categorical=True, top_k=10)    \n",
    "    homogeneity, completeness, v_measure = np.around(\n",
    "        homogeneity_completeness_v_measure(true_labels, cluster_labels), 4)\n",
    "    print(model_name, homogeneity, completeness, v_measure, sep='\\t')\n",
    "#     print(pred_labels)"
   ]
  },
  {
   "cell_type": "code",
   "execution_count": null,
   "metadata": {},
   "outputs": [],
   "source": [
    "# Deno space, eval cono, lower is better\n",
    "for model_name, model in D_super.items():\n",
    "    cluster_labels, true_labels = NN_cluster_ids(\n",
    "        model, J_ids, categorical=True, top_k=5)    \n",
    "    homogeneity, completeness, v_measure = np.around(\n",
    "        homogeneity_completeness_v_measure(true_labels, cluster_labels), 4)\n",
    "    print(model_name, homogeneity, completeness, v_measure, sep='\\t')\n",
    "#     print(pred_labels)"
   ]
  },
  {
   "cell_type": "code",
   "execution_count": null,
   "metadata": {},
   "outputs": [],
   "source": [
    "# Cono space, eval cono, higher is better\n",
    "for model_name, model in C_super.items():\n",
    "    cluster_labels, true_labels = NN_cluster_ids(\n",
    "        model, J_ids, categorical=False, top_k=5)    \n",
    "    homogeneity, completeness, v_measure = np.around(\n",
    "        homogeneity_completeness_v_measure(true_labels, cluster_labels), 4)\n",
    "    print(model_name, homogeneity, completeness, v_measure, sep='\\t')"
   ]
  },
  {
   "cell_type": "code",
   "execution_count": null,
   "metadata": {},
   "outputs": [],
   "source": [
    "# Cono space, eval deno, lower is better\n",
    "for model_name, model in C_super.items():\n",
    "    cluster_labels, true_labels = NN_cluster_ids(\n",
    "        model, J_ids, categorical=True, top_k=5)    \n",
    "    homogeneity, completeness, v_measure = np.around(\n",
    "        homogeneity_completeness_v_measure(true_labels, cluster_labels), 4)\n",
    "    print(model_name, homogeneity, completeness, v_measure, sep='\\t')"
   ]
  },
  {
   "cell_type": "code",
   "execution_count": null,
   "metadata": {},
   "outputs": [],
   "source": [
    "# homogeneity, completeness, v_measure = np.around(\n",
    "#     homogeneity_completeness_v_measure(true_labels, cluster_labels), 4)\n",
    "# print(homogeneity, completeness, v_measure, sep='\\t')"
   ]
  }
 ],
 "metadata": {
  "kernelspec": {
   "display_name": "Python 3",
   "language": "python",
   "name": "python3"
  },
  "language_info": {
   "codemirror_mode": {
    "name": "ipython",
    "version": 3
   },
   "file_extension": ".py",
   "mimetype": "text/x-python",
   "name": "python",
   "nbconvert_exporter": "python",
   "pygments_lexer": "ipython3",
   "version": "3.7.5"
  }
 },
 "nbformat": 4,
 "nbformat_minor": 2
}
