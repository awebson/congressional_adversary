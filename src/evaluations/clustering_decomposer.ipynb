{
 "cells": [
  {
   "cell_type": "code",
   "execution_count": 1,
   "metadata": {},
   "outputs": [
    {
     "name": "stderr",
     "output_type": "stream",
     "text": [
      "/home/webson/Research/congressional_adversary/congressional_env/lib/python3.7/site-packages/torch/serialization.py:593: SourceChangeWarning: source code of class 'decomposer.Decomposer' has changed. you can retrieve the original source code by accessing the object's source attribute or set `torch.nn.Module.dump_patches = True` and use the patch tool to revert the changes.\n",
      "  warnings.warn(msg, SourceChangeWarning)\n"
     ]
    }
   ],
   "source": [
    "from decomposer import Decomposer, DecomposerConfig\n",
    "from recomposer import Recomposer, RecomposerConfig\n",
    "from evaluations.clustering import *  # I’m so sorry"
   ]
  },
  {
   "cell_type": "code",
   "execution_count": null,
   "metadata": {},
   "outputs": [],
   "source": [
    "GD['joliet']"
   ]
  },
  {
   "cell_type": "code",
   "execution_count": null,
   "metadata": {
    "scrolled": true
   },
   "outputs": [],
   "source": [
    "# base_dir = '../../results/only remove deno BS128'\n",
    "# base_dir = '../../results/cono space remove deno/subset pretrained'\n",
    "base_dir = '../../results/deno space remove cono/superset pretrained'\n",
    "models = load_en_masse(base_dir, endswith='epoch100.pt')\n",
    "models['pretrained superset'] = load('../../results/pretrained/init.pt')\n",
    "models['pretrained'] = load('../../results/pretrained bill mentions/init.pt')"
   ]
  },
  {
   "cell_type": "markdown",
   "metadata": {},
   "source": [
    "### Graph by Party Skew (for removing connotation)"
   ]
  },
  {
   "cell_type": "code",
   "execution_count": null,
   "metadata": {},
   "outputs": [],
   "source": [
    "graph_en_masse(\n",
    "    models,\n",
    "    out_dir=f'{base_dir}/PCA',\n",
    "    reduction='PCA',\n",
    "    word_ids=R_ids,\n",
    "    words=R_words,\n",
    "    hues=R_skew,\n",
    "    sizes=R_freq,\n",
    ")\n",
    "\n",
    "graph_en_masse(\n",
    "    models,\n",
    "    out_dir=f'{base_dir}/t-SNE p5',\n",
    "    reduction='TSNE',\n",
    "    perplexity=5,\n",
    "    word_ids=R_ids,\n",
    "    words=R_words,\n",
    "    hues=R_skew,\n",
    "    sizes=R_freq,\n",
    ")\n",
    "\n",
    "graph_en_masse(\n",
    "    models,\n",
    "    out_dir=f'{base_dir}/t-SNE p3',\n",
    "    reduction='TSNE',\n",
    "    perplexity=3,\n",
    "    word_ids=R_ids,\n",
    "    words=R_words,\n",
    "    hues=R_skew,\n",
    "    sizes=R_freq,\n",
    ")"
   ]
  },
  {
   "cell_type": "code",
   "execution_count": null,
   "metadata": {},
   "outputs": [],
   "source": [
    "# graph_en_masse(\n",
    "#     models,\n",
    "#     out_dir=f'{base_dir}/Joint/PCA',\n",
    "#     reduction='PCA',\n",
    "#     word_ids=J_ids,\n",
    "#     words=J_words,\n",
    "#     hues=J_skew,\n",
    "#     sizes=J_freq,\n",
    "# )\n",
    "\n",
    "# graph_en_masse(\n",
    "#     models,\n",
    "#     out_dir=f'{base_dir}/Joint/t-SNE p5',\n",
    "#     reduction='TSNE',\n",
    "#     perplexity=5,\n",
    "#     word_ids=J_ids,\n",
    "#     words=J_words,\n",
    "#     hues=J_skew,\n",
    "#     sizes=J_freq,\n",
    "# )\n",
    "\n",
    "# graph_en_masse(\n",
    "#     models,\n",
    "#     out_dir=f'{base_dir}/Joint/t-SNE p3',\n",
    "#     reduction='TSNE',\n",
    "#     perplexity=3,\n",
    "#     word_ids=J_ids,\n",
    "#     words=J_words,\n",
    "#     hues=J_skew,\n",
    "#     sizes=J_freq,\n",
    "# )\n",
    "\n",
    "graph_en_masse(\n",
    "    models,\n",
    "    out_dir=f'{base_dir}/Joint/t-SNE p25',\n",
    "    reduction='TSNE',\n",
    "    perplexity=25,\n",
    "    word_ids=J_ids,\n",
    "    words=J_words,\n",
    "    hues=J_skew,\n",
    "    sizes=J_freq,\n",
    ")\n",
    "\n",
    "graph_en_masse(\n",
    "    models,\n",
    "    out_dir=f'{base_dir}/Joint/t-SNE p50',\n",
    "    reduction='TSNE',\n",
    "    perplexity=50,\n",
    "    word_ids=J_ids,\n",
    "    words=J_words,\n",
    "    hues=J_skew,\n",
    "    sizes=J_freq,\n",
    ")"
   ]
  },
  {
   "cell_type": "markdown",
   "metadata": {},
   "source": [
    "### Graph by Topic Denotation (for removing denotation)"
   ]
  },
  {
   "cell_type": "code",
   "execution_count": null,
   "metadata": {
    "scrolled": true
   },
   "outputs": [],
   "source": [
    "graph_en_masse(\n",
    "    models,\n",
    "    out_dir=f'{base_dir}/Highly GOP/PCA',\n",
    "    reduction='PCA',\n",
    "    perplexity=5,\n",
    "    word_ids=GOP_ids,\n",
    "    words=GOP_words,\n",
    "    hues=GOP_deno,\n",
    "    sizes=GOP_freq,\n",
    "    categorical=True\n",
    ")\n",
    "\n",
    "graph_en_masse(\n",
    "    models,\n",
    "    out_dir=f'{base_dir}/Highly GOP/t-SNE p5',\n",
    "    reduction='TSNE',\n",
    "    perplexity=5,\n",
    "    word_ids=GOP_ids,\n",
    "    words=GOP_words,\n",
    "    hues=GOP_deno,\n",
    "    sizes=GOP_freq,\n",
    "    categorical=True\n",
    ")\n",
    "\n",
    "graph_en_masse(\n",
    "    models,\n",
    "    out_dir=f'{base_dir}/Highly GOP/t-SNE p3',\n",
    "    reduction='TSNE',\n",
    "    perplexity=3,\n",
    "    word_ids=GOP_ids,\n",
    "    words=GOP_words,\n",
    "    hues=GOP_deno,\n",
    "    sizes=GOP_freq,\n",
    "    categorical=True\n",
    ")"
   ]
  },
  {
   "cell_type": "code",
   "execution_count": null,
   "metadata": {},
   "outputs": [],
   "source": [
    "graph_en_masse(\n",
    "    models,\n",
    "    out_dir=f'{base_dir}/Highly Dem/PCA',\n",
    "    reduction='PCA',\n",
    "    perplexity=5,\n",
    "    word_ids=D_ids,\n",
    "    words=D_words,\n",
    "    hues=D_deno,\n",
    "    sizes=D_freq,\n",
    "    categorical=True\n",
    ")\n",
    "\n",
    "graph_en_masse(\n",
    "    models,\n",
    "    out_dir=f'{base_dir}/Highly Dem/t-SNE p5',\n",
    "    reduction='TSNE',\n",
    "    perplexity=5,\n",
    "    word_ids=D_ids,\n",
    "    words=D_words,\n",
    "    hues=D_deno,\n",
    "    sizes=D_freq,\n",
    "    categorical=True\n",
    ")\n",
    "\n",
    "graph_en_masse(\n",
    "    models,\n",
    "    out_dir=f'{base_dir}/Highly Dem/t-SNE p3',\n",
    "    reduction='TSNE',\n",
    "    perplexity=3,\n",
    "    word_ids=D_ids,\n",
    "    words=D_words,\n",
    "    hues=D_deno,\n",
    "    sizes=D_freq,\n",
    "    categorical=True\n",
    ")"
   ]
  },
  {
   "cell_type": "code",
   "execution_count": null,
   "metadata": {},
   "outputs": [],
   "source": [
    "# graph_en_masse(\n",
    "#     models,\n",
    "#     out_dir=f'{base_dir}/Joint/PCA',\n",
    "#     reduction='PCA',\n",
    "#     perplexity=5,\n",
    "#     word_ids=J_ids,\n",
    "#     words=J_words,\n",
    "#     hues=J_deno,\n",
    "#     sizes=J_freq,\n",
    "#     categorical=True\n",
    "# )\n",
    "\n",
    "graph_en_masse(\n",
    "    models,\n",
    "    out_dir=f'{base_dir}/Joint/t-SNE p5',\n",
    "    reduction='TSNE',\n",
    "    perplexity=5,\n",
    "    word_ids=J_ids,\n",
    "    words=J_words,\n",
    "    hues=J_deno,\n",
    "    sizes=J_freq,\n",
    "    categorical=True\n",
    ")\n",
    "\n",
    "graph_en_masse(\n",
    "    models,\n",
    "    out_dir=f'{base_dir}/Joint/t-SNE p3',\n",
    "    reduction='TSNE',\n",
    "    perplexity=3,\n",
    "    word_ids=J_ids,\n",
    "    words=J_words,\n",
    "    hues=J_deno,\n",
    "    sizes=J_freq,\n",
    "    categorical=True\n",
    ")"
   ]
  },
  {
   "cell_type": "markdown",
   "metadata": {},
   "source": [
    "## Graph Recomposers\n",
    "Want to show that...\n",
    "\n",
    "For deno vectors, topic cluster better than pretrained\n",
    "\n",
    "For cono vectors, skew cluster better than pretrained"
   ]
  },
  {
   "cell_type": "code",
   "execution_count": 2,
   "metadata": {},
   "outputs": [
    {
     "name": "stderr",
     "output_type": "stream",
     "text": [
      "/home/webson/Research/congressional_adversary/congressional_env/lib/python3.7/site-packages/torch/serialization.py:593: SourceChangeWarning: source code of class 'recomposer.Recomposer' has changed. you can retrieve the original source code by accessing the object's source attribute or set `torch.nn.Module.dump_patches = True` and use the patch tool to revert the changes.\n",
      "  warnings.warn(msg, SourceChangeWarning)\n"
     ]
    },
    {
     "name": "stdout",
     "output_type": "stream",
     "text": [
      "['Dd0.9', 'Dg-3.5', 'Cd-2.4', 'Cg2.2', 'R1.5', 'epoch10.pt']\n",
      "['Dd3.3', 'Dg-3.4', 'Cd-2.4', 'Cg2.7', 'R0.9', 'epoch10.pt']\n",
      "['Dd0.8', 'Dg-4.7', 'Cd-0.7', 'Cg3.0', 'R3.5', 'epoch10.pt']\n",
      "['Dd0.6', 'Dg-2.5', 'Cd-4.8', 'Cg4.5', 'R1.3', 'epoch10.pt']\n",
      "['Dd4.8', 'Dg-1.1', 'Cd-0.3', 'Cg4.5', 'R3.0', 'epoch10.pt']\n",
      "['Dd3.0', 'Dg-4.1', 'Cd-4.7', 'Cg4.7', 'R4.8', 'epoch10.pt']\n",
      "['Dd4.6', 'Dg-4.6', 'Cd-4.0', 'Cg0.2', 'R1.6', 'epoch10.pt']\n",
      "['Dd1.9', 'Dg-0.2', 'Cd-1.3', 'Cg3.0', 'R0.8', 'epoch10.pt']\n",
      "['Dd3.1', 'Dg-4.3', 'Cd-3.5', 'Cg1.8', 'R2.3', 'epoch10.pt']\n",
      "['Dd1.9', 'Dg-3.6', 'Cd-0.9', 'Cg1.8', 'R1.4', 'epoch10.pt']\n",
      "['Dd4.0', 'Dg-3.5', 'Cd-4.5', 'Cg3.4', 'R2.2', 'epoch10.pt']\n",
      "['Dd3.9', 'Dg-4.0', 'Cd-2.4', 'Cg3.0', 'R0.2', 'epoch10.pt']\n",
      "['Dd0.1', 'Dg-0.2', 'Cd-0.8', 'Cg1.1', 'R0.9', 'epoch10.pt']\n"
     ]
    }
   ],
   "source": [
    "base_dir = '../../results/recomposer/subset pretrained'\n",
    "D_sub, C_sub = load_recomposers_en_masse(base_dir, endswith='epoch10.pt')"
   ]
  },
  {
   "cell_type": "code",
   "execution_count": null,
   "metadata": {},
   "outputs": [],
   "source": [
    "base_dir = '../../results/recomposer/superset pretrained'\n",
    "D_super, C_super = load_recomposers_en_masse(base_dir, endswith='epoch10.pt')"
   ]
  },
  {
   "cell_type": "code",
   "execution_count": null,
   "metadata": {},
   "outputs": [],
   "source": [
    "base_dir = '../../results/recomposer/handpicked'\n",
    "# base_dir = '../../results/debug'\n",
    "D_sub, C_sub = load_recomposers_en_masse(base_dir, endswith='epoch20.pt')"
   ]
  },
  {
   "cell_type": "code",
   "execution_count": null,
   "metadata": {},
   "outputs": [],
   "source": [
    " # Evaluating Denotation\n",
    "models = D_sub\n",
    "\n",
    "# graph_en_masse(\n",
    "#     models,\n",
    "#     out_dir=f'{base_dir}/Joint/topic/PCA',\n",
    "#     reduction='PCA',\n",
    "#     word_ids=J_ids,\n",
    "#     words=J_words,\n",
    "#     hues=J_deno,\n",
    "#     sizes=J_freq,\n",
    "#     categorical=True\n",
    "# )\n",
    "\n",
    "graph_en_masse(\n",
    "    models, out_dir=f'{base_dir}/Joint/topic/t-SNE p5',\n",
    "    reduction='TSNE', perplexity=5,\n",
    "    word_ids=J_ids, words=J_words, hues=J_deno, sizes=J_freq,\n",
    "    categorical=True\n",
    ")\n",
    "\n",
    "graph_en_masse(\n",
    "    models,\n",
    "    out_dir=f'{base_dir}/Joint/topic/t-SNE p3',\n",
    "    reduction='TSNE', perplexity=3,\n",
    "    word_ids=J_ids, words=J_words, hues=J_deno, sizes=J_freq,\n",
    "    categorical=True\n",
    ")\n",
    "\n",
    "graph_en_masse(\n",
    "    models,\n",
    "    out_dir=f'{base_dir}/Joint/topic/t-SNE p10',\n",
    "    reduction='TSNE', perplexity=10,\n",
    "    word_ids=J_ids, words=J_words, hues=J_deno, sizes=J_freq,\n",
    "    categorical=True\n",
    ")"
   ]
  },
  {
   "cell_type": "code",
   "execution_count": null,
   "metadata": {},
   "outputs": [],
   "source": [
    "# Evaluating Connotation\n",
    "models = C_sub\n",
    "\n",
    "# graph_en_masse(\n",
    "#     models,\n",
    "#     out_dir=f'{base_dir}/Joint/topic/PCA',\n",
    "#     reduction='PCA',\n",
    "#     word_ids=J_ids,\n",
    "#     words=J_words,\n",
    "#     hues=J_skew,\n",
    "#     sizes=J_freq,\n",
    "# )\n",
    "\n",
    "\n",
    "graph_en_masse(\n",
    "    models,\n",
    "    out_dir=f'{base_dir}/Joint/party/t-SNE p25',\n",
    "    reduction='TSNE', perplexity=25,\n",
    "    word_ids=J_ids, words=J_words, hues=J_skew, sizes=J_freq,\n",
    ")\n",
    "\n",
    "graph_en_masse(\n",
    "    models,\n",
    "    out_dir=f'{base_dir}/Joint/party/t-SNE p50',\n",
    "    reduction='TSNE', perplexity=50,\n",
    "    word_ids=J_ids, words=J_words, hues=J_skew, sizes=J_freq,\n",
    ")"
   ]
  },
  {
   "cell_type": "markdown",
   "metadata": {},
   "source": [
    "# Clustering + Homogeneity V-Measure"
   ]
  },
  {
   "cell_type": "code",
   "execution_count": 3,
   "metadata": {},
   "outputs": [
    {
     "name": "stdout",
     "output_type": "stream",
     "text": [
      "pretrained superset\t0.7217\t0.4513\t0.5553\n",
      "pretrained subset\t0.6742\t0.3991\t0.5014\n",
      "Dd0.9 Dg-3.5 R1.5 epoch10.pt\t0.9164\t0.5806\t0.7109\n",
      "Dd3.3 Dg-3.4 R0.9 epoch10.pt\t0.9143\t0.5717\t0.7035\n",
      "Dd0.8 Dg-4.7 R3.5 epoch10.pt\t0.8981\t0.5624\t0.6917\n",
      "Dd0.6 Dg-2.5 R1.3 epoch10.pt\t0.9146\t0.5746\t0.7058\n",
      "Dd4.8 Dg-1.1 R3.0 epoch10.pt\t0.7789\t0.4881\t0.6002\n",
      "Dd3.0 Dg-4.1 R4.8 epoch10.pt\t0.913\t0.5798\t0.7092\n",
      "Dd4.6 Dg-4.6 R1.6 epoch10.pt\t0.9127\t0.579\t0.7085\n",
      "Dd1.9 Dg-0.2 R0.8 epoch10.pt\t0.8993\t0.566\t0.6947\n",
      "Dd3.1 Dg-4.3 R2.3 epoch10.pt\t0.915\t0.5845\t0.7134\n",
      "Dd1.9 Dg-3.6 R1.4 epoch10.pt\t0.8884\t0.5606\t0.6874\n",
      "Dd4.0 Dg-3.5 R2.2 epoch10.pt\t0.9209\t0.583\t0.714\n",
      "Dd3.9 Dg-4.0 R0.2 epoch10.pt\t0.9176\t0.5767\t0.7083\n",
      "Dd0.1 Dg-0.2 R0.9 epoch10.pt\t0.9117\t0.5746\t0.7049\n"
     ]
    }
   ],
   "source": [
    "# Deno space, eval deno, higher is better\n",
    "for model_name, model in D_sub.items():\n",
    "    cluster_labels, true_labels = NN_cluster_ids(\n",
    "        model, J_ids, categorical=True, top_k=10)    \n",
    "    homogeneity, completeness, v_measure = np.around(\n",
    "        homogeneity_completeness_v_measure(true_labels, cluster_labels), 4)\n",
    "    print(model_name, homogeneity, completeness, v_measure, sep='\\t')\n",
    "#     print(pred_labels)"
   ]
  },
  {
   "cell_type": "code",
   "execution_count": 4,
   "metadata": {},
   "outputs": [
    {
     "name": "stdout",
     "output_type": "stream",
     "text": [
      "pretrained superset\t0.6114\t0.0899\t0.1568\n",
      "pretrained subset\t0.5441\t0.0789\t0.1379\n",
      "Dd0.9 Dg-3.5 R1.5 epoch10.pt\t0.5252\t0.0783\t0.1364\n",
      "Dd3.3 Dg-3.4 R0.9 epoch10.pt\t0.4634\t0.0694\t0.1208\n",
      "Dd0.8 Dg-4.7 R3.5 epoch10.pt\t0.8975\t0.1348\t0.2344\n",
      "Dd0.6 Dg-2.5 R1.3 epoch10.pt\t0.4912\t0.0735\t0.1279\n",
      "Dd4.8 Dg-1.1 R3.0 epoch10.pt\t0.2989\t0.0442\t0.077\n",
      "Dd3.0 Dg-4.1 R4.8 epoch10.pt\t0.6983\t0.1048\t0.1822\n",
      "Dd4.6 Dg-4.6 R1.6 epoch10.pt\t0.4076\t0.0603\t0.1051\n",
      "Dd1.9 Dg-0.2 R0.8 epoch10.pt\t0.3723\t0.0551\t0.096\n",
      "Dd3.1 Dg-4.3 R2.3 epoch10.pt\t0.4846\t0.072\t0.1254\n",
      "Dd1.9 Dg-3.6 R1.4 epoch10.pt\t0.4892\t0.0729\t0.1269\n",
      "Dd4.0 Dg-3.5 R2.2 epoch10.pt\t0.598\t0.0898\t0.1562\n",
      "Dd3.9 Dg-4.0 R0.2 epoch10.pt\t0.5\t0.0747\t0.13\n",
      "Dd0.1 Dg-0.2 R0.9 epoch10.pt\t0.7535\t0.1132\t0.1968\n"
     ]
    }
   ],
   "source": [
    "# Deno space, eval cono, lower is better\n",
    "for model_name, model in D_sub.items():\n",
    "    cluster_labels, true_labels = NN_cluster_ids(\n",
    "        model, J_ids, categorical=False, top_k=5)    \n",
    "    homogeneity, completeness, v_measure = np.around(\n",
    "        homogeneity_completeness_v_measure(true_labels, cluster_labels), 4)\n",
    "    print(model_name, homogeneity, completeness, v_measure, sep='\\t')\n",
    "#     print(pred_labels)"
   ]
  },
  {
   "cell_type": "code",
   "execution_count": null,
   "metadata": {},
   "outputs": [],
   "source": [
    "# Cono space, eval cono, higher is better\n",
    "for model_name, model in C_sub.items():\n",
    "    cluster_labels, true_labels = NN_cluster_ids(\n",
    "        model, J_ids, categorical=False, top_k=5)    \n",
    "    homogeneity, completeness, v_measure = np.around(\n",
    "        homogeneity_completeness_v_measure(true_labels, cluster_labels), 4)\n",
    "    print(model_name, homogeneity, completeness, v_measure, sep='\\t')"
   ]
  },
  {
   "cell_type": "code",
   "execution_count": null,
   "metadata": {},
   "outputs": [],
   "source": [
    "# Cono space, eval deno, lower is better\n",
    "for model_name, model in C_sub.items():\n",
    "    cluster_labels, true_labels = NN_cluster_ids(\n",
    "        model, J_ids, categorical=True, top_k=5)    \n",
    "    homogeneity, completeness, v_measure = np.around(\n",
    "        homogeneity_completeness_v_measure(true_labels, cluster_labels), 4)\n",
    "    print(model_name, homogeneity, completeness, v_measure, sep='\\t')"
   ]
  },
  {
   "cell_type": "code",
   "execution_count": null,
   "metadata": {},
   "outputs": [],
   "source": [
    "### Sanity Check"
   ]
  },
  {
   "cell_type": "code",
   "execution_count": null,
   "metadata": {},
   "outputs": [],
   "source": [
    "len(PE.word_to_id)"
   ]
  },
  {
   "cell_type": "code",
   "execution_count": null,
   "metadata": {},
   "outputs": [],
   "source": [
    "MD = torch.load('../../results/debug/epoch10.pt', map_location=DEVICE)['model']"
   ]
  },
  {
   "cell_type": "code",
   "execution_count": null,
   "metadata": {},
   "outputs": [],
   "source": [
    "MD.word_to_id == MD.deno_decomposer.word_to_id"
   ]
  },
  {
   "cell_type": "code",
   "execution_count": null,
   "metadata": {},
   "outputs": [],
   "source": [
    "PE_sub = torch.load(\n",
    "    '../../results/pretrained bill mentions/init.pt', map_location=DEVICE)['model']"
   ]
  },
  {
   "cell_type": "code",
   "execution_count": null,
   "metadata": {},
   "outputs": [],
   "source": [
    "PE_super = torch.load(\n",
    "    '../../results/pretrained superset/init.pt', map_location=DEVICE)['model']"
   ]
  },
  {
   "cell_type": "code",
   "execution_count": null,
   "metadata": {},
   "outputs": [],
   "source": [
    "MD.deno_decomposer.grounding == PE_super.grounding"
   ]
  }
 ],
 "metadata": {
  "kernelspec": {
   "display_name": "Python 3",
   "language": "python",
   "name": "python3"
  },
  "language_info": {
   "codemirror_mode": {
    "name": "ipython",
    "version": 3
   },
   "file_extension": ".py",
   "mimetype": "text/x-python",
   "name": "python",
   "nbconvert_exporter": "python",
   "pygments_lexer": "ipython3",
   "version": "3.7.5"
  }
 },
 "nbformat": 4,
 "nbformat_minor": 2
}
