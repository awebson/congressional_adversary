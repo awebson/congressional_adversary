{
 "cells": [
  {
   "cell_type": "code",
   "execution_count": 1,
   "metadata": {},
   "outputs": [
    {
     "name": "stdout",
     "output_type": "stream",
     "text": [
      "Loading vocabulary from /home/webson/Research/congressional_adversary/results/pretrained subset/init.pt\n"
     ]
    },
    {
     "name": "stderr",
     "output_type": "stream",
     "text": [
      "/home/webson/Research/congressional_adversary/congressional_env/lib/python3.7/site-packages/torch/serialization.py:593: SourceChangeWarning: source code of class 'decomposer.Decomposer' has changed. you can retrieve the original source code by accessing the object's source attribute or set `torch.nn.Module.dump_patches = True` and use the patch tool to revert the changes.\n",
      "  warnings.warn(msg, SourceChangeWarning)\n"
     ]
    },
    {
     "name": "stdout",
     "output_type": "stream",
     "text": [
      "628 capitalists\n",
      "1129 socialists\n"
     ]
    }
   ],
   "source": [
    "from pathlib import Path\n",
    "from decomposer import Decomposer, DecomposerConfig\n",
    "from recomposer import Recomposer, RecomposerConfig\n",
    "from evaluations.helpers import load_recomposer, cf_cos_sim, tabulate_cos_sim, GD"
   ]
  },
  {
   "cell_type": "code",
   "execution_count": 6,
   "metadata": {},
   "outputs": [],
   "source": [
    "base_dir = Path('../../results/sans recomposer')  \n",
    "deno_pick = base_dir / 'Dd3.0 Dg-3.9 Cd-9.1 Cg2.0 R0.0 dp0.20/epoch100.pt'\n",
    "cono_pick = base_dir / 'Dd1.9 Dg-2.5 Cd-2.7 Cg6.0 R0.0 dp0.09/epoch10.pt'\n",
    "\n",
    "# base_dir = Path('../../results/recomposer')  \n",
    "# deno_pick = base_dir / 'Dd4.1 Dg-7.0 Cd-9.9 Cg5.1 R26.7 dp0.13/epoch100.pt'\n",
    "# cono_pick = base_dir / 'Dd1.9 Dg-2.5 Cd-2.7 Cg6.0 R16.2 dp0.09/epoch10.pt'\n",
    "\n",
    "# # sort by absolute\n",
    "# base_dir = Path('../../results/recomposer')  \n",
    "# deno_pick = base_dir / 'Dd4.0 Dg-5.2 Cd-6.8 Cg1.1 R19.1 dp0.26/epoch10.pt'\n",
    "# cono_pick = base_dir / 'Dd1.9 Dg-2.5 Cd-2.7 Cg6.0 R16.2 dp0.09/epoch10.pt'\n",
    "\n",
    "deno_embed, _ = load_recomposer(deno_pick)\n",
    "_, cono_embed = load_recomposer(cono_pick)"
   ]
  },
  {
   "cell_type": "code",
   "execution_count": 7,
   "metadata": {},
   "outputs": [
    {
     "name": "stdout",
     "output_type": "stream",
     "text": [
      "w1\tw2\tpretrained\tdeno\tcono\tdiff\n",
      "government\twashington\t0.182\t0.0771\t0.6915\t-0.6144\n",
      "estate_tax\tdeath_tax\t0.8886\t0.4709\t-0.3783\t0.8492\n",
      "capitalism\tfree_market\t0.6903\t0.1722\t0.0478\t0.1244\n",
      "undocumented\tillegal_aliens\t0.7526\t0.2965\t0.4032\t-0.1067\n",
      "foreign_trade\tinternational_trade\t0.7468\t0.8029\t0.3232\t0.4797\n",
      "public_option\tgovernmentrun\t0.5419\t0.5\t-0.7041\t1.2041\n",
      "political_speech\tcampaign_spending\t0.8659\t0.1751\t0.0872\t0.0879\n",
      "cut_taxes\ttrickledown\t0.639\t0.4717\t-0.2564\t0.7281\n"
     ]
    }
   ],
   "source": [
    "luntz = [\n",
    "    # Luntz Report, all GOP euphemisms\n",
    "    ('government', 'washington'),\n",
    "    # ('private_account', 'personal_account'),\n",
    "    # ('tax_reform', 'tax_simplification'),\n",
    "    ('estate_tax', 'death_tax'),\n",
    "    ('capitalism', 'free_market'),  # global economy, globalization\n",
    "    # ('outsourcing', 'innovation'),  # \"root cause\" of outsourcing, regulation\n",
    "    ('undocumented', 'illegal_aliens'),  # OOV undocumented_workers\n",
    "    ('foreign_trade', 'international_trade'),  # foreign, global all bad\n",
    "    # ('drilling_for_oil', 'exploring_for_energy'),\n",
    "    # ('drilling', 'energy_exploration'),\n",
    "    # ('tort_reform', 'lawsuit_abuse_reform'),\n",
    "    # ('trial_lawyer', 'personal_injury_lawyer'),  # aka ambulance chasers\n",
    "    # ('corporate_transparency', 'corporate_accountability'),\n",
    "    # ('school_choice', 'parental_choice'),  # equal_opportunity_in_education\n",
    "    #('healthcare_choice', 'right_to_choose')\n",
    "    \n",
    "    # Own Cherries\n",
    "    ('public_option', 'governmentrun'),\n",
    "    ('political_speech', 'campaign_spending'),  # hard example\n",
    "    ('cut_taxes', 'trickledown')  # OOV supplyside\n",
    "]\n",
    "tabulate_cos_sim(luntz, deno_embed, cono_embed)"
   ]
  },
  {
   "cell_type": "code",
   "execution_count": null,
   "metadata": {},
   "outputs": [],
   "source": [
    "# GD['death_tax']"
   ]
  },
  {
   "cell_type": "code",
   "execution_count": null,
   "metadata": {},
   "outputs": [],
   "source": [
    "cf_cos_sim('undocumented', 'illegal_aliens', deno_embed, cono_embed)"
   ]
  },
  {
   "cell_type": "code",
   "execution_count": null,
   "metadata": {},
   "outputs": [],
   "source": [
    "cf_cos_sim('immigrants', 'aliens', deno_embed, cono_embed)"
   ]
  },
  {
   "cell_type": "code",
   "execution_count": null,
   "metadata": {},
   "outputs": [],
   "source": [
    "cf_cos_sim('amnesty', 'immigration_reform', deno_embed, cono_embed)"
   ]
  },
  {
   "cell_type": "code",
   "execution_count": null,
   "metadata": {},
   "outputs": [],
   "source": [
    "cf_cos_sim('political_speech', 'campaign_spending', deno_embed, cono_embed)"
   ]
  },
  {
   "cell_type": "code",
   "execution_count": null,
   "metadata": {},
   "outputs": [],
   "source": [
    "cf_cos_sim('cap_and_trade', 'national_energy_tax', deno_embed, cono_embed)\n",
    "# GD['cap_and_tax']"
   ]
  },
  {
   "cell_type": "code",
   "execution_count": null,
   "metadata": {},
   "outputs": [],
   "source": [
    "cf_cos_sim('waterboarding', 'interrogation', deno_embed, cono_embed)"
   ]
  },
  {
   "cell_type": "code",
   "execution_count": null,
   "metadata": {
    "scrolled": true
   },
   "outputs": [],
   "source": [
    "cf_cos_sim('estate_tax', 'death_tax', deno_embed, cono_embed)"
   ]
  },
  {
   "cell_type": "code",
   "execution_count": null,
   "metadata": {},
   "outputs": [],
   "source": [
    "cf_cos_sim('cut_taxes', 'trickledown', deno_embed, cono_embed)  # OOV supplyside"
   ]
  },
  {
   "cell_type": "code",
   "execution_count": null,
   "metadata": {},
   "outputs": [],
   "source": [
    "cf_cos_sim('public_option', 'governmentrun', deno_embed, cono_embed)"
   ]
  },
  {
   "cell_type": "markdown",
   "metadata": {},
   "source": [
    "## Handpicking OOV"
   ]
  },
  {
   "cell_type": "code",
   "execution_count": null,
   "metadata": {},
   "outputs": [],
   "source": [
    "from evaluations.helpers import capitalism, socialism"
   ]
  },
  {
   "cell_type": "code",
   "execution_count": null,
   "metadata": {},
   "outputs": [],
   "source": [
    "[c for c in capitalism if c.freq > 100]"
   ]
  },
  {
   "cell_type": "code",
   "execution_count": null,
   "metadata": {},
   "outputs": [],
   "source": [
    "[s for s in socialism if s.freq > 100]"
   ]
  }
 ],
 "metadata": {
  "kernelspec": {
   "display_name": "Python 3",
   "language": "python",
   "name": "python3"
  },
  "language_info": {
   "codemirror_mode": {
    "name": "ipython",
    "version": 3
   },
   "file_extension": ".py",
   "mimetype": "text/x-python",
   "name": "python",
   "nbconvert_exporter": "python",
   "pygments_lexer": "ipython3",
   "version": "3.7.5"
  }
 },
 "nbformat": 4,
 "nbformat_minor": 2
}
