{
 "cells": [
  {
   "cell_type": "code",
   "execution_count": 2,
   "metadata": {},
   "outputs": [],
   "source": [
    "from pathlib import Path\n",
    "from typing import Tuple, Union, List, Dict, Iterable, Optional\n",
    "\n",
    "import torch\n",
    "import numpy as np\n",
    "from tqdm.notebook import tqdm\n",
    "\n",
    "from decomposer import Decomposer, DecomposerConfig\n",
    "from recomposer import Recomposer, RecomposerConfig\n",
    "from data import GroundedWord\n",
    "from evaluations.helpers import load_en_masse, ground\n",
    "\n",
    "np.random.seed(42)\n",
    "\n",
    "# from evaluations.helpers import GroundedWord, load_recomposers_en_masse\n",
    "# from evaluations.clustering import graph_en_masse\n",
    "# from evaluations.euphemism import cherry_words"
   ]
  },
  {
   "cell_type": "code",
   "execution_count": 3,
   "metadata": {},
   "outputs": [
    {
     "data": {
      "application/vnd.jupyter.widget-view+json": {
       "model_id": "45071e15597c4398b4ae6d2df39a955c",
       "version_major": 2,
       "version_minor": 0
      },
      "text/plain": [
       "HBox(children=(FloatProgress(value=0.0, max=8.0), HTML(value='')))"
      ]
     },
     "metadata": {},
     "output_type": "display_data"
    },
    {
     "name": "stdout",
     "output_type": "stream",
     "text": [
      "Loading ../../results/PN/GM2/NS5/epoch1.pt\n",
      "Loading ../../results/PN/GM2/NS10/epoch1.pt\n",
      "Loading ../../results/PN/GM2/B4 1e-5/epoch1.pt\n",
      "Loading ../../results/PN/GM2/B8/epoch1.pt\n",
      "Loading ../../results/PN/GM2/NS5/epoch5.pt\n",
      "Loading ../../results/PN/GM2/NS10/epoch5.pt\n",
      "Loading ../../results/PN/GM2/B4 1e-5/epoch5.pt\n",
      "Loading ../../results/PN/GM2/B8/epoch5.pt\n",
      "\n",
      "NS5 epoch1\n",
      "NS10 epoch1\n",
      "B4 1e-5 epoch1\n",
      "B8 epoch1\n",
      "NS5 epoch5\n",
      "NS10 epoch5\n",
      "B4 1e-5 epoch5\n",
      "B8 epoch5\n"
     ]
    }
   ],
   "source": [
    "# base_dir = Path('../../results/PN/EWS_recomposer/')\n",
    "base_dir = Path('../../results/PN/GM2')\n",
    "deno_space, cono_space = load_en_masse(\n",
    "    base_dir, \n",
    "    patterns=['*/epoch1.pt', '*/epoch5.pt', ], #'*/epoch10.pt'], \n",
    "    recomposer=True,\n",
    "    pretrained=False)\n",
    "for name in deno_space.keys():\n",
    "    print(name)"
   ]
  },
  {
   "cell_type": "markdown",
   "metadata": {},
   "source": [
    "## Clustering"
   ]
  },
  {
   "cell_type": "code",
   "execution_count": 4,
   "metadata": {},
   "outputs": [],
   "source": [
    "import matplotlib.pyplot as plt\n",
    "import seaborn as sns\n",
    "from sklearn.manifold import TSNE\n",
    "from sklearn.decomposition import PCA\n",
    "\n",
    "sns.set()\n",
    "\n",
    "def plot(\n",
    "        coordinates: np.ndarray,\n",
    "        words: List[GroundedWord],\n",
    "        path: Path\n",
    "        ) -> None:\n",
    "    fig, ax = plt.subplots(figsize=(15, 10))\n",
    "    skew = [w.R_ratio for w in words]\n",
    "    freq = [w.freq for w in words]\n",
    "    sns.scatterplot(\n",
    "        coordinates[:, 0], coordinates[:, 1],\n",
    "        hue=skew, palette='coolwarm', hue_norm=(0, 1),\n",
    "        size=freq, sizes=(25, 100),\n",
    "        legend=None, ax=ax)\n",
    "    for coord, w in zip(coordinates, words):\n",
    "        ax.annotate(w.word, coord, fontsize=3)\n",
    "    with open(path, 'wb') as file:\n",
    "        fig.savefig(file, dpi=300)\n",
    "    plt.close(fig)\n",
    "\n",
    "\n",
    "# def plot_categorical(\n",
    "#         coordinates: np.ndarray,\n",
    "#         words: List[GroundedWord],\n",
    "#         path: Path,\n",
    "#         fancy: bool = False\n",
    "#         ) -> None:\n",
    "#     if fancy:\n",
    "#         fig, ax = plt.subplots(figsize=(20, 10))\n",
    "#         categories = [w.majority_deno for w in words]\n",
    "#         freq = [w.freq for w in words]\n",
    "#         sns.scatterplot(\n",
    "#             coordinates[:, 0], coordinates[:, 1],\n",
    "#             hue=categories, palette='muted', hue_norm=(0, 1),\n",
    "#             size=freq, sizes=(200, 1000),\n",
    "#             legend='brief', \n",
    "#             ax=ax)\n",
    "#         chartBox = ax.get_position()\n",
    "#         ax.set_position(  # adjust legend\n",
    "#             [chartBox.x0, chartBox.y0, chartBox.width * 0.6, chartBox.height])\n",
    "#         ax.legend(loc='upper center', bbox_to_anchor=(1.45, 0.8), ncol=1)\n",
    "#     else:\n",
    "#         fig, ax = plt.subplots(figsize=(20, 10))\n",
    "#         freq = [w.freq for w in words]\n",
    "#         sns.scatterplot(\n",
    "#             coordinates[:, 0], coordinates[:, 1], ax=ax)\n",
    "\n",
    "#     for coord, w in zip(coordinates, words):\n",
    "#         ax.annotate(w.word, coord, fontsize=12)\n",
    "#     with open(path, 'wb') as file:\n",
    "#         fig.savefig(file, dpi=300)\n",
    "#     plt.close(fig)\n",
    "\n",
    "\n",
    "def graph_en_masse(\n",
    "        models: Dict[str, np.ndarray],\n",
    "        out_dir: Path,\n",
    "        reduction: str,  # 'PCA', 'TSNE', or 'both'\n",
    "        words: List[GroundedWord],\n",
    "        # hues: Union[List[float], List[int]],\n",
    "        # sizes: List[int],\n",
    "        perplexity: Optional[int] = None,\n",
    "        categorical: bool = False\n",
    "        ) -> None:\n",
    "    Path.mkdir(out_dir, parents=True, exist_ok=True)\n",
    "    word_ids = np.array([w.id for w in words])\n",
    "    for model_name, embed in tqdm(models.items()):\n",
    "        space = embed[word_ids]\n",
    "        if reduction == 'PCA':\n",
    "            visual = PCA(n_components=2).fit_transform(space)\n",
    "        elif reduction == 'TSNE':\n",
    "            assert perplexity is not None\n",
    "            visual = TSNE(\n",
    "                perplexity=perplexity, learning_rate=10,\n",
    "                n_iter=5000, n_iter_without_progress=1000).fit_transform(space)\n",
    "        elif reduction == 'both':\n",
    "            assert perplexity is not None\n",
    "            space = PCA(n_components=30).fit_transform(space)\n",
    "            visual = TSNE(\n",
    "                perplexity=perplexity, learning_rate=10,\n",
    "                n_iter=5000, n_iter_without_progress=1000).fit_transform(space)\n",
    "        else:\n",
    "            raise ValueError('unknown dimension reduction method')\n",
    "        if categorical:\n",
    "            plot_categorical(visual, words, out_dir / f'{model_name}.png')\n",
    "        else:\n",
    "            plot(visual, words, out_dir / f'{model_name}.png')\n"
   ]
  },
  {
   "cell_type": "code",
   "execution_count": null,
   "metadata": {},
   "outputs": [],
   "source": [
    "cherry_words = [\n",
    "    'government', 'washington',\n",
    "    'estate_tax', 'death_tax',\n",
    "    'public_option', 'government_run',\n",
    "    'foreign_trade', 'international_trade',\n",
    "#     'cut_taxes', 'trickle_down'\n",
    "]\n",
    "cherry_words = [ground[w] for w in cherry_words]"
   ]
  },
  {
   "cell_type": "code",
   "execution_count": 5,
   "metadata": {},
   "outputs": [],
   "source": [
    "import random\n",
    "random.seed(1)\n",
    "\n",
    "test_path = Path('../../data/ellie/partisan_sample.hp.txt')\n",
    "with open(test_path) as file:\n",
    "    test_words = [ground[word.strip()] for word in file]\n",
    "# sampled_test = random.sample(test_words, 50)\n",
    "\n",
    "rand_path = Path('../../data/ellie/rand_sample.hp.txt')\n",
    "with open(test_path) as file:\n",
    "    rand_words = [ground[word.strip()] for word in file]"
   ]
  },
  {
   "cell_type": "code",
   "execution_count": 6,
   "metadata": {
    "scrolled": true
   },
   "outputs": [
    {
     "data": {
      "application/vnd.jupyter.widget-view+json": {
       "model_id": "0548586d9414461db584577303e8a131",
       "version_major": 2,
       "version_minor": 0
      },
      "text/plain": [
       "HBox(children=(FloatProgress(value=0.0, max=4.0), HTML(value='')))"
      ]
     },
     "metadata": {},
     "output_type": "display_data"
    },
    {
     "data": {
      "application/vnd.jupyter.widget-view+json": {
       "model_id": "a4e1a4a6d53b40a295df3b356ee290a1",
       "version_major": 2,
       "version_minor": 0
      },
      "text/plain": [
       "HBox(children=(FloatProgress(value=0.0, max=8.0), HTML(value='')))"
      ]
     },
     "metadata": {},
     "output_type": "display_data"
    },
    {
     "name": "stderr",
     "output_type": "stream",
     "text": [
      "/home/webson/Research/congressional_adversary/torch1.5/lib/python3.7/site-packages/matplotlib/backends/backend_agg.py:214: RuntimeWarning: Glyph 146 missing from current font.\n",
      "  font.set_text(s, 0.0, flags=flags)\n",
      "/home/webson/Research/congressional_adversary/torch1.5/lib/python3.7/site-packages/matplotlib/backends/backend_agg.py:183: RuntimeWarning: Glyph 146 missing from current font.\n",
      "  font.set_text(s, 0, flags=flags)\n",
      "/home/webson/Research/congressional_adversary/torch1.5/lib/python3.7/site-packages/matplotlib/backends/backend_agg.py:214: RuntimeWarning: Glyph 146 missing from current font.\n",
      "  font.set_text(s, 0.0, flags=flags)\n",
      "/home/webson/Research/congressional_adversary/torch1.5/lib/python3.7/site-packages/matplotlib/backends/backend_agg.py:183: RuntimeWarning: Glyph 146 missing from current font.\n",
      "  font.set_text(s, 0, flags=flags)\n",
      "/home/webson/Research/congressional_adversary/torch1.5/lib/python3.7/site-packages/matplotlib/backends/backend_agg.py:214: RuntimeWarning: Glyph 146 missing from current font.\n",
      "  font.set_text(s, 0.0, flags=flags)\n",
      "/home/webson/Research/congressional_adversary/torch1.5/lib/python3.7/site-packages/matplotlib/backends/backend_agg.py:183: RuntimeWarning: Glyph 146 missing from current font.\n",
      "  font.set_text(s, 0, flags=flags)\n",
      "/home/webson/Research/congressional_adversary/torch1.5/lib/python3.7/site-packages/matplotlib/backends/backend_agg.py:214: RuntimeWarning: Glyph 146 missing from current font.\n",
      "  font.set_text(s, 0.0, flags=flags)\n",
      "/home/webson/Research/congressional_adversary/torch1.5/lib/python3.7/site-packages/matplotlib/backends/backend_agg.py:183: RuntimeWarning: Glyph 146 missing from current font.\n",
      "  font.set_text(s, 0, flags=flags)\n",
      "/home/webson/Research/congressional_adversary/torch1.5/lib/python3.7/site-packages/matplotlib/backends/backend_agg.py:214: RuntimeWarning: Glyph 146 missing from current font.\n",
      "  font.set_text(s, 0.0, flags=flags)\n",
      "/home/webson/Research/congressional_adversary/torch1.5/lib/python3.7/site-packages/matplotlib/backends/backend_agg.py:183: RuntimeWarning: Glyph 146 missing from current font.\n",
      "  font.set_text(s, 0, flags=flags)\n",
      "/home/webson/Research/congressional_adversary/torch1.5/lib/python3.7/site-packages/matplotlib/backends/backend_agg.py:214: RuntimeWarning: Glyph 146 missing from current font.\n",
      "  font.set_text(s, 0.0, flags=flags)\n",
      "/home/webson/Research/congressional_adversary/torch1.5/lib/python3.7/site-packages/matplotlib/backends/backend_agg.py:183: RuntimeWarning: Glyph 146 missing from current font.\n",
      "  font.set_text(s, 0, flags=flags)\n",
      "/home/webson/Research/congressional_adversary/torch1.5/lib/python3.7/site-packages/matplotlib/backends/backend_agg.py:214: RuntimeWarning: Glyph 146 missing from current font.\n",
      "  font.set_text(s, 0.0, flags=flags)\n",
      "/home/webson/Research/congressional_adversary/torch1.5/lib/python3.7/site-packages/matplotlib/backends/backend_agg.py:183: RuntimeWarning: Glyph 146 missing from current font.\n",
      "  font.set_text(s, 0, flags=flags)\n",
      "/home/webson/Research/congressional_adversary/torch1.5/lib/python3.7/site-packages/matplotlib/backends/backend_agg.py:214: RuntimeWarning: Glyph 146 missing from current font.\n",
      "  font.set_text(s, 0.0, flags=flags)\n",
      "/home/webson/Research/congressional_adversary/torch1.5/lib/python3.7/site-packages/matplotlib/backends/backend_agg.py:183: RuntimeWarning: Glyph 146 missing from current font.\n",
      "  font.set_text(s, 0, flags=flags)\n"
     ]
    },
    {
     "name": "stdout",
     "output_type": "stream",
     "text": [
      "\n"
     ]
    },
    {
     "data": {
      "application/vnd.jupyter.widget-view+json": {
       "model_id": "9d505145bd61422e957460c344fbad99",
       "version_major": 2,
       "version_minor": 0
      },
      "text/plain": [
       "HBox(children=(FloatProgress(value=0.0, max=8.0), HTML(value='')))"
      ]
     },
     "metadata": {},
     "output_type": "display_data"
    },
    {
     "name": "stderr",
     "output_type": "stream",
     "text": [
      "/home/webson/Research/congressional_adversary/torch1.5/lib/python3.7/site-packages/matplotlib/backends/backend_agg.py:214: RuntimeWarning: Glyph 146 missing from current font.\n",
      "  font.set_text(s, 0.0, flags=flags)\n",
      "/home/webson/Research/congressional_adversary/torch1.5/lib/python3.7/site-packages/matplotlib/backends/backend_agg.py:183: RuntimeWarning: Glyph 146 missing from current font.\n",
      "  font.set_text(s, 0, flags=flags)\n",
      "/home/webson/Research/congressional_adversary/torch1.5/lib/python3.7/site-packages/matplotlib/backends/backend_agg.py:214: RuntimeWarning: Glyph 146 missing from current font.\n",
      "  font.set_text(s, 0.0, flags=flags)\n",
      "/home/webson/Research/congressional_adversary/torch1.5/lib/python3.7/site-packages/matplotlib/backends/backend_agg.py:183: RuntimeWarning: Glyph 146 missing from current font.\n",
      "  font.set_text(s, 0, flags=flags)\n",
      "/home/webson/Research/congressional_adversary/torch1.5/lib/python3.7/site-packages/matplotlib/backends/backend_agg.py:214: RuntimeWarning: Glyph 146 missing from current font.\n",
      "  font.set_text(s, 0.0, flags=flags)\n",
      "/home/webson/Research/congressional_adversary/torch1.5/lib/python3.7/site-packages/matplotlib/backends/backend_agg.py:183: RuntimeWarning: Glyph 146 missing from current font.\n",
      "  font.set_text(s, 0, flags=flags)\n",
      "/home/webson/Research/congressional_adversary/torch1.5/lib/python3.7/site-packages/matplotlib/backends/backend_agg.py:214: RuntimeWarning: Glyph 146 missing from current font.\n",
      "  font.set_text(s, 0.0, flags=flags)\n",
      "/home/webson/Research/congressional_adversary/torch1.5/lib/python3.7/site-packages/matplotlib/backends/backend_agg.py:183: RuntimeWarning: Glyph 146 missing from current font.\n",
      "  font.set_text(s, 0, flags=flags)\n",
      "/home/webson/Research/congressional_adversary/torch1.5/lib/python3.7/site-packages/matplotlib/backends/backend_agg.py:214: RuntimeWarning: Glyph 146 missing from current font.\n",
      "  font.set_text(s, 0.0, flags=flags)\n",
      "/home/webson/Research/congressional_adversary/torch1.5/lib/python3.7/site-packages/matplotlib/backends/backend_agg.py:183: RuntimeWarning: Glyph 146 missing from current font.\n",
      "  font.set_text(s, 0, flags=flags)\n",
      "/home/webson/Research/congressional_adversary/torch1.5/lib/python3.7/site-packages/matplotlib/backends/backend_agg.py:214: RuntimeWarning: Glyph 146 missing from current font.\n",
      "  font.set_text(s, 0.0, flags=flags)\n",
      "/home/webson/Research/congressional_adversary/torch1.5/lib/python3.7/site-packages/matplotlib/backends/backend_agg.py:183: RuntimeWarning: Glyph 146 missing from current font.\n",
      "  font.set_text(s, 0, flags=flags)\n",
      "/home/webson/Research/congressional_adversary/torch1.5/lib/python3.7/site-packages/matplotlib/backends/backend_agg.py:214: RuntimeWarning: Glyph 146 missing from current font.\n",
      "  font.set_text(s, 0.0, flags=flags)\n",
      "/home/webson/Research/congressional_adversary/torch1.5/lib/python3.7/site-packages/matplotlib/backends/backend_agg.py:183: RuntimeWarning: Glyph 146 missing from current font.\n",
      "  font.set_text(s, 0, flags=flags)\n",
      "/home/webson/Research/congressional_adversary/torch1.5/lib/python3.7/site-packages/matplotlib/backends/backend_agg.py:214: RuntimeWarning: Glyph 146 missing from current font.\n",
      "  font.set_text(s, 0.0, flags=flags)\n",
      "/home/webson/Research/congressional_adversary/torch1.5/lib/python3.7/site-packages/matplotlib/backends/backend_agg.py:183: RuntimeWarning: Glyph 146 missing from current font.\n",
      "  font.set_text(s, 0, flags=flags)\n"
     ]
    },
    {
     "name": "stdout",
     "output_type": "stream",
     "text": [
      "\n"
     ]
    },
    {
     "data": {
      "application/vnd.jupyter.widget-view+json": {
       "model_id": "4eb84087d5734f3a83a035d8e3fb555b",
       "version_major": 2,
       "version_minor": 0
      },
      "text/plain": [
       "HBox(children=(FloatProgress(value=0.0, max=8.0), HTML(value='')))"
      ]
     },
     "metadata": {},
     "output_type": "display_data"
    },
    {
     "name": "stderr",
     "output_type": "stream",
     "text": [
      "/home/webson/Research/congressional_adversary/torch1.5/lib/python3.7/site-packages/matplotlib/backends/backend_agg.py:214: RuntimeWarning: Glyph 146 missing from current font.\n",
      "  font.set_text(s, 0.0, flags=flags)\n",
      "/home/webson/Research/congressional_adversary/torch1.5/lib/python3.7/site-packages/matplotlib/backends/backend_agg.py:183: RuntimeWarning: Glyph 146 missing from current font.\n",
      "  font.set_text(s, 0, flags=flags)\n",
      "/home/webson/Research/congressional_adversary/torch1.5/lib/python3.7/site-packages/matplotlib/backends/backend_agg.py:214: RuntimeWarning: Glyph 146 missing from current font.\n",
      "  font.set_text(s, 0.0, flags=flags)\n",
      "/home/webson/Research/congressional_adversary/torch1.5/lib/python3.7/site-packages/matplotlib/backends/backend_agg.py:183: RuntimeWarning: Glyph 146 missing from current font.\n",
      "  font.set_text(s, 0, flags=flags)\n",
      "/home/webson/Research/congressional_adversary/torch1.5/lib/python3.7/site-packages/matplotlib/backends/backend_agg.py:214: RuntimeWarning: Glyph 146 missing from current font.\n",
      "  font.set_text(s, 0.0, flags=flags)\n",
      "/home/webson/Research/congressional_adversary/torch1.5/lib/python3.7/site-packages/matplotlib/backends/backend_agg.py:183: RuntimeWarning: Glyph 146 missing from current font.\n",
      "  font.set_text(s, 0, flags=flags)\n",
      "/home/webson/Research/congressional_adversary/torch1.5/lib/python3.7/site-packages/matplotlib/backends/backend_agg.py:214: RuntimeWarning: Glyph 146 missing from current font.\n",
      "  font.set_text(s, 0.0, flags=flags)\n",
      "/home/webson/Research/congressional_adversary/torch1.5/lib/python3.7/site-packages/matplotlib/backends/backend_agg.py:183: RuntimeWarning: Glyph 146 missing from current font.\n",
      "  font.set_text(s, 0, flags=flags)\n",
      "/home/webson/Research/congressional_adversary/torch1.5/lib/python3.7/site-packages/matplotlib/backends/backend_agg.py:214: RuntimeWarning: Glyph 146 missing from current font.\n",
      "  font.set_text(s, 0.0, flags=flags)\n",
      "/home/webson/Research/congressional_adversary/torch1.5/lib/python3.7/site-packages/matplotlib/backends/backend_agg.py:183: RuntimeWarning: Glyph 146 missing from current font.\n",
      "  font.set_text(s, 0, flags=flags)\n",
      "/home/webson/Research/congressional_adversary/torch1.5/lib/python3.7/site-packages/matplotlib/backends/backend_agg.py:214: RuntimeWarning: Glyph 146 missing from current font.\n",
      "  font.set_text(s, 0.0, flags=flags)\n",
      "/home/webson/Research/congressional_adversary/torch1.5/lib/python3.7/site-packages/matplotlib/backends/backend_agg.py:183: RuntimeWarning: Glyph 146 missing from current font.\n",
      "  font.set_text(s, 0, flags=flags)\n",
      "/home/webson/Research/congressional_adversary/torch1.5/lib/python3.7/site-packages/matplotlib/backends/backend_agg.py:214: RuntimeWarning: Glyph 146 missing from current font.\n",
      "  font.set_text(s, 0.0, flags=flags)\n",
      "/home/webson/Research/congressional_adversary/torch1.5/lib/python3.7/site-packages/matplotlib/backends/backend_agg.py:183: RuntimeWarning: Glyph 146 missing from current font.\n",
      "  font.set_text(s, 0, flags=flags)\n",
      "/home/webson/Research/congressional_adversary/torch1.5/lib/python3.7/site-packages/matplotlib/backends/backend_agg.py:214: RuntimeWarning: Glyph 146 missing from current font.\n",
      "  font.set_text(s, 0.0, flags=flags)\n",
      "/home/webson/Research/congressional_adversary/torch1.5/lib/python3.7/site-packages/matplotlib/backends/backend_agg.py:183: RuntimeWarning: Glyph 146 missing from current font.\n",
      "  font.set_text(s, 0, flags=flags)\n"
     ]
    },
    {
     "name": "stdout",
     "output_type": "stream",
     "text": [
      "\n"
     ]
    },
    {
     "data": {
      "application/vnd.jupyter.widget-view+json": {
       "model_id": "99857a7d6cad4e0abf4c1165544cc7f3",
       "version_major": 2,
       "version_minor": 0
      },
      "text/plain": [
       "HBox(children=(FloatProgress(value=0.0, max=8.0), HTML(value='')))"
      ]
     },
     "metadata": {},
     "output_type": "display_data"
    },
    {
     "name": "stderr",
     "output_type": "stream",
     "text": [
      "/home/webson/Research/congressional_adversary/torch1.5/lib/python3.7/site-packages/matplotlib/backends/backend_agg.py:214: RuntimeWarning: Glyph 146 missing from current font.\n",
      "  font.set_text(s, 0.0, flags=flags)\n",
      "/home/webson/Research/congressional_adversary/torch1.5/lib/python3.7/site-packages/matplotlib/backends/backend_agg.py:183: RuntimeWarning: Glyph 146 missing from current font.\n",
      "  font.set_text(s, 0, flags=flags)\n",
      "/home/webson/Research/congressional_adversary/torch1.5/lib/python3.7/site-packages/matplotlib/backends/backend_agg.py:214: RuntimeWarning: Glyph 146 missing from current font.\n",
      "  font.set_text(s, 0.0, flags=flags)\n",
      "/home/webson/Research/congressional_adversary/torch1.5/lib/python3.7/site-packages/matplotlib/backends/backend_agg.py:183: RuntimeWarning: Glyph 146 missing from current font.\n",
      "  font.set_text(s, 0, flags=flags)\n",
      "/home/webson/Research/congressional_adversary/torch1.5/lib/python3.7/site-packages/matplotlib/backends/backend_agg.py:214: RuntimeWarning: Glyph 146 missing from current font.\n",
      "  font.set_text(s, 0.0, flags=flags)\n",
      "/home/webson/Research/congressional_adversary/torch1.5/lib/python3.7/site-packages/matplotlib/backends/backend_agg.py:183: RuntimeWarning: Glyph 146 missing from current font.\n",
      "  font.set_text(s, 0, flags=flags)\n",
      "/home/webson/Research/congressional_adversary/torch1.5/lib/python3.7/site-packages/matplotlib/backends/backend_agg.py:214: RuntimeWarning: Glyph 146 missing from current font.\n",
      "  font.set_text(s, 0.0, flags=flags)\n",
      "/home/webson/Research/congressional_adversary/torch1.5/lib/python3.7/site-packages/matplotlib/backends/backend_agg.py:183: RuntimeWarning: Glyph 146 missing from current font.\n",
      "  font.set_text(s, 0, flags=flags)\n",
      "/home/webson/Research/congressional_adversary/torch1.5/lib/python3.7/site-packages/matplotlib/backends/backend_agg.py:214: RuntimeWarning: Glyph 146 missing from current font.\n",
      "  font.set_text(s, 0.0, flags=flags)\n",
      "/home/webson/Research/congressional_adversary/torch1.5/lib/python3.7/site-packages/matplotlib/backends/backend_agg.py:183: RuntimeWarning: Glyph 146 missing from current font.\n",
      "  font.set_text(s, 0, flags=flags)\n",
      "/home/webson/Research/congressional_adversary/torch1.5/lib/python3.7/site-packages/matplotlib/backends/backend_agg.py:214: RuntimeWarning: Glyph 146 missing from current font.\n",
      "  font.set_text(s, 0.0, flags=flags)\n",
      "/home/webson/Research/congressional_adversary/torch1.5/lib/python3.7/site-packages/matplotlib/backends/backend_agg.py:183: RuntimeWarning: Glyph 146 missing from current font.\n",
      "  font.set_text(s, 0, flags=flags)\n",
      "/home/webson/Research/congressional_adversary/torch1.5/lib/python3.7/site-packages/matplotlib/backends/backend_agg.py:214: RuntimeWarning: Glyph 146 missing from current font.\n",
      "  font.set_text(s, 0.0, flags=flags)\n",
      "/home/webson/Research/congressional_adversary/torch1.5/lib/python3.7/site-packages/matplotlib/backends/backend_agg.py:183: RuntimeWarning: Glyph 146 missing from current font.\n",
      "  font.set_text(s, 0, flags=flags)\n",
      "/home/webson/Research/congressional_adversary/torch1.5/lib/python3.7/site-packages/matplotlib/backends/backend_agg.py:214: RuntimeWarning: Glyph 146 missing from current font.\n",
      "  font.set_text(s, 0.0, flags=flags)\n",
      "/home/webson/Research/congressional_adversary/torch1.5/lib/python3.7/site-packages/matplotlib/backends/backend_agg.py:183: RuntimeWarning: Glyph 146 missing from current font.\n",
      "  font.set_text(s, 0, flags=flags)\n"
     ]
    },
    {
     "name": "stdout",
     "output_type": "stream",
     "text": [
      "\n",
      "\n"
     ]
    }
   ],
   "source": [
    "models = deno_space\n",
    "grounded_words = test_words\n",
    "\n",
    "for perplexity in tqdm((5, 10, 30, 200)):  # (2, 3, 5, 25)\n",
    "    graph_en_masse(\n",
    "        models, out_dir=base_dir / f'test/deno_space/t-SNE p{perplexity}',\n",
    "        reduction='TSNE', perplexity=perplexity, words=grounded_words)"
   ]
  },
  {
   "cell_type": "code",
   "execution_count": null,
   "metadata": {},
   "outputs": [],
   "source": [
    "models = deno_space\n",
    "grounded_words = rand_words\n",
    "\n",
    "for perplexity in tqdm((5, 10, 30, 200)):  # (2, 3, 5, 25)\n",
    "    graph_en_masse(\n",
    "        models, out_dir=base_dir / f'rand/deno_space/t-SNE p{perplexity}',\n",
    "        reduction='TSNE', perplexity=perplexity, words=grounded_words)"
   ]
  },
  {
   "cell_type": "markdown",
   "metadata": {},
   "source": [
    "# Connotation Space"
   ]
  },
  {
   "cell_type": "code",
   "execution_count": 7,
   "metadata": {},
   "outputs": [
    {
     "data": {
      "application/vnd.jupyter.widget-view+json": {
       "model_id": "218f394840cf451b8054c5af07d57e70",
       "version_major": 2,
       "version_minor": 0
      },
      "text/plain": [
       "HBox(children=(FloatProgress(value=0.0, max=4.0), HTML(value='')))"
      ]
     },
     "metadata": {},
     "output_type": "display_data"
    },
    {
     "data": {
      "application/vnd.jupyter.widget-view+json": {
       "model_id": "4c4634b8b16c42e5b1955f6368464475",
       "version_major": 2,
       "version_minor": 0
      },
      "text/plain": [
       "HBox(children=(FloatProgress(value=0.0, max=8.0), HTML(value='')))"
      ]
     },
     "metadata": {},
     "output_type": "display_data"
    },
    {
     "name": "stderr",
     "output_type": "stream",
     "text": [
      "/home/webson/Research/congressional_adversary/torch1.5/lib/python3.7/site-packages/matplotlib/backends/backend_agg.py:214: RuntimeWarning: Glyph 146 missing from current font.\n",
      "  font.set_text(s, 0.0, flags=flags)\n",
      "/home/webson/Research/congressional_adversary/torch1.5/lib/python3.7/site-packages/matplotlib/backends/backend_agg.py:183: RuntimeWarning: Glyph 146 missing from current font.\n",
      "  font.set_text(s, 0, flags=flags)\n",
      "/home/webson/Research/congressional_adversary/torch1.5/lib/python3.7/site-packages/matplotlib/backends/backend_agg.py:214: RuntimeWarning: Glyph 146 missing from current font.\n",
      "  font.set_text(s, 0.0, flags=flags)\n",
      "/home/webson/Research/congressional_adversary/torch1.5/lib/python3.7/site-packages/matplotlib/backends/backend_agg.py:183: RuntimeWarning: Glyph 146 missing from current font.\n",
      "  font.set_text(s, 0, flags=flags)\n",
      "/home/webson/Research/congressional_adversary/torch1.5/lib/python3.7/site-packages/matplotlib/backends/backend_agg.py:214: RuntimeWarning: Glyph 146 missing from current font.\n",
      "  font.set_text(s, 0.0, flags=flags)\n",
      "/home/webson/Research/congressional_adversary/torch1.5/lib/python3.7/site-packages/matplotlib/backends/backend_agg.py:183: RuntimeWarning: Glyph 146 missing from current font.\n",
      "  font.set_text(s, 0, flags=flags)\n",
      "/home/webson/Research/congressional_adversary/torch1.5/lib/python3.7/site-packages/matplotlib/backends/backend_agg.py:214: RuntimeWarning: Glyph 146 missing from current font.\n",
      "  font.set_text(s, 0.0, flags=flags)\n",
      "/home/webson/Research/congressional_adversary/torch1.5/lib/python3.7/site-packages/matplotlib/backends/backend_agg.py:183: RuntimeWarning: Glyph 146 missing from current font.\n",
      "  font.set_text(s, 0, flags=flags)\n",
      "/home/webson/Research/congressional_adversary/torch1.5/lib/python3.7/site-packages/matplotlib/backends/backend_agg.py:214: RuntimeWarning: Glyph 146 missing from current font.\n",
      "  font.set_text(s, 0.0, flags=flags)\n",
      "/home/webson/Research/congressional_adversary/torch1.5/lib/python3.7/site-packages/matplotlib/backends/backend_agg.py:183: RuntimeWarning: Glyph 146 missing from current font.\n",
      "  font.set_text(s, 0, flags=flags)\n",
      "/home/webson/Research/congressional_adversary/torch1.5/lib/python3.7/site-packages/matplotlib/backends/backend_agg.py:214: RuntimeWarning: Glyph 146 missing from current font.\n",
      "  font.set_text(s, 0.0, flags=flags)\n",
      "/home/webson/Research/congressional_adversary/torch1.5/lib/python3.7/site-packages/matplotlib/backends/backend_agg.py:183: RuntimeWarning: Glyph 146 missing from current font.\n",
      "  font.set_text(s, 0, flags=flags)\n",
      "/home/webson/Research/congressional_adversary/torch1.5/lib/python3.7/site-packages/matplotlib/backends/backend_agg.py:214: RuntimeWarning: Glyph 146 missing from current font.\n",
      "  font.set_text(s, 0.0, flags=flags)\n",
      "/home/webson/Research/congressional_adversary/torch1.5/lib/python3.7/site-packages/matplotlib/backends/backend_agg.py:183: RuntimeWarning: Glyph 146 missing from current font.\n",
      "  font.set_text(s, 0, flags=flags)\n",
      "/home/webson/Research/congressional_adversary/torch1.5/lib/python3.7/site-packages/matplotlib/backends/backend_agg.py:214: RuntimeWarning: Glyph 146 missing from current font.\n",
      "  font.set_text(s, 0.0, flags=flags)\n",
      "/home/webson/Research/congressional_adversary/torch1.5/lib/python3.7/site-packages/matplotlib/backends/backend_agg.py:183: RuntimeWarning: Glyph 146 missing from current font.\n",
      "  font.set_text(s, 0, flags=flags)\n"
     ]
    },
    {
     "name": "stdout",
     "output_type": "stream",
     "text": [
      "\n"
     ]
    },
    {
     "data": {
      "application/vnd.jupyter.widget-view+json": {
       "model_id": "456b1c1cafcc4b688dc89da51501da5d",
       "version_major": 2,
       "version_minor": 0
      },
      "text/plain": [
       "HBox(children=(FloatProgress(value=0.0, max=8.0), HTML(value='')))"
      ]
     },
     "metadata": {},
     "output_type": "display_data"
    },
    {
     "name": "stderr",
     "output_type": "stream",
     "text": [
      "/home/webson/Research/congressional_adversary/torch1.5/lib/python3.7/site-packages/matplotlib/backends/backend_agg.py:214: RuntimeWarning: Glyph 146 missing from current font.\n",
      "  font.set_text(s, 0.0, flags=flags)\n",
      "/home/webson/Research/congressional_adversary/torch1.5/lib/python3.7/site-packages/matplotlib/backends/backend_agg.py:183: RuntimeWarning: Glyph 146 missing from current font.\n",
      "  font.set_text(s, 0, flags=flags)\n",
      "/home/webson/Research/congressional_adversary/torch1.5/lib/python3.7/site-packages/matplotlib/backends/backend_agg.py:214: RuntimeWarning: Glyph 146 missing from current font.\n",
      "  font.set_text(s, 0.0, flags=flags)\n",
      "/home/webson/Research/congressional_adversary/torch1.5/lib/python3.7/site-packages/matplotlib/backends/backend_agg.py:183: RuntimeWarning: Glyph 146 missing from current font.\n",
      "  font.set_text(s, 0, flags=flags)\n",
      "/home/webson/Research/congressional_adversary/torch1.5/lib/python3.7/site-packages/matplotlib/backends/backend_agg.py:214: RuntimeWarning: Glyph 146 missing from current font.\n",
      "  font.set_text(s, 0.0, flags=flags)\n",
      "/home/webson/Research/congressional_adversary/torch1.5/lib/python3.7/site-packages/matplotlib/backends/backend_agg.py:183: RuntimeWarning: Glyph 146 missing from current font.\n",
      "  font.set_text(s, 0, flags=flags)\n",
      "/home/webson/Research/congressional_adversary/torch1.5/lib/python3.7/site-packages/matplotlib/backends/backend_agg.py:214: RuntimeWarning: Glyph 146 missing from current font.\n",
      "  font.set_text(s, 0.0, flags=flags)\n",
      "/home/webson/Research/congressional_adversary/torch1.5/lib/python3.7/site-packages/matplotlib/backends/backend_agg.py:183: RuntimeWarning: Glyph 146 missing from current font.\n",
      "  font.set_text(s, 0, flags=flags)\n",
      "/home/webson/Research/congressional_adversary/torch1.5/lib/python3.7/site-packages/matplotlib/backends/backend_agg.py:214: RuntimeWarning: Glyph 146 missing from current font.\n",
      "  font.set_text(s, 0.0, flags=flags)\n",
      "/home/webson/Research/congressional_adversary/torch1.5/lib/python3.7/site-packages/matplotlib/backends/backend_agg.py:183: RuntimeWarning: Glyph 146 missing from current font.\n",
      "  font.set_text(s, 0, flags=flags)\n",
      "/home/webson/Research/congressional_adversary/torch1.5/lib/python3.7/site-packages/matplotlib/backends/backend_agg.py:214: RuntimeWarning: Glyph 146 missing from current font.\n",
      "  font.set_text(s, 0.0, flags=flags)\n",
      "/home/webson/Research/congressional_adversary/torch1.5/lib/python3.7/site-packages/matplotlib/backends/backend_agg.py:183: RuntimeWarning: Glyph 146 missing from current font.\n",
      "  font.set_text(s, 0, flags=flags)\n",
      "/home/webson/Research/congressional_adversary/torch1.5/lib/python3.7/site-packages/matplotlib/backends/backend_agg.py:214: RuntimeWarning: Glyph 146 missing from current font.\n",
      "  font.set_text(s, 0.0, flags=flags)\n",
      "/home/webson/Research/congressional_adversary/torch1.5/lib/python3.7/site-packages/matplotlib/backends/backend_agg.py:183: RuntimeWarning: Glyph 146 missing from current font.\n",
      "  font.set_text(s, 0, flags=flags)\n",
      "/home/webson/Research/congressional_adversary/torch1.5/lib/python3.7/site-packages/matplotlib/backends/backend_agg.py:214: RuntimeWarning: Glyph 146 missing from current font.\n",
      "  font.set_text(s, 0.0, flags=flags)\n",
      "/home/webson/Research/congressional_adversary/torch1.5/lib/python3.7/site-packages/matplotlib/backends/backend_agg.py:183: RuntimeWarning: Glyph 146 missing from current font.\n",
      "  font.set_text(s, 0, flags=flags)\n"
     ]
    },
    {
     "name": "stdout",
     "output_type": "stream",
     "text": [
      "\n"
     ]
    },
    {
     "data": {
      "application/vnd.jupyter.widget-view+json": {
       "model_id": "ad92e8a6f33c4d7a90b34d4853909467",
       "version_major": 2,
       "version_minor": 0
      },
      "text/plain": [
       "HBox(children=(FloatProgress(value=0.0, max=8.0), HTML(value='')))"
      ]
     },
     "metadata": {},
     "output_type": "display_data"
    },
    {
     "name": "stderr",
     "output_type": "stream",
     "text": [
      "/home/webson/Research/congressional_adversary/torch1.5/lib/python3.7/site-packages/matplotlib/backends/backend_agg.py:214: RuntimeWarning: Glyph 146 missing from current font.\n",
      "  font.set_text(s, 0.0, flags=flags)\n",
      "/home/webson/Research/congressional_adversary/torch1.5/lib/python3.7/site-packages/matplotlib/backends/backend_agg.py:183: RuntimeWarning: Glyph 146 missing from current font.\n",
      "  font.set_text(s, 0, flags=flags)\n",
      "/home/webson/Research/congressional_adversary/torch1.5/lib/python3.7/site-packages/matplotlib/backends/backend_agg.py:214: RuntimeWarning: Glyph 146 missing from current font.\n",
      "  font.set_text(s, 0.0, flags=flags)\n",
      "/home/webson/Research/congressional_adversary/torch1.5/lib/python3.7/site-packages/matplotlib/backends/backend_agg.py:183: RuntimeWarning: Glyph 146 missing from current font.\n",
      "  font.set_text(s, 0, flags=flags)\n",
      "/home/webson/Research/congressional_adversary/torch1.5/lib/python3.7/site-packages/matplotlib/backends/backend_agg.py:214: RuntimeWarning: Glyph 146 missing from current font.\n",
      "  font.set_text(s, 0.0, flags=flags)\n",
      "/home/webson/Research/congressional_adversary/torch1.5/lib/python3.7/site-packages/matplotlib/backends/backend_agg.py:183: RuntimeWarning: Glyph 146 missing from current font.\n",
      "  font.set_text(s, 0, flags=flags)\n",
      "/home/webson/Research/congressional_adversary/torch1.5/lib/python3.7/site-packages/matplotlib/backends/backend_agg.py:214: RuntimeWarning: Glyph 146 missing from current font.\n",
      "  font.set_text(s, 0.0, flags=flags)\n",
      "/home/webson/Research/congressional_adversary/torch1.5/lib/python3.7/site-packages/matplotlib/backends/backend_agg.py:183: RuntimeWarning: Glyph 146 missing from current font.\n",
      "  font.set_text(s, 0, flags=flags)\n",
      "/home/webson/Research/congressional_adversary/torch1.5/lib/python3.7/site-packages/matplotlib/backends/backend_agg.py:214: RuntimeWarning: Glyph 146 missing from current font.\n",
      "  font.set_text(s, 0.0, flags=flags)\n",
      "/home/webson/Research/congressional_adversary/torch1.5/lib/python3.7/site-packages/matplotlib/backends/backend_agg.py:183: RuntimeWarning: Glyph 146 missing from current font.\n",
      "  font.set_text(s, 0, flags=flags)\n",
      "/home/webson/Research/congressional_adversary/torch1.5/lib/python3.7/site-packages/matplotlib/backends/backend_agg.py:214: RuntimeWarning: Glyph 146 missing from current font.\n",
      "  font.set_text(s, 0.0, flags=flags)\n",
      "/home/webson/Research/congressional_adversary/torch1.5/lib/python3.7/site-packages/matplotlib/backends/backend_agg.py:183: RuntimeWarning: Glyph 146 missing from current font.\n",
      "  font.set_text(s, 0, flags=flags)\n",
      "/home/webson/Research/congressional_adversary/torch1.5/lib/python3.7/site-packages/matplotlib/backends/backend_agg.py:214: RuntimeWarning: Glyph 146 missing from current font.\n",
      "  font.set_text(s, 0.0, flags=flags)\n",
      "/home/webson/Research/congressional_adversary/torch1.5/lib/python3.7/site-packages/matplotlib/backends/backend_agg.py:183: RuntimeWarning: Glyph 146 missing from current font.\n",
      "  font.set_text(s, 0, flags=flags)\n",
      "/home/webson/Research/congressional_adversary/torch1.5/lib/python3.7/site-packages/matplotlib/backends/backend_agg.py:214: RuntimeWarning: Glyph 146 missing from current font.\n",
      "  font.set_text(s, 0.0, flags=flags)\n",
      "/home/webson/Research/congressional_adversary/torch1.5/lib/python3.7/site-packages/matplotlib/backends/backend_agg.py:183: RuntimeWarning: Glyph 146 missing from current font.\n",
      "  font.set_text(s, 0, flags=flags)\n"
     ]
    },
    {
     "name": "stdout",
     "output_type": "stream",
     "text": [
      "\n"
     ]
    },
    {
     "data": {
      "application/vnd.jupyter.widget-view+json": {
       "model_id": "ed4598a349d8456bb2d4425ef42bb62d",
       "version_major": 2,
       "version_minor": 0
      },
      "text/plain": [
       "HBox(children=(FloatProgress(value=0.0, max=8.0), HTML(value='')))"
      ]
     },
     "metadata": {},
     "output_type": "display_data"
    },
    {
     "name": "stderr",
     "output_type": "stream",
     "text": [
      "/home/webson/Research/congressional_adversary/torch1.5/lib/python3.7/site-packages/matplotlib/backends/backend_agg.py:214: RuntimeWarning: Glyph 146 missing from current font.\n",
      "  font.set_text(s, 0.0, flags=flags)\n",
      "/home/webson/Research/congressional_adversary/torch1.5/lib/python3.7/site-packages/matplotlib/backends/backend_agg.py:183: RuntimeWarning: Glyph 146 missing from current font.\n",
      "  font.set_text(s, 0, flags=flags)\n",
      "/home/webson/Research/congressional_adversary/torch1.5/lib/python3.7/site-packages/matplotlib/backends/backend_agg.py:214: RuntimeWarning: Glyph 146 missing from current font.\n",
      "  font.set_text(s, 0.0, flags=flags)\n",
      "/home/webson/Research/congressional_adversary/torch1.5/lib/python3.7/site-packages/matplotlib/backends/backend_agg.py:183: RuntimeWarning: Glyph 146 missing from current font.\n",
      "  font.set_text(s, 0, flags=flags)\n",
      "/home/webson/Research/congressional_adversary/torch1.5/lib/python3.7/site-packages/matplotlib/backends/backend_agg.py:214: RuntimeWarning: Glyph 146 missing from current font.\n",
      "  font.set_text(s, 0.0, flags=flags)\n",
      "/home/webson/Research/congressional_adversary/torch1.5/lib/python3.7/site-packages/matplotlib/backends/backend_agg.py:183: RuntimeWarning: Glyph 146 missing from current font.\n",
      "  font.set_text(s, 0, flags=flags)\n",
      "/home/webson/Research/congressional_adversary/torch1.5/lib/python3.7/site-packages/matplotlib/backends/backend_agg.py:214: RuntimeWarning: Glyph 146 missing from current font.\n",
      "  font.set_text(s, 0.0, flags=flags)\n",
      "/home/webson/Research/congressional_adversary/torch1.5/lib/python3.7/site-packages/matplotlib/backends/backend_agg.py:183: RuntimeWarning: Glyph 146 missing from current font.\n",
      "  font.set_text(s, 0, flags=flags)\n",
      "/home/webson/Research/congressional_adversary/torch1.5/lib/python3.7/site-packages/matplotlib/backends/backend_agg.py:214: RuntimeWarning: Glyph 146 missing from current font.\n",
      "  font.set_text(s, 0.0, flags=flags)\n",
      "/home/webson/Research/congressional_adversary/torch1.5/lib/python3.7/site-packages/matplotlib/backends/backend_agg.py:183: RuntimeWarning: Glyph 146 missing from current font.\n",
      "  font.set_text(s, 0, flags=flags)\n",
      "/home/webson/Research/congressional_adversary/torch1.5/lib/python3.7/site-packages/matplotlib/backends/backend_agg.py:214: RuntimeWarning: Glyph 146 missing from current font.\n",
      "  font.set_text(s, 0.0, flags=flags)\n",
      "/home/webson/Research/congressional_adversary/torch1.5/lib/python3.7/site-packages/matplotlib/backends/backend_agg.py:183: RuntimeWarning: Glyph 146 missing from current font.\n",
      "  font.set_text(s, 0, flags=flags)\n",
      "/home/webson/Research/congressional_adversary/torch1.5/lib/python3.7/site-packages/matplotlib/backends/backend_agg.py:214: RuntimeWarning: Glyph 146 missing from current font.\n",
      "  font.set_text(s, 0.0, flags=flags)\n",
      "/home/webson/Research/congressional_adversary/torch1.5/lib/python3.7/site-packages/matplotlib/backends/backend_agg.py:183: RuntimeWarning: Glyph 146 missing from current font.\n",
      "  font.set_text(s, 0, flags=flags)\n",
      "/home/webson/Research/congressional_adversary/torch1.5/lib/python3.7/site-packages/matplotlib/backends/backend_agg.py:214: RuntimeWarning: Glyph 146 missing from current font.\n",
      "  font.set_text(s, 0.0, flags=flags)\n",
      "/home/webson/Research/congressional_adversary/torch1.5/lib/python3.7/site-packages/matplotlib/backends/backend_agg.py:183: RuntimeWarning: Glyph 146 missing from current font.\n",
      "  font.set_text(s, 0, flags=flags)\n"
     ]
    },
    {
     "name": "stdout",
     "output_type": "stream",
     "text": [
      "\n",
      "\n"
     ]
    }
   ],
   "source": [
    "models = cono_space\n",
    "grounded_words = test_words\n",
    "\n",
    "for perplexity in tqdm((5, 10, 50, 200)):  # (25, 3, 2)\n",
    "    graph_en_masse(\n",
    "        models, out_dir=base_dir / f'test/cono_space/t-SNE p{perplexity}',\n",
    "        reduction='TSNE', perplexity=perplexity, words=grounded_words)"
   ]
  },
  {
   "cell_type": "code",
   "execution_count": null,
   "metadata": {},
   "outputs": [],
   "source": [
    "# models = deno_space\n",
    "# grounded_words = cherry_words\n",
    "\n",
    "# graph_en_masse(\n",
    "#     models, out_dir=base_dir / 'test_cherry/deno_space/t-SNE p5',\n",
    "#     reduction='TSNE', perplexity=5, words=grounded_words)\n",
    "# graph_en_masse(\n",
    "#     models, out_dir=base_dir / 'test_cherry/deno_space/t-SNE p3',\n",
    "#     reduction='TSNE', perplexity=3, words=grounded_words)\n",
    "# graph_en_masse(\n",
    "#     models, out_dir=base_dir / 'test_cherry/deno_space/t-SNE p2',\n",
    "#     reduction='TSNE', perplexity=2, words=grounded_words)"
   ]
  }
 ],
 "metadata": {
  "kernelspec": {
   "display_name": "Python 3",
   "language": "python",
   "name": "python3"
  },
  "language_info": {
   "codemirror_mode": {
    "name": "ipython",
    "version": 3
   },
   "file_extension": ".py",
   "mimetype": "text/x-python",
   "name": "python",
   "nbconvert_exporter": "python",
   "pygments_lexer": "ipython3",
   "version": "3.7.5"
  }
 },
 "nbformat": 4,
 "nbformat_minor": 2
}
