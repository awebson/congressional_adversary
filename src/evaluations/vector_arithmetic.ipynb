{
 "cells": [
  {
   "cell_type": "code",
   "execution_count": 1,
   "metadata": {},
   "outputs": [
    {
     "name": "stdout",
     "output_type": "stream",
     "text": [
      "Loading vocabulary from /home/webson/Research/congressional_adversary/results/pretrained subset/init.pt\n"
     ]
    },
    {
     "name": "stderr",
     "output_type": "stream",
     "text": [
      "/home/webson/Research/congressional_adversary/congressional_env/lib/python3.7/site-packages/torch/serialization.py:593: SourceChangeWarning: source code of class 'decomposer.Decomposer' has changed. you can retrieve the original source code by accessing the object's source attribute or set `torch.nn.Module.dump_patches = True` and use the patch tool to revert the changes.\n",
      "  warnings.warn(msg, SourceChangeWarning)\n"
     ]
    },
    {
     "name": "stdout",
     "output_type": "stream",
     "text": [
      "628 capitalists\n",
      "1129 socialists\n"
     ]
    }
   ],
   "source": [
    "from pathlib import Path\n",
    "from decomposer import Decomposer, DecomposerConfig\n",
    "from recomposer import Recomposer, RecomposerConfig\n",
    "from evaluations.helpers import load_recomposer, vec, cf_cos_sim, tabulate_cos_sim, GD\n",
    "from evaluations.helpers import nearest_neighbors as nn"
   ]
  },
  {
   "cell_type": "code",
   "execution_count": 2,
   "metadata": {},
   "outputs": [],
   "source": [
    "base_dir = Path('../../results/sans recomposer')  \n",
    "deno_pick = base_dir / 'Dd3.0 Dg-3.9 Cd-9.1 Cg2.0 R0.0 dp0.20/epoch100.pt'\n",
    "cono_pick = base_dir / 'Dd1.9 Dg-2.5 Cd-2.7 Cg6.0 R0.0 dp0.09/epoch10.pt'\n",
    "\n",
    "# base_dir = Path('../../results/recomposer')  \n",
    "# deno_pick = base_dir / 'Dd4.1 Dg-7.0 Cd-9.9 Cg5.1 R26.7 dp0.13/epoch100.pt'\n",
    "# cono_pick = base_dir / 'Dd1.9 Dg-2.5 Cd-2.7 Cg6.0 R16.2 dp0.09/epoch10.pt'\n",
    "\n",
    "# # sort by absolute\n",
    "# base_dir = Path('../../results/recomposer')  \n",
    "# deno_pick = base_dir / 'Dd4.0 Dg-5.2 Cd-6.8 Cg1.1 R19.1 dp0.26/epoch10.pt'\n",
    "# cono_pick = base_dir / 'Dd1.9 Dg-2.5 Cd-2.7 Cg6.0 R16.2 dp0.09/epoch10.pt'\n",
    "\n",
    "deno_embed, _ = load_recomposer(deno_pick)\n",
    "_, cono_embed = load_recomposer(cono_pick)"
   ]
  },
  {
   "cell_type": "code",
   "execution_count": 3,
   "metadata": {},
   "outputs": [],
   "source": [
    "# base_dir = Path('../../results/recomposer')  \n",
    "# deno_pick = base_dir / 'Dd4.1 Dg-7.0 Cd-9.9 Cg5.1 R26.7 dp0.13/epoch100.pt'\n",
    "# deno_embed, cono_embed = load_recomposer(deno_pick)\n",
    "\n",
    "# base_dir = Path('../../results/recomposer')  \n",
    "# deno_pick = base_dir / 'Dd4.1 Dg-7.0 Cd-9.9 Cg5.1 R26.7 dp0.13/epoch100.pt'\n",
    "# cono_pick = base_dir / 'Dd1.9 Dg-2.5 Cd-2.7 Cg6.0 R16.2 dp0.09/epoch10.pt'"
   ]
  },
  {
   "cell_type": "code",
   "execution_count": 4,
   "metadata": {},
   "outputs": [],
   "source": [
    "estate_deno = vec('estate_tax', deno_embed)\n",
    "estate_cono = vec('estate_tax', cono_embed)\n",
    "death_deno = vec('death_tax', deno_embed)\n",
    "death_cono = vec('death_tax', cono_embed)"
   ]
  },
  {
   "cell_type": "code",
   "execution_count": 5,
   "metadata": {},
   "outputs": [
    {
     "name": "stdout",
     "output_type": "stream",
     "text": [
      "1.0000\testate_tax\n",
      "0.5983\tinducted\n",
      "0.5869\ttax_penalty\n",
      "0.5818\tstephanie\n",
      "0.5795\ttax_code\n",
      "0.5762\tslogan\n",
      "0.5708\tlyndon\n",
      "0.5637\tfamily_farms\n",
      "0.5631\tcomplimented\n",
      "0.5609\tdemocratic_substitute\n",
      "0.5599\tcurrent_tax_code\n",
      "\n",
      "0.9893\testate_tax\n",
      "0.5809\tinducted\n",
      "0.5752\tfamily_farms\n",
      "0.5751\ttax_penalty\n",
      "0.5683\ttax_code\n",
      "0.5571\tslogan\n",
      "0.5571\tlyndon\n",
      "0.5565\tdemocratic_substitute\n",
      "0.5565\tstephanie\n",
      "0.5537\tcomplimented\n",
      "0.5504\tfamilyowned\n",
      "\n",
      "0.9785\testate_tax\n",
      "0.5863\ttax_penalty\n",
      "0.5752\ttax_code\n",
      "0.5702\tfamily_farms\n",
      "0.5614\tcomplimented\n",
      "0.5567\tcurrent_tax_code\n",
      "0.5564\toutrageously\n",
      "0.5492\tstephanie\n",
      "0.5491\tfamilyowned\n",
      "0.5479\tinducted\n",
      "0.5421\tsynagogues\n",
      "\n"
     ]
    }
   ],
   "source": [
    "nn(estate_deno, deno_embed)\n",
    "nn(estate_deno + death_cono, deno_embed)\n",
    "nn(estate_deno + death_cono, deno_embed + cono_embed)"
   ]
  },
  {
   "cell_type": "code",
   "execution_count": 6,
   "metadata": {},
   "outputs": [
    {
     "name": "stdout",
     "output_type": "stream",
     "text": [
      "1.0000\tdeath_tax\n",
      "0.9237\testate_taxes\n",
      "0.9176\testates\n",
      "0.9118\tthird_year\n",
      "0.9023\tdemocratic_alternative\n",
      "0.8976\ttax_rate\n",
      "0.8931\ttax_rates\n",
      "0.8860\tdecedents\n",
      "0.8852\testate_tax_relief\n",
      "0.8851\trichest\n",
      "0.8827\tdeath_taxes\n",
      "\n",
      "0.9814\tdeath_tax\n",
      "0.8943\ttax_rate\n",
      "0.8939\testate_taxes\n",
      "0.8893\tthird_year\n",
      "0.8830\ttax_rates\n",
      "0.8802\testates\n",
      "0.8733\tdeath_taxes\n",
      "0.8718\theirs\n",
      "0.8691\tdemocratic_alternative\n",
      "0.8644\testate_tax_relief\n",
      "0.8604\trichest\n",
      "\n",
      "0.9294\tdeath_tax\n",
      "0.9090\testate_taxes\n",
      "0.8937\testates\n",
      "0.8859\tthird_year\n",
      "0.8756\theirs\n",
      "0.8725\testate_tax_relief\n",
      "0.8558\tdemocratic_alternative\n",
      "0.8505\tpayroll_tax\n",
      "0.8488\ttax_rate\n",
      "0.8405\ttax_rates\n",
      "0.8403\tbillion_in_tax\n",
      "\n"
     ]
    }
   ],
   "source": [
    "nn(death_deno, deno_embed)\n",
    "nn(death_deno + estate_cono, deno_embed)\n",
    "nn(death_deno + estate_cono, deno_embed + cono_embed)"
   ]
  },
  {
   "cell_type": "code",
   "execution_count": 7,
   "metadata": {},
   "outputs": [],
   "source": [
    "undoc_deno = vec('undocumented', deno_embed)\n",
    "undoc_cono = vec('undocumented', cono_embed)\n",
    "alien_deno = vec('illegal_aliens', deno_embed)\n",
    "alien_cono = vec('illegal_aliens', cono_embed)"
   ]
  },
  {
   "cell_type": "code",
   "execution_count": 8,
   "metadata": {},
   "outputs": [
    {
     "name": "stdout",
     "output_type": "stream",
     "text": [
      "1.0000\tundocumented\n",
      "0.8356\tellis\n",
      "0.8220\twolf_trap\n",
      "0.8156\tforks\n",
      "0.8149\tangel\n",
      "0.8136\tshenandoah\n",
      "0.8136\tthe_commemorative_works_act\n",
      "0.8004\tlowell\n",
      "0.7972\ttimpanogos\n",
      "0.7959\tspray\n",
      "0.7951\tkarabagh\n",
      "\n",
      "0.9898\tundocumented\n",
      "0.8344\tellis\n",
      "0.8172\twolf_trap\n",
      "0.8103\tthe_commemorative_works_act\n",
      "0.8067\tangel\n",
      "0.8039\tshenandoah\n",
      "0.8036\ttimpanogos\n",
      "0.7993\tforks\n",
      "0.7955\tkarabagh\n",
      "0.7898\tspray\n",
      "0.7892\tlowell\n",
      "\n",
      "0.9872\tundocumented\n",
      "0.8387\tellis\n",
      "0.8239\twolf_trap\n",
      "0.8099\tforks\n",
      "0.8080\tangel\n",
      "0.7993\tthe_commemorative_works_act\n",
      "0.7959\tkarabagh\n",
      "0.7908\tshenandoah\n",
      "0.7823\tchesapeake_bay\n",
      "0.7820\tdepartment_of_justices\n",
      "0.7805\tstew\n",
      "\n"
     ]
    }
   ],
   "source": [
    "nn(undoc_deno, deno_embed)\n",
    "nn(undoc_deno + alien_cono, deno_embed)\n",
    "nn(undoc_deno + alien_cono, deno_embed + cono_embed)"
   ]
  },
  {
   "cell_type": "code",
   "execution_count": 9,
   "metadata": {},
   "outputs": [
    {
     "name": "stdout",
     "output_type": "stream",
     "text": [
      "1.0000\tillegal_aliens\n",
      "0.9105\tvietnamese\n",
      "0.8864\tafghan_people\n",
      "0.8785\tpeople_of_afghanistan\n",
      "0.8785\tdogfighting\n",
      "0.8771\thong_kongs\n",
      "0.8697\tforeign_operations\n",
      "0.8659\tafghans\n",
      "0.8659\tdrug_control\n",
      "0.8650\tcounternarcotics\n",
      "0.8646\tforeign_assistance\n",
      "\n",
      "0.9899\tillegal_aliens\n",
      "0.8883\tvietnamese\n",
      "0.8610\tafghan_people\n",
      "0.8593\thong_kongs\n",
      "0.8563\tpeople_of_afghanistan\n",
      "0.8507\tdogfighting\n",
      "0.8480\tforeign_operations\n",
      "0.8445\tforeign_assistance\n",
      "0.8437\tdrug_control\n",
      "0.8427\tsomalia\n",
      "0.8412\tuganda\n",
      "\n",
      "0.9886\tillegal_aliens\n",
      "0.8640\tdogfighting\n",
      "0.8611\thong_kongs\n",
      "0.8572\tplutonium\n",
      "0.8560\tvietnamese\n",
      "0.8557\tforeign_assistance\n",
      "0.8509\tsomalia\n",
      "0.8488\tcfcs\n",
      "0.8467\tafghans\n",
      "0.8458\tafghan_people\n",
      "0.8454\tforeign_operations\n",
      "\n"
     ]
    }
   ],
   "source": [
    "nn(alien_deno, deno_embed)\n",
    "nn(alien_deno + undoc_cono, deno_embed)\n",
    "nn(alien_deno + undoc_cono, deno_embed + cono_embed)"
   ]
  },
  {
   "cell_type": "code",
   "execution_count": 10,
   "metadata": {},
   "outputs": [],
   "source": [
    "public_deno = vec('public_option', deno_embed)\n",
    "public_cono = vec('public_option', cono_embed)\n",
    "gov_deno = vec('governmentrun', deno_embed)\n",
    "gov_cono = vec('governmentrun', cono_embed)"
   ]
  },
  {
   "cell_type": "code",
   "execution_count": 11,
   "metadata": {},
   "outputs": [
    {
     "name": "stdout",
     "output_type": "stream",
     "text": [
      "1.0000\tpublic_option\n",
      "0.8739\tusuhs\n",
      "0.8569\tprogressive_caucus\n",
      "0.8563\tlucy\n",
      "0.8554\tcorzine\n",
      "0.8514\tthe_patients_bill_of_rights\n",
      "0.8501\tcoburn\n",
      "0.8368\tpardon\n",
      "0.8360\talterations\n",
      "0.8350\tsununu\n",
      "0.8311\tgordon_smith\n",
      "\n",
      "0.8693\tpublic_option\n",
      "0.7651\tusuhs\n",
      "0.7618\tprogressive_caucus\n",
      "0.7423\tthe_patients_bill_of_rights\n",
      "0.7393\tlucy\n",
      "0.7392\tethan\n",
      "0.7312\tcorzine\n",
      "0.7206\tsununu\n",
      "0.7164\tcomprehensive_health_care\n",
      "0.7137\ttexas_law\n",
      "0.7129\tmccainedwardskennedy\n",
      "\n",
      "0.8127\tfran\n",
      "0.8014\tschip_program\n",
      "0.7980\tpardon\n",
      "0.7879\ttripartisan_bill\n",
      "0.7877\ttexas_law\n",
      "0.7847\tmilitary_health_care\n",
      "0.7782\tplanned_parenthood\n",
      "0.7757\thealth_care_bill\n",
      "0.7755\tthe_fletcher_bill\n",
      "0.7741\tright_to_sue\n",
      "0.7640\tcardiac_arrest\n",
      "\n"
     ]
    }
   ],
   "source": [
    "nn(public_deno, deno_embed)\n",
    "nn(public_deno + gov_cono, deno_embed)\n",
    "nn(public_deno + gov_cono, deno_embed + cono_embed)"
   ]
  },
  {
   "cell_type": "code",
   "execution_count": 12,
   "metadata": {},
   "outputs": [
    {
     "name": "stdout",
     "output_type": "stream",
     "text": [
      "1.0000\tgovernmentrun\n",
      "0.8756\tdeductibility\n",
      "0.8610\temployerbased\n",
      "0.8578\tschip\n",
      "0.8492\tmedicare_and_medicaid\n",
      "0.8459\thealth_care_system\n",
      "0.8342\tquality_health_care\n",
      "0.8315\tfeeforservice\n",
      "0.8291\tcopayment\n",
      "0.8243\tpercent_of_poverty\n",
      "0.8229\thealth_care_bill\n",
      "\n",
      "0.9376\tgovernmentrun\n",
      "0.8365\tdeductibility\n",
      "0.8216\tschip\n",
      "0.8168\temployerbased\n",
      "0.8042\tquality_health_care\n",
      "0.7967\tmedicare_and_medicaid\n",
      "0.7945\thealth_care_system\n",
      "0.7859\tgovernmentrun_health_care\n",
      "0.7849\tpercent_of_poverty\n",
      "0.7844\tquality_of_care\n",
      "0.7819\tschip_program\n",
      "\n",
      "0.8192\temployerbased\n",
      "0.8106\thipcs\n",
      "0.8096\tthe_unemployed_act\n",
      "0.8059\thealth_care_system\n",
      "0.7969\thealth_insurance_companies\n",
      "0.7948\thealth_care_providers\n",
      "0.7928\tquality_health_care\n",
      "0.7885\tpreventive\n",
      "0.7875\thealth_care\n",
      "0.7866\ttrauma\n",
      "0.7857\tmanaged_care\n",
      "\n"
     ]
    }
   ],
   "source": [
    "nn(gov_deno, deno_embed)\n",
    "nn(gov_deno + public_cono, deno_embed)\n",
    "nn(gov_deno + public_cono, deno_embed + cono_embed)"
   ]
  },
  {
   "cell_type": "markdown",
   "metadata": {},
   "source": [
    "### A"
   ]
  },
  {
   "cell_type": "code",
   "execution_count": 13,
   "metadata": {},
   "outputs": [
    {
     "name": "stdout",
     "output_type": "stream",
     "text": [
      "0.8179\tundocumented\n",
      "0.6731\tspray\n",
      "0.6668\tinclusive\n",
      "0.6603\tlowell\n",
      "0.6589\tellis\n",
      "0.6531\tundercover\n",
      "0.6508\tforks\n",
      "0.6440\tranger\n",
      "0.6416\tdepartment_of_justices\n",
      "0.6359\tthe_american_fisheries_act\n",
      "0.6325\tthe_commemorative_works_act\n",
      "\n"
     ]
    }
   ],
   "source": [
    "nn(public_deno - gov_deno + undoc_deno, deno_embed)"
   ]
  },
  {
   "cell_type": "markdown",
   "metadata": {},
   "source": [
    "## Handpicking OOV"
   ]
  },
  {
   "cell_type": "code",
   "execution_count": 14,
   "metadata": {},
   "outputs": [
    {
     "name": "stdout",
     "output_type": "stream",
     "text": [
      "w1\tw2\tpretrained\tdeno\tcono\tdiff\n",
      "government\twashington\t0.182\t0.0771\t0.6915\t-0.6144\n",
      "estate_tax\tdeath_tax\t0.8886\t0.4709\t-0.3783\t0.8492\n",
      "capitalism\tfree_market\t0.6903\t0.1722\t0.0478\t0.1244\n",
      "undocumented\tillegal_aliens\t0.7526\t0.2965\t0.4032\t-0.1067\n",
      "foreign_trade\tinternational_trade\t0.7468\t0.8029\t0.3232\t0.4797\n",
      "public_option\tgovernmentrun\t0.5419\t0.5\t-0.7041\t1.2041\n",
      "political_speech\tcampaign_spending\t0.8659\t0.1751\t0.0872\t0.0879\n",
      "cut_taxes\ttrickledown\t0.639\t0.4717\t-0.2564\t0.7281\n"
     ]
    }
   ],
   "source": [
    "luntz = [\n",
    "    # Luntz Report, all GOP euphemisms\n",
    "    ('government', 'washington'),\n",
    "    # ('private_account', 'personal_account'),\n",
    "    # ('tax_reform', 'tax_simplification'),\n",
    "    ('estate_tax', 'death_tax'),\n",
    "    ('capitalism', 'free_market'),  # global economy, globalization\n",
    "    # ('outsourcing', 'innovation'),  # \"root cause\" of outsourcing, regulation\n",
    "    ('undocumented', 'illegal_aliens'),  # OOV undocumented_workers\n",
    "    ('foreign_trade', 'international_trade'),  # foreign, global all bad\n",
    "    # ('drilling_for_oil', 'exploring_for_energy'),\n",
    "    # ('drilling', 'energy_exploration'),\n",
    "    # ('tort_reform', 'lawsuit_abuse_reform'),\n",
    "    # ('trial_lawyer', 'personal_injury_lawyer'),  # aka ambulance chasers\n",
    "    # ('corporate_transparency', 'corporate_accountability'),\n",
    "    # ('school_choice', 'parental_choice'),  # equal_opportunity_in_education\n",
    "    #('healthcare_choice', 'right_to_choose')\n",
    "    \n",
    "    # Own Cherries\n",
    "    ('public_option', 'governmentrun'),\n",
    "    ('political_speech', 'campaign_spending'),  # hard example\n",
    "    ('cut_taxes', 'trickledown')  # OOV supplyside\n",
    "]\n",
    "tabulate_cos_sim(luntz, deno_embed, cono_embed)"
   ]
  }
 ],
 "metadata": {
  "kernelspec": {
   "display_name": "Python 3",
   "language": "python",
   "name": "python3"
  },
  "language_info": {
   "codemirror_mode": {
    "name": "ipython",
    "version": 3
   },
   "file_extension": ".py",
   "mimetype": "text/x-python",
   "name": "python",
   "nbconvert_exporter": "python",
   "pygments_lexer": "ipython3",
   "version": "3.7.5"
  }
 },
 "nbformat": 4,
 "nbformat_minor": 2
}
